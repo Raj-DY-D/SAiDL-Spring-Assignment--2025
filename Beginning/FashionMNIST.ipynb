{
  "nbformat": 4,
  "nbformat_minor": 0,
  "metadata": {
    "colab": {
      "provenance": [],
      "gpuType": "T4"
    },
    "kernelspec": {
      "name": "python3",
      "display_name": "Python 3"
    },
    "language_info": {
      "name": "python"
    },
    "widgets": {
      "application/vnd.jupyter.widget-state+json": {
        "95027d3e13654cfb962855a044959c28": {
          "model_module": "@jupyter-widgets/controls",
          "model_name": "HBoxModel",
          "model_module_version": "1.5.0",
          "state": {
            "_dom_classes": [],
            "_model_module": "@jupyter-widgets/controls",
            "_model_module_version": "1.5.0",
            "_model_name": "HBoxModel",
            "_view_count": null,
            "_view_module": "@jupyter-widgets/controls",
            "_view_module_version": "1.5.0",
            "_view_name": "HBoxView",
            "box_style": "",
            "children": [
              "IPY_MODEL_a8fe58eb227440d7b47ce41f42306eb4",
              "IPY_MODEL_f54a2fb8c3394c63b98a93bba8b717e8",
              "IPY_MODEL_4e2ce6fb83564a46897cd729f98a6592"
            ],
            "layout": "IPY_MODEL_7068d03be7a640b2b508f743e9fdc3e8"
          }
        },
        "a8fe58eb227440d7b47ce41f42306eb4": {
          "model_module": "@jupyter-widgets/controls",
          "model_name": "HTMLModel",
          "model_module_version": "1.5.0",
          "state": {
            "_dom_classes": [],
            "_model_module": "@jupyter-widgets/controls",
            "_model_module_version": "1.5.0",
            "_model_name": "HTMLModel",
            "_view_count": null,
            "_view_module": "@jupyter-widgets/controls",
            "_view_module_version": "1.5.0",
            "_view_name": "HTMLView",
            "description": "",
            "description_tooltip": null,
            "layout": "IPY_MODEL_6e189a6381e1440fa2478a2d9eb06b3d",
            "placeholder": "​",
            "style": "IPY_MODEL_430c3c65401a41e69360847d39ace023",
            "value": "100%"
          }
        },
        "f54a2fb8c3394c63b98a93bba8b717e8": {
          "model_module": "@jupyter-widgets/controls",
          "model_name": "FloatProgressModel",
          "model_module_version": "1.5.0",
          "state": {
            "_dom_classes": [],
            "_model_module": "@jupyter-widgets/controls",
            "_model_module_version": "1.5.0",
            "_model_name": "FloatProgressModel",
            "_view_count": null,
            "_view_module": "@jupyter-widgets/controls",
            "_view_module_version": "1.5.0",
            "_view_name": "ProgressView",
            "bar_style": "success",
            "description": "",
            "description_tooltip": null,
            "layout": "IPY_MODEL_d162579b1fe04217a451ff3313924555",
            "max": 3,
            "min": 0,
            "orientation": "horizontal",
            "style": "IPY_MODEL_e8c8c3d1d6204be5ada8075e615fa237",
            "value": 3
          }
        },
        "4e2ce6fb83564a46897cd729f98a6592": {
          "model_module": "@jupyter-widgets/controls",
          "model_name": "HTMLModel",
          "model_module_version": "1.5.0",
          "state": {
            "_dom_classes": [],
            "_model_module": "@jupyter-widgets/controls",
            "_model_module_version": "1.5.0",
            "_model_name": "HTMLModel",
            "_view_count": null,
            "_view_module": "@jupyter-widgets/controls",
            "_view_module_version": "1.5.0",
            "_view_name": "HTMLView",
            "description": "",
            "description_tooltip": null,
            "layout": "IPY_MODEL_5ea78663b2164925981ba55e088faf7e",
            "placeholder": "​",
            "style": "IPY_MODEL_06c2bd6ff2ea4529809f2c71538e9ff8",
            "value": " 3/3 [00:30&lt;00:00,  9.53s/it]"
          }
        },
        "7068d03be7a640b2b508f743e9fdc3e8": {
          "model_module": "@jupyter-widgets/base",
          "model_name": "LayoutModel",
          "model_module_version": "1.2.0",
          "state": {
            "_model_module": "@jupyter-widgets/base",
            "_model_module_version": "1.2.0",
            "_model_name": "LayoutModel",
            "_view_count": null,
            "_view_module": "@jupyter-widgets/base",
            "_view_module_version": "1.2.0",
            "_view_name": "LayoutView",
            "align_content": null,
            "align_items": null,
            "align_self": null,
            "border": null,
            "bottom": null,
            "display": null,
            "flex": null,
            "flex_flow": null,
            "grid_area": null,
            "grid_auto_columns": null,
            "grid_auto_flow": null,
            "grid_auto_rows": null,
            "grid_column": null,
            "grid_gap": null,
            "grid_row": null,
            "grid_template_areas": null,
            "grid_template_columns": null,
            "grid_template_rows": null,
            "height": null,
            "justify_content": null,
            "justify_items": null,
            "left": null,
            "margin": null,
            "max_height": null,
            "max_width": null,
            "min_height": null,
            "min_width": null,
            "object_fit": null,
            "object_position": null,
            "order": null,
            "overflow": null,
            "overflow_x": null,
            "overflow_y": null,
            "padding": null,
            "right": null,
            "top": null,
            "visibility": null,
            "width": null
          }
        },
        "6e189a6381e1440fa2478a2d9eb06b3d": {
          "model_module": "@jupyter-widgets/base",
          "model_name": "LayoutModel",
          "model_module_version": "1.2.0",
          "state": {
            "_model_module": "@jupyter-widgets/base",
            "_model_module_version": "1.2.0",
            "_model_name": "LayoutModel",
            "_view_count": null,
            "_view_module": "@jupyter-widgets/base",
            "_view_module_version": "1.2.0",
            "_view_name": "LayoutView",
            "align_content": null,
            "align_items": null,
            "align_self": null,
            "border": null,
            "bottom": null,
            "display": null,
            "flex": null,
            "flex_flow": null,
            "grid_area": null,
            "grid_auto_columns": null,
            "grid_auto_flow": null,
            "grid_auto_rows": null,
            "grid_column": null,
            "grid_gap": null,
            "grid_row": null,
            "grid_template_areas": null,
            "grid_template_columns": null,
            "grid_template_rows": null,
            "height": null,
            "justify_content": null,
            "justify_items": null,
            "left": null,
            "margin": null,
            "max_height": null,
            "max_width": null,
            "min_height": null,
            "min_width": null,
            "object_fit": null,
            "object_position": null,
            "order": null,
            "overflow": null,
            "overflow_x": null,
            "overflow_y": null,
            "padding": null,
            "right": null,
            "top": null,
            "visibility": null,
            "width": null
          }
        },
        "430c3c65401a41e69360847d39ace023": {
          "model_module": "@jupyter-widgets/controls",
          "model_name": "DescriptionStyleModel",
          "model_module_version": "1.5.0",
          "state": {
            "_model_module": "@jupyter-widgets/controls",
            "_model_module_version": "1.5.0",
            "_model_name": "DescriptionStyleModel",
            "_view_count": null,
            "_view_module": "@jupyter-widgets/base",
            "_view_module_version": "1.2.0",
            "_view_name": "StyleView",
            "description_width": ""
          }
        },
        "d162579b1fe04217a451ff3313924555": {
          "model_module": "@jupyter-widgets/base",
          "model_name": "LayoutModel",
          "model_module_version": "1.2.0",
          "state": {
            "_model_module": "@jupyter-widgets/base",
            "_model_module_version": "1.2.0",
            "_model_name": "LayoutModel",
            "_view_count": null,
            "_view_module": "@jupyter-widgets/base",
            "_view_module_version": "1.2.0",
            "_view_name": "LayoutView",
            "align_content": null,
            "align_items": null,
            "align_self": null,
            "border": null,
            "bottom": null,
            "display": null,
            "flex": null,
            "flex_flow": null,
            "grid_area": null,
            "grid_auto_columns": null,
            "grid_auto_flow": null,
            "grid_auto_rows": null,
            "grid_column": null,
            "grid_gap": null,
            "grid_row": null,
            "grid_template_areas": null,
            "grid_template_columns": null,
            "grid_template_rows": null,
            "height": null,
            "justify_content": null,
            "justify_items": null,
            "left": null,
            "margin": null,
            "max_height": null,
            "max_width": null,
            "min_height": null,
            "min_width": null,
            "object_fit": null,
            "object_position": null,
            "order": null,
            "overflow": null,
            "overflow_x": null,
            "overflow_y": null,
            "padding": null,
            "right": null,
            "top": null,
            "visibility": null,
            "width": null
          }
        },
        "e8c8c3d1d6204be5ada8075e615fa237": {
          "model_module": "@jupyter-widgets/controls",
          "model_name": "ProgressStyleModel",
          "model_module_version": "1.5.0",
          "state": {
            "_model_module": "@jupyter-widgets/controls",
            "_model_module_version": "1.5.0",
            "_model_name": "ProgressStyleModel",
            "_view_count": null,
            "_view_module": "@jupyter-widgets/base",
            "_view_module_version": "1.2.0",
            "_view_name": "StyleView",
            "bar_color": null,
            "description_width": ""
          }
        },
        "5ea78663b2164925981ba55e088faf7e": {
          "model_module": "@jupyter-widgets/base",
          "model_name": "LayoutModel",
          "model_module_version": "1.2.0",
          "state": {
            "_model_module": "@jupyter-widgets/base",
            "_model_module_version": "1.2.0",
            "_model_name": "LayoutModel",
            "_view_count": null,
            "_view_module": "@jupyter-widgets/base",
            "_view_module_version": "1.2.0",
            "_view_name": "LayoutView",
            "align_content": null,
            "align_items": null,
            "align_self": null,
            "border": null,
            "bottom": null,
            "display": null,
            "flex": null,
            "flex_flow": null,
            "grid_area": null,
            "grid_auto_columns": null,
            "grid_auto_flow": null,
            "grid_auto_rows": null,
            "grid_column": null,
            "grid_gap": null,
            "grid_row": null,
            "grid_template_areas": null,
            "grid_template_columns": null,
            "grid_template_rows": null,
            "height": null,
            "justify_content": null,
            "justify_items": null,
            "left": null,
            "margin": null,
            "max_height": null,
            "max_width": null,
            "min_height": null,
            "min_width": null,
            "object_fit": null,
            "object_position": null,
            "order": null,
            "overflow": null,
            "overflow_x": null,
            "overflow_y": null,
            "padding": null,
            "right": null,
            "top": null,
            "visibility": null,
            "width": null
          }
        },
        "06c2bd6ff2ea4529809f2c71538e9ff8": {
          "model_module": "@jupyter-widgets/controls",
          "model_name": "DescriptionStyleModel",
          "model_module_version": "1.5.0",
          "state": {
            "_model_module": "@jupyter-widgets/controls",
            "_model_module_version": "1.5.0",
            "_model_name": "DescriptionStyleModel",
            "_view_count": null,
            "_view_module": "@jupyter-widgets/base",
            "_view_module_version": "1.2.0",
            "_view_name": "StyleView",
            "description_width": ""
          }
        },
        "fc6f151908da419ab18f4f6741a2ad56": {
          "model_module": "@jupyter-widgets/controls",
          "model_name": "HBoxModel",
          "model_module_version": "1.5.0",
          "state": {
            "_dom_classes": [],
            "_model_module": "@jupyter-widgets/controls",
            "_model_module_version": "1.5.0",
            "_model_name": "HBoxModel",
            "_view_count": null,
            "_view_module": "@jupyter-widgets/controls",
            "_view_module_version": "1.5.0",
            "_view_name": "HBoxView",
            "box_style": "",
            "children": [
              "IPY_MODEL_9b0b8ad0e75347e2b0dd93cb79a89853",
              "IPY_MODEL_458f2ef13e7d4d798d19424a45d8f214",
              "IPY_MODEL_244c5734aacc470ba9eddd22bbb441da"
            ],
            "layout": "IPY_MODEL_8c786c05ba19458f830c63799a104c4a"
          }
        },
        "9b0b8ad0e75347e2b0dd93cb79a89853": {
          "model_module": "@jupyter-widgets/controls",
          "model_name": "HTMLModel",
          "model_module_version": "1.5.0",
          "state": {
            "_dom_classes": [],
            "_model_module": "@jupyter-widgets/controls",
            "_model_module_version": "1.5.0",
            "_model_name": "HTMLModel",
            "_view_count": null,
            "_view_module": "@jupyter-widgets/controls",
            "_view_module_version": "1.5.0",
            "_view_name": "HTMLView",
            "description": "",
            "description_tooltip": null,
            "layout": "IPY_MODEL_4737da8aac2e46a4bd2bd39b8dc37f88",
            "placeholder": "​",
            "style": "IPY_MODEL_c600bd631e3a4e02b0e9a8e005599e2f",
            "value": "100%"
          }
        },
        "458f2ef13e7d4d798d19424a45d8f214": {
          "model_module": "@jupyter-widgets/controls",
          "model_name": "FloatProgressModel",
          "model_module_version": "1.5.0",
          "state": {
            "_dom_classes": [],
            "_model_module": "@jupyter-widgets/controls",
            "_model_module_version": "1.5.0",
            "_model_name": "FloatProgressModel",
            "_view_count": null,
            "_view_module": "@jupyter-widgets/controls",
            "_view_module_version": "1.5.0",
            "_view_name": "ProgressView",
            "bar_style": "success",
            "description": "",
            "description_tooltip": null,
            "layout": "IPY_MODEL_87ee5731b5394757a67a19bbea6ddaf3",
            "max": 313,
            "min": 0,
            "orientation": "horizontal",
            "style": "IPY_MODEL_302e67d1d87442fcbb9f3072caf430e0",
            "value": 313
          }
        },
        "244c5734aacc470ba9eddd22bbb441da": {
          "model_module": "@jupyter-widgets/controls",
          "model_name": "HTMLModel",
          "model_module_version": "1.5.0",
          "state": {
            "_dom_classes": [],
            "_model_module": "@jupyter-widgets/controls",
            "_model_module_version": "1.5.0",
            "_model_name": "HTMLModel",
            "_view_count": null,
            "_view_module": "@jupyter-widgets/controls",
            "_view_module_version": "1.5.0",
            "_view_name": "HTMLView",
            "description": "",
            "description_tooltip": null,
            "layout": "IPY_MODEL_3eb6b32a12124131af33d73bfe28c4ff",
            "placeholder": "​",
            "style": "IPY_MODEL_ccd36eb080414d58a0716a9e8db00350",
            "value": " 313/313 [00:00&lt;00:00, 319.02it/s]"
          }
        },
        "8c786c05ba19458f830c63799a104c4a": {
          "model_module": "@jupyter-widgets/base",
          "model_name": "LayoutModel",
          "model_module_version": "1.2.0",
          "state": {
            "_model_module": "@jupyter-widgets/base",
            "_model_module_version": "1.2.0",
            "_model_name": "LayoutModel",
            "_view_count": null,
            "_view_module": "@jupyter-widgets/base",
            "_view_module_version": "1.2.0",
            "_view_name": "LayoutView",
            "align_content": null,
            "align_items": null,
            "align_self": null,
            "border": null,
            "bottom": null,
            "display": null,
            "flex": null,
            "flex_flow": null,
            "grid_area": null,
            "grid_auto_columns": null,
            "grid_auto_flow": null,
            "grid_auto_rows": null,
            "grid_column": null,
            "grid_gap": null,
            "grid_row": null,
            "grid_template_areas": null,
            "grid_template_columns": null,
            "grid_template_rows": null,
            "height": null,
            "justify_content": null,
            "justify_items": null,
            "left": null,
            "margin": null,
            "max_height": null,
            "max_width": null,
            "min_height": null,
            "min_width": null,
            "object_fit": null,
            "object_position": null,
            "order": null,
            "overflow": null,
            "overflow_x": null,
            "overflow_y": null,
            "padding": null,
            "right": null,
            "top": null,
            "visibility": null,
            "width": null
          }
        },
        "4737da8aac2e46a4bd2bd39b8dc37f88": {
          "model_module": "@jupyter-widgets/base",
          "model_name": "LayoutModel",
          "model_module_version": "1.2.0",
          "state": {
            "_model_module": "@jupyter-widgets/base",
            "_model_module_version": "1.2.0",
            "_model_name": "LayoutModel",
            "_view_count": null,
            "_view_module": "@jupyter-widgets/base",
            "_view_module_version": "1.2.0",
            "_view_name": "LayoutView",
            "align_content": null,
            "align_items": null,
            "align_self": null,
            "border": null,
            "bottom": null,
            "display": null,
            "flex": null,
            "flex_flow": null,
            "grid_area": null,
            "grid_auto_columns": null,
            "grid_auto_flow": null,
            "grid_auto_rows": null,
            "grid_column": null,
            "grid_gap": null,
            "grid_row": null,
            "grid_template_areas": null,
            "grid_template_columns": null,
            "grid_template_rows": null,
            "height": null,
            "justify_content": null,
            "justify_items": null,
            "left": null,
            "margin": null,
            "max_height": null,
            "max_width": null,
            "min_height": null,
            "min_width": null,
            "object_fit": null,
            "object_position": null,
            "order": null,
            "overflow": null,
            "overflow_x": null,
            "overflow_y": null,
            "padding": null,
            "right": null,
            "top": null,
            "visibility": null,
            "width": null
          }
        },
        "c600bd631e3a4e02b0e9a8e005599e2f": {
          "model_module": "@jupyter-widgets/controls",
          "model_name": "DescriptionStyleModel",
          "model_module_version": "1.5.0",
          "state": {
            "_model_module": "@jupyter-widgets/controls",
            "_model_module_version": "1.5.0",
            "_model_name": "DescriptionStyleModel",
            "_view_count": null,
            "_view_module": "@jupyter-widgets/base",
            "_view_module_version": "1.2.0",
            "_view_name": "StyleView",
            "description_width": ""
          }
        },
        "87ee5731b5394757a67a19bbea6ddaf3": {
          "model_module": "@jupyter-widgets/base",
          "model_name": "LayoutModel",
          "model_module_version": "1.2.0",
          "state": {
            "_model_module": "@jupyter-widgets/base",
            "_model_module_version": "1.2.0",
            "_model_name": "LayoutModel",
            "_view_count": null,
            "_view_module": "@jupyter-widgets/base",
            "_view_module_version": "1.2.0",
            "_view_name": "LayoutView",
            "align_content": null,
            "align_items": null,
            "align_self": null,
            "border": null,
            "bottom": null,
            "display": null,
            "flex": null,
            "flex_flow": null,
            "grid_area": null,
            "grid_auto_columns": null,
            "grid_auto_flow": null,
            "grid_auto_rows": null,
            "grid_column": null,
            "grid_gap": null,
            "grid_row": null,
            "grid_template_areas": null,
            "grid_template_columns": null,
            "grid_template_rows": null,
            "height": null,
            "justify_content": null,
            "justify_items": null,
            "left": null,
            "margin": null,
            "max_height": null,
            "max_width": null,
            "min_height": null,
            "min_width": null,
            "object_fit": null,
            "object_position": null,
            "order": null,
            "overflow": null,
            "overflow_x": null,
            "overflow_y": null,
            "padding": null,
            "right": null,
            "top": null,
            "visibility": null,
            "width": null
          }
        },
        "302e67d1d87442fcbb9f3072caf430e0": {
          "model_module": "@jupyter-widgets/controls",
          "model_name": "ProgressStyleModel",
          "model_module_version": "1.5.0",
          "state": {
            "_model_module": "@jupyter-widgets/controls",
            "_model_module_version": "1.5.0",
            "_model_name": "ProgressStyleModel",
            "_view_count": null,
            "_view_module": "@jupyter-widgets/base",
            "_view_module_version": "1.2.0",
            "_view_name": "StyleView",
            "bar_color": null,
            "description_width": ""
          }
        },
        "3eb6b32a12124131af33d73bfe28c4ff": {
          "model_module": "@jupyter-widgets/base",
          "model_name": "LayoutModel",
          "model_module_version": "1.2.0",
          "state": {
            "_model_module": "@jupyter-widgets/base",
            "_model_module_version": "1.2.0",
            "_model_name": "LayoutModel",
            "_view_count": null,
            "_view_module": "@jupyter-widgets/base",
            "_view_module_version": "1.2.0",
            "_view_name": "LayoutView",
            "align_content": null,
            "align_items": null,
            "align_self": null,
            "border": null,
            "bottom": null,
            "display": null,
            "flex": null,
            "flex_flow": null,
            "grid_area": null,
            "grid_auto_columns": null,
            "grid_auto_flow": null,
            "grid_auto_rows": null,
            "grid_column": null,
            "grid_gap": null,
            "grid_row": null,
            "grid_template_areas": null,
            "grid_template_columns": null,
            "grid_template_rows": null,
            "height": null,
            "justify_content": null,
            "justify_items": null,
            "left": null,
            "margin": null,
            "max_height": null,
            "max_width": null,
            "min_height": null,
            "min_width": null,
            "object_fit": null,
            "object_position": null,
            "order": null,
            "overflow": null,
            "overflow_x": null,
            "overflow_y": null,
            "padding": null,
            "right": null,
            "top": null,
            "visibility": null,
            "width": null
          }
        },
        "ccd36eb080414d58a0716a9e8db00350": {
          "model_module": "@jupyter-widgets/controls",
          "model_name": "DescriptionStyleModel",
          "model_module_version": "1.5.0",
          "state": {
            "_model_module": "@jupyter-widgets/controls",
            "_model_module_version": "1.5.0",
            "_model_name": "DescriptionStyleModel",
            "_view_count": null,
            "_view_module": "@jupyter-widgets/base",
            "_view_module_version": "1.2.0",
            "_view_name": "StyleView",
            "description_width": ""
          }
        },
        "62fc1e7078b54968b274e8119822f197": {
          "model_module": "@jupyter-widgets/controls",
          "model_name": "HBoxModel",
          "model_module_version": "1.5.0",
          "state": {
            "_dom_classes": [],
            "_model_module": "@jupyter-widgets/controls",
            "_model_module_version": "1.5.0",
            "_model_name": "HBoxModel",
            "_view_count": null,
            "_view_module": "@jupyter-widgets/controls",
            "_view_module_version": "1.5.0",
            "_view_name": "HBoxView",
            "box_style": "",
            "children": [
              "IPY_MODEL_667b54ea0f7d4b5995c467675ef80623",
              "IPY_MODEL_5790906c5dc24f6ca1ef92521f0b7799",
              "IPY_MODEL_cb7b737bb7564bce9a5548324ee71d7c"
            ],
            "layout": "IPY_MODEL_933acff3140f4edc90ad6a98ebe6ecc3"
          }
        },
        "667b54ea0f7d4b5995c467675ef80623": {
          "model_module": "@jupyter-widgets/controls",
          "model_name": "HTMLModel",
          "model_module_version": "1.5.0",
          "state": {
            "_dom_classes": [],
            "_model_module": "@jupyter-widgets/controls",
            "_model_module_version": "1.5.0",
            "_model_name": "HTMLModel",
            "_view_count": null,
            "_view_module": "@jupyter-widgets/controls",
            "_view_module_version": "1.5.0",
            "_view_name": "HTMLView",
            "description": "",
            "description_tooltip": null,
            "layout": "IPY_MODEL_2fd6e392a207486a946d73f3791803f7",
            "placeholder": "​",
            "style": "IPY_MODEL_46d0809b551f4f52acb224bcee83ce92",
            "value": "100%"
          }
        },
        "5790906c5dc24f6ca1ef92521f0b7799": {
          "model_module": "@jupyter-widgets/controls",
          "model_name": "FloatProgressModel",
          "model_module_version": "1.5.0",
          "state": {
            "_dom_classes": [],
            "_model_module": "@jupyter-widgets/controls",
            "_model_module_version": "1.5.0",
            "_model_name": "FloatProgressModel",
            "_view_count": null,
            "_view_module": "@jupyter-widgets/controls",
            "_view_module_version": "1.5.0",
            "_view_name": "ProgressView",
            "bar_style": "success",
            "description": "",
            "description_tooltip": null,
            "layout": "IPY_MODEL_d752e8566c34417ba288bc534db62c9e",
            "max": 3,
            "min": 0,
            "orientation": "horizontal",
            "style": "IPY_MODEL_ccea97154fe34871a8e552f26b9c919a",
            "value": 3
          }
        },
        "cb7b737bb7564bce9a5548324ee71d7c": {
          "model_module": "@jupyter-widgets/controls",
          "model_name": "HTMLModel",
          "model_module_version": "1.5.0",
          "state": {
            "_dom_classes": [],
            "_model_module": "@jupyter-widgets/controls",
            "_model_module_version": "1.5.0",
            "_model_name": "HTMLModel",
            "_view_count": null,
            "_view_module": "@jupyter-widgets/controls",
            "_view_module_version": "1.5.0",
            "_view_name": "HTMLView",
            "description": "",
            "description_tooltip": null,
            "layout": "IPY_MODEL_c28351915caf46bda9bcf762529bd16f",
            "placeholder": "​",
            "style": "IPY_MODEL_9adf8604a8c4477f868f6b137a621b4c",
            "value": " 3/3 [00:42&lt;00:00, 14.17s/it]"
          }
        },
        "933acff3140f4edc90ad6a98ebe6ecc3": {
          "model_module": "@jupyter-widgets/base",
          "model_name": "LayoutModel",
          "model_module_version": "1.2.0",
          "state": {
            "_model_module": "@jupyter-widgets/base",
            "_model_module_version": "1.2.0",
            "_model_name": "LayoutModel",
            "_view_count": null,
            "_view_module": "@jupyter-widgets/base",
            "_view_module_version": "1.2.0",
            "_view_name": "LayoutView",
            "align_content": null,
            "align_items": null,
            "align_self": null,
            "border": null,
            "bottom": null,
            "display": null,
            "flex": null,
            "flex_flow": null,
            "grid_area": null,
            "grid_auto_columns": null,
            "grid_auto_flow": null,
            "grid_auto_rows": null,
            "grid_column": null,
            "grid_gap": null,
            "grid_row": null,
            "grid_template_areas": null,
            "grid_template_columns": null,
            "grid_template_rows": null,
            "height": null,
            "justify_content": null,
            "justify_items": null,
            "left": null,
            "margin": null,
            "max_height": null,
            "max_width": null,
            "min_height": null,
            "min_width": null,
            "object_fit": null,
            "object_position": null,
            "order": null,
            "overflow": null,
            "overflow_x": null,
            "overflow_y": null,
            "padding": null,
            "right": null,
            "top": null,
            "visibility": null,
            "width": null
          }
        },
        "2fd6e392a207486a946d73f3791803f7": {
          "model_module": "@jupyter-widgets/base",
          "model_name": "LayoutModel",
          "model_module_version": "1.2.0",
          "state": {
            "_model_module": "@jupyter-widgets/base",
            "_model_module_version": "1.2.0",
            "_model_name": "LayoutModel",
            "_view_count": null,
            "_view_module": "@jupyter-widgets/base",
            "_view_module_version": "1.2.0",
            "_view_name": "LayoutView",
            "align_content": null,
            "align_items": null,
            "align_self": null,
            "border": null,
            "bottom": null,
            "display": null,
            "flex": null,
            "flex_flow": null,
            "grid_area": null,
            "grid_auto_columns": null,
            "grid_auto_flow": null,
            "grid_auto_rows": null,
            "grid_column": null,
            "grid_gap": null,
            "grid_row": null,
            "grid_template_areas": null,
            "grid_template_columns": null,
            "grid_template_rows": null,
            "height": null,
            "justify_content": null,
            "justify_items": null,
            "left": null,
            "margin": null,
            "max_height": null,
            "max_width": null,
            "min_height": null,
            "min_width": null,
            "object_fit": null,
            "object_position": null,
            "order": null,
            "overflow": null,
            "overflow_x": null,
            "overflow_y": null,
            "padding": null,
            "right": null,
            "top": null,
            "visibility": null,
            "width": null
          }
        },
        "46d0809b551f4f52acb224bcee83ce92": {
          "model_module": "@jupyter-widgets/controls",
          "model_name": "DescriptionStyleModel",
          "model_module_version": "1.5.0",
          "state": {
            "_model_module": "@jupyter-widgets/controls",
            "_model_module_version": "1.5.0",
            "_model_name": "DescriptionStyleModel",
            "_view_count": null,
            "_view_module": "@jupyter-widgets/base",
            "_view_module_version": "1.2.0",
            "_view_name": "StyleView",
            "description_width": ""
          }
        },
        "d752e8566c34417ba288bc534db62c9e": {
          "model_module": "@jupyter-widgets/base",
          "model_name": "LayoutModel",
          "model_module_version": "1.2.0",
          "state": {
            "_model_module": "@jupyter-widgets/base",
            "_model_module_version": "1.2.0",
            "_model_name": "LayoutModel",
            "_view_count": null,
            "_view_module": "@jupyter-widgets/base",
            "_view_module_version": "1.2.0",
            "_view_name": "LayoutView",
            "align_content": null,
            "align_items": null,
            "align_self": null,
            "border": null,
            "bottom": null,
            "display": null,
            "flex": null,
            "flex_flow": null,
            "grid_area": null,
            "grid_auto_columns": null,
            "grid_auto_flow": null,
            "grid_auto_rows": null,
            "grid_column": null,
            "grid_gap": null,
            "grid_row": null,
            "grid_template_areas": null,
            "grid_template_columns": null,
            "grid_template_rows": null,
            "height": null,
            "justify_content": null,
            "justify_items": null,
            "left": null,
            "margin": null,
            "max_height": null,
            "max_width": null,
            "min_height": null,
            "min_width": null,
            "object_fit": null,
            "object_position": null,
            "order": null,
            "overflow": null,
            "overflow_x": null,
            "overflow_y": null,
            "padding": null,
            "right": null,
            "top": null,
            "visibility": null,
            "width": null
          }
        },
        "ccea97154fe34871a8e552f26b9c919a": {
          "model_module": "@jupyter-widgets/controls",
          "model_name": "ProgressStyleModel",
          "model_module_version": "1.5.0",
          "state": {
            "_model_module": "@jupyter-widgets/controls",
            "_model_module_version": "1.5.0",
            "_model_name": "ProgressStyleModel",
            "_view_count": null,
            "_view_module": "@jupyter-widgets/base",
            "_view_module_version": "1.2.0",
            "_view_name": "StyleView",
            "bar_color": null,
            "description_width": ""
          }
        },
        "c28351915caf46bda9bcf762529bd16f": {
          "model_module": "@jupyter-widgets/base",
          "model_name": "LayoutModel",
          "model_module_version": "1.2.0",
          "state": {
            "_model_module": "@jupyter-widgets/base",
            "_model_module_version": "1.2.0",
            "_model_name": "LayoutModel",
            "_view_count": null,
            "_view_module": "@jupyter-widgets/base",
            "_view_module_version": "1.2.0",
            "_view_name": "LayoutView",
            "align_content": null,
            "align_items": null,
            "align_self": null,
            "border": null,
            "bottom": null,
            "display": null,
            "flex": null,
            "flex_flow": null,
            "grid_area": null,
            "grid_auto_columns": null,
            "grid_auto_flow": null,
            "grid_auto_rows": null,
            "grid_column": null,
            "grid_gap": null,
            "grid_row": null,
            "grid_template_areas": null,
            "grid_template_columns": null,
            "grid_template_rows": null,
            "height": null,
            "justify_content": null,
            "justify_items": null,
            "left": null,
            "margin": null,
            "max_height": null,
            "max_width": null,
            "min_height": null,
            "min_width": null,
            "object_fit": null,
            "object_position": null,
            "order": null,
            "overflow": null,
            "overflow_x": null,
            "overflow_y": null,
            "padding": null,
            "right": null,
            "top": null,
            "visibility": null,
            "width": null
          }
        },
        "9adf8604a8c4477f868f6b137a621b4c": {
          "model_module": "@jupyter-widgets/controls",
          "model_name": "DescriptionStyleModel",
          "model_module_version": "1.5.0",
          "state": {
            "_model_module": "@jupyter-widgets/controls",
            "_model_module_version": "1.5.0",
            "_model_name": "DescriptionStyleModel",
            "_view_count": null,
            "_view_module": "@jupyter-widgets/base",
            "_view_module_version": "1.2.0",
            "_view_name": "StyleView",
            "description_width": ""
          }
        },
        "3e5c48b50bf349a9bdd32e984b8329ef": {
          "model_module": "@jupyter-widgets/controls",
          "model_name": "HBoxModel",
          "model_module_version": "1.5.0",
          "state": {
            "_dom_classes": [],
            "_model_module": "@jupyter-widgets/controls",
            "_model_module_version": "1.5.0",
            "_model_name": "HBoxModel",
            "_view_count": null,
            "_view_module": "@jupyter-widgets/controls",
            "_view_module_version": "1.5.0",
            "_view_name": "HBoxView",
            "box_style": "",
            "children": [
              "IPY_MODEL_763e78e3a0e348518dec3cf40c3d4113",
              "IPY_MODEL_457ec2711bc7414c8bc6b6919239281f",
              "IPY_MODEL_3dc0a2cfda4f40da9fad6f9b04c1cea9"
            ],
            "layout": "IPY_MODEL_b6dc4b32d2034edfb16a37567bd1bec4"
          }
        },
        "763e78e3a0e348518dec3cf40c3d4113": {
          "model_module": "@jupyter-widgets/controls",
          "model_name": "HTMLModel",
          "model_module_version": "1.5.0",
          "state": {
            "_dom_classes": [],
            "_model_module": "@jupyter-widgets/controls",
            "_model_module_version": "1.5.0",
            "_model_name": "HTMLModel",
            "_view_count": null,
            "_view_module": "@jupyter-widgets/controls",
            "_view_module_version": "1.5.0",
            "_view_name": "HTMLView",
            "description": "",
            "description_tooltip": null,
            "layout": "IPY_MODEL_6ae59055324a40669e02751e0818c584",
            "placeholder": "​",
            "style": "IPY_MODEL_76901c9d77de4ed9a57b990a9a1a23f2",
            "value": "100%"
          }
        },
        "457ec2711bc7414c8bc6b6919239281f": {
          "model_module": "@jupyter-widgets/controls",
          "model_name": "FloatProgressModel",
          "model_module_version": "1.5.0",
          "state": {
            "_dom_classes": [],
            "_model_module": "@jupyter-widgets/controls",
            "_model_module_version": "1.5.0",
            "_model_name": "FloatProgressModel",
            "_view_count": null,
            "_view_module": "@jupyter-widgets/controls",
            "_view_module_version": "1.5.0",
            "_view_name": "ProgressView",
            "bar_style": "success",
            "description": "",
            "description_tooltip": null,
            "layout": "IPY_MODEL_b210751388b5474299219dc4a6967f6b",
            "max": 313,
            "min": 0,
            "orientation": "horizontal",
            "style": "IPY_MODEL_96d1f9953c6b4364ae6b0ad1cd5bb8b8",
            "value": 313
          }
        },
        "3dc0a2cfda4f40da9fad6f9b04c1cea9": {
          "model_module": "@jupyter-widgets/controls",
          "model_name": "HTMLModel",
          "model_module_version": "1.5.0",
          "state": {
            "_dom_classes": [],
            "_model_module": "@jupyter-widgets/controls",
            "_model_module_version": "1.5.0",
            "_model_name": "HTMLModel",
            "_view_count": null,
            "_view_module": "@jupyter-widgets/controls",
            "_view_module_version": "1.5.0",
            "_view_name": "HTMLView",
            "description": "",
            "description_tooltip": null,
            "layout": "IPY_MODEL_b9ce9b8405a34b6599c6fb154173866f",
            "placeholder": "​",
            "style": "IPY_MODEL_b87b27665e2040ae9d18ca9089d24b0e",
            "value": " 313/313 [00:01&lt;00:00, 232.77it/s]"
          }
        },
        "b6dc4b32d2034edfb16a37567bd1bec4": {
          "model_module": "@jupyter-widgets/base",
          "model_name": "LayoutModel",
          "model_module_version": "1.2.0",
          "state": {
            "_model_module": "@jupyter-widgets/base",
            "_model_module_version": "1.2.0",
            "_model_name": "LayoutModel",
            "_view_count": null,
            "_view_module": "@jupyter-widgets/base",
            "_view_module_version": "1.2.0",
            "_view_name": "LayoutView",
            "align_content": null,
            "align_items": null,
            "align_self": null,
            "border": null,
            "bottom": null,
            "display": null,
            "flex": null,
            "flex_flow": null,
            "grid_area": null,
            "grid_auto_columns": null,
            "grid_auto_flow": null,
            "grid_auto_rows": null,
            "grid_column": null,
            "grid_gap": null,
            "grid_row": null,
            "grid_template_areas": null,
            "grid_template_columns": null,
            "grid_template_rows": null,
            "height": null,
            "justify_content": null,
            "justify_items": null,
            "left": null,
            "margin": null,
            "max_height": null,
            "max_width": null,
            "min_height": null,
            "min_width": null,
            "object_fit": null,
            "object_position": null,
            "order": null,
            "overflow": null,
            "overflow_x": null,
            "overflow_y": null,
            "padding": null,
            "right": null,
            "top": null,
            "visibility": null,
            "width": null
          }
        },
        "6ae59055324a40669e02751e0818c584": {
          "model_module": "@jupyter-widgets/base",
          "model_name": "LayoutModel",
          "model_module_version": "1.2.0",
          "state": {
            "_model_module": "@jupyter-widgets/base",
            "_model_module_version": "1.2.0",
            "_model_name": "LayoutModel",
            "_view_count": null,
            "_view_module": "@jupyter-widgets/base",
            "_view_module_version": "1.2.0",
            "_view_name": "LayoutView",
            "align_content": null,
            "align_items": null,
            "align_self": null,
            "border": null,
            "bottom": null,
            "display": null,
            "flex": null,
            "flex_flow": null,
            "grid_area": null,
            "grid_auto_columns": null,
            "grid_auto_flow": null,
            "grid_auto_rows": null,
            "grid_column": null,
            "grid_gap": null,
            "grid_row": null,
            "grid_template_areas": null,
            "grid_template_columns": null,
            "grid_template_rows": null,
            "height": null,
            "justify_content": null,
            "justify_items": null,
            "left": null,
            "margin": null,
            "max_height": null,
            "max_width": null,
            "min_height": null,
            "min_width": null,
            "object_fit": null,
            "object_position": null,
            "order": null,
            "overflow": null,
            "overflow_x": null,
            "overflow_y": null,
            "padding": null,
            "right": null,
            "top": null,
            "visibility": null,
            "width": null
          }
        },
        "76901c9d77de4ed9a57b990a9a1a23f2": {
          "model_module": "@jupyter-widgets/controls",
          "model_name": "DescriptionStyleModel",
          "model_module_version": "1.5.0",
          "state": {
            "_model_module": "@jupyter-widgets/controls",
            "_model_module_version": "1.5.0",
            "_model_name": "DescriptionStyleModel",
            "_view_count": null,
            "_view_module": "@jupyter-widgets/base",
            "_view_module_version": "1.2.0",
            "_view_name": "StyleView",
            "description_width": ""
          }
        },
        "b210751388b5474299219dc4a6967f6b": {
          "model_module": "@jupyter-widgets/base",
          "model_name": "LayoutModel",
          "model_module_version": "1.2.0",
          "state": {
            "_model_module": "@jupyter-widgets/base",
            "_model_module_version": "1.2.0",
            "_model_name": "LayoutModel",
            "_view_count": null,
            "_view_module": "@jupyter-widgets/base",
            "_view_module_version": "1.2.0",
            "_view_name": "LayoutView",
            "align_content": null,
            "align_items": null,
            "align_self": null,
            "border": null,
            "bottom": null,
            "display": null,
            "flex": null,
            "flex_flow": null,
            "grid_area": null,
            "grid_auto_columns": null,
            "grid_auto_flow": null,
            "grid_auto_rows": null,
            "grid_column": null,
            "grid_gap": null,
            "grid_row": null,
            "grid_template_areas": null,
            "grid_template_columns": null,
            "grid_template_rows": null,
            "height": null,
            "justify_content": null,
            "justify_items": null,
            "left": null,
            "margin": null,
            "max_height": null,
            "max_width": null,
            "min_height": null,
            "min_width": null,
            "object_fit": null,
            "object_position": null,
            "order": null,
            "overflow": null,
            "overflow_x": null,
            "overflow_y": null,
            "padding": null,
            "right": null,
            "top": null,
            "visibility": null,
            "width": null
          }
        },
        "96d1f9953c6b4364ae6b0ad1cd5bb8b8": {
          "model_module": "@jupyter-widgets/controls",
          "model_name": "ProgressStyleModel",
          "model_module_version": "1.5.0",
          "state": {
            "_model_module": "@jupyter-widgets/controls",
            "_model_module_version": "1.5.0",
            "_model_name": "ProgressStyleModel",
            "_view_count": null,
            "_view_module": "@jupyter-widgets/base",
            "_view_module_version": "1.2.0",
            "_view_name": "StyleView",
            "bar_color": null,
            "description_width": ""
          }
        },
        "b9ce9b8405a34b6599c6fb154173866f": {
          "model_module": "@jupyter-widgets/base",
          "model_name": "LayoutModel",
          "model_module_version": "1.2.0",
          "state": {
            "_model_module": "@jupyter-widgets/base",
            "_model_module_version": "1.2.0",
            "_model_name": "LayoutModel",
            "_view_count": null,
            "_view_module": "@jupyter-widgets/base",
            "_view_module_version": "1.2.0",
            "_view_name": "LayoutView",
            "align_content": null,
            "align_items": null,
            "align_self": null,
            "border": null,
            "bottom": null,
            "display": null,
            "flex": null,
            "flex_flow": null,
            "grid_area": null,
            "grid_auto_columns": null,
            "grid_auto_flow": null,
            "grid_auto_rows": null,
            "grid_column": null,
            "grid_gap": null,
            "grid_row": null,
            "grid_template_areas": null,
            "grid_template_columns": null,
            "grid_template_rows": null,
            "height": null,
            "justify_content": null,
            "justify_items": null,
            "left": null,
            "margin": null,
            "max_height": null,
            "max_width": null,
            "min_height": null,
            "min_width": null,
            "object_fit": null,
            "object_position": null,
            "order": null,
            "overflow": null,
            "overflow_x": null,
            "overflow_y": null,
            "padding": null,
            "right": null,
            "top": null,
            "visibility": null,
            "width": null
          }
        },
        "b87b27665e2040ae9d18ca9089d24b0e": {
          "model_module": "@jupyter-widgets/controls",
          "model_name": "DescriptionStyleModel",
          "model_module_version": "1.5.0",
          "state": {
            "_model_module": "@jupyter-widgets/controls",
            "_model_module_version": "1.5.0",
            "_model_name": "DescriptionStyleModel",
            "_view_count": null,
            "_view_module": "@jupyter-widgets/base",
            "_view_module_version": "1.2.0",
            "_view_name": "StyleView",
            "description_width": ""
          }
        },
        "85b62696244c4c0fb828a8e60b9b4791": {
          "model_module": "@jupyter-widgets/controls",
          "model_name": "HBoxModel",
          "model_module_version": "1.5.0",
          "state": {
            "_dom_classes": [],
            "_model_module": "@jupyter-widgets/controls",
            "_model_module_version": "1.5.0",
            "_model_name": "HBoxModel",
            "_view_count": null,
            "_view_module": "@jupyter-widgets/controls",
            "_view_module_version": "1.5.0",
            "_view_name": "HBoxView",
            "box_style": "",
            "children": [
              "IPY_MODEL_a83b9c7c44364b08b1a831950e17d112",
              "IPY_MODEL_a47536baf9a3425e91dba9c0738eaef5",
              "IPY_MODEL_250fe44a447e49a29590b7c1129b2082"
            ],
            "layout": "IPY_MODEL_4ffb3c76ce8148e9a76c31234ac0a284"
          }
        },
        "a83b9c7c44364b08b1a831950e17d112": {
          "model_module": "@jupyter-widgets/controls",
          "model_name": "HTMLModel",
          "model_module_version": "1.5.0",
          "state": {
            "_dom_classes": [],
            "_model_module": "@jupyter-widgets/controls",
            "_model_module_version": "1.5.0",
            "_model_name": "HTMLModel",
            "_view_count": null,
            "_view_module": "@jupyter-widgets/controls",
            "_view_module_version": "1.5.0",
            "_view_name": "HTMLView",
            "description": "",
            "description_tooltip": null,
            "layout": "IPY_MODEL_691a437b1cc8467bbb35d1d527adf768",
            "placeholder": "​",
            "style": "IPY_MODEL_5525f1fb5192438ca714c4dbf7bb195a",
            "value": "100%"
          }
        },
        "a47536baf9a3425e91dba9c0738eaef5": {
          "model_module": "@jupyter-widgets/controls",
          "model_name": "FloatProgressModel",
          "model_module_version": "1.5.0",
          "state": {
            "_dom_classes": [],
            "_model_module": "@jupyter-widgets/controls",
            "_model_module_version": "1.5.0",
            "_model_name": "FloatProgressModel",
            "_view_count": null,
            "_view_module": "@jupyter-widgets/controls",
            "_view_module_version": "1.5.0",
            "_view_name": "ProgressView",
            "bar_style": "success",
            "description": "",
            "description_tooltip": null,
            "layout": "IPY_MODEL_9e7c80a7217a4798862d5b762b715bb2",
            "max": 313,
            "min": 0,
            "orientation": "horizontal",
            "style": "IPY_MODEL_c4f8098c956a4c4cbb950e52f6865eb7",
            "value": 313
          }
        },
        "250fe44a447e49a29590b7c1129b2082": {
          "model_module": "@jupyter-widgets/controls",
          "model_name": "HTMLModel",
          "model_module_version": "1.5.0",
          "state": {
            "_dom_classes": [],
            "_model_module": "@jupyter-widgets/controls",
            "_model_module_version": "1.5.0",
            "_model_name": "HTMLModel",
            "_view_count": null,
            "_view_module": "@jupyter-widgets/controls",
            "_view_module_version": "1.5.0",
            "_view_name": "HTMLView",
            "description": "",
            "description_tooltip": null,
            "layout": "IPY_MODEL_25bd55788e814e76920ec41a1d6e815d",
            "placeholder": "​",
            "style": "IPY_MODEL_767241c3875542f694dd32bf83b3aac0",
            "value": " 313/313 [00:01&lt;00:00, 283.43it/s]"
          }
        },
        "4ffb3c76ce8148e9a76c31234ac0a284": {
          "model_module": "@jupyter-widgets/base",
          "model_name": "LayoutModel",
          "model_module_version": "1.2.0",
          "state": {
            "_model_module": "@jupyter-widgets/base",
            "_model_module_version": "1.2.0",
            "_model_name": "LayoutModel",
            "_view_count": null,
            "_view_module": "@jupyter-widgets/base",
            "_view_module_version": "1.2.0",
            "_view_name": "LayoutView",
            "align_content": null,
            "align_items": null,
            "align_self": null,
            "border": null,
            "bottom": null,
            "display": null,
            "flex": null,
            "flex_flow": null,
            "grid_area": null,
            "grid_auto_columns": null,
            "grid_auto_flow": null,
            "grid_auto_rows": null,
            "grid_column": null,
            "grid_gap": null,
            "grid_row": null,
            "grid_template_areas": null,
            "grid_template_columns": null,
            "grid_template_rows": null,
            "height": null,
            "justify_content": null,
            "justify_items": null,
            "left": null,
            "margin": null,
            "max_height": null,
            "max_width": null,
            "min_height": null,
            "min_width": null,
            "object_fit": null,
            "object_position": null,
            "order": null,
            "overflow": null,
            "overflow_x": null,
            "overflow_y": null,
            "padding": null,
            "right": null,
            "top": null,
            "visibility": null,
            "width": null
          }
        },
        "691a437b1cc8467bbb35d1d527adf768": {
          "model_module": "@jupyter-widgets/base",
          "model_name": "LayoutModel",
          "model_module_version": "1.2.0",
          "state": {
            "_model_module": "@jupyter-widgets/base",
            "_model_module_version": "1.2.0",
            "_model_name": "LayoutModel",
            "_view_count": null,
            "_view_module": "@jupyter-widgets/base",
            "_view_module_version": "1.2.0",
            "_view_name": "LayoutView",
            "align_content": null,
            "align_items": null,
            "align_self": null,
            "border": null,
            "bottom": null,
            "display": null,
            "flex": null,
            "flex_flow": null,
            "grid_area": null,
            "grid_auto_columns": null,
            "grid_auto_flow": null,
            "grid_auto_rows": null,
            "grid_column": null,
            "grid_gap": null,
            "grid_row": null,
            "grid_template_areas": null,
            "grid_template_columns": null,
            "grid_template_rows": null,
            "height": null,
            "justify_content": null,
            "justify_items": null,
            "left": null,
            "margin": null,
            "max_height": null,
            "max_width": null,
            "min_height": null,
            "min_width": null,
            "object_fit": null,
            "object_position": null,
            "order": null,
            "overflow": null,
            "overflow_x": null,
            "overflow_y": null,
            "padding": null,
            "right": null,
            "top": null,
            "visibility": null,
            "width": null
          }
        },
        "5525f1fb5192438ca714c4dbf7bb195a": {
          "model_module": "@jupyter-widgets/controls",
          "model_name": "DescriptionStyleModel",
          "model_module_version": "1.5.0",
          "state": {
            "_model_module": "@jupyter-widgets/controls",
            "_model_module_version": "1.5.0",
            "_model_name": "DescriptionStyleModel",
            "_view_count": null,
            "_view_module": "@jupyter-widgets/base",
            "_view_module_version": "1.2.0",
            "_view_name": "StyleView",
            "description_width": ""
          }
        },
        "9e7c80a7217a4798862d5b762b715bb2": {
          "model_module": "@jupyter-widgets/base",
          "model_name": "LayoutModel",
          "model_module_version": "1.2.0",
          "state": {
            "_model_module": "@jupyter-widgets/base",
            "_model_module_version": "1.2.0",
            "_model_name": "LayoutModel",
            "_view_count": null,
            "_view_module": "@jupyter-widgets/base",
            "_view_module_version": "1.2.0",
            "_view_name": "LayoutView",
            "align_content": null,
            "align_items": null,
            "align_self": null,
            "border": null,
            "bottom": null,
            "display": null,
            "flex": null,
            "flex_flow": null,
            "grid_area": null,
            "grid_auto_columns": null,
            "grid_auto_flow": null,
            "grid_auto_rows": null,
            "grid_column": null,
            "grid_gap": null,
            "grid_row": null,
            "grid_template_areas": null,
            "grid_template_columns": null,
            "grid_template_rows": null,
            "height": null,
            "justify_content": null,
            "justify_items": null,
            "left": null,
            "margin": null,
            "max_height": null,
            "max_width": null,
            "min_height": null,
            "min_width": null,
            "object_fit": null,
            "object_position": null,
            "order": null,
            "overflow": null,
            "overflow_x": null,
            "overflow_y": null,
            "padding": null,
            "right": null,
            "top": null,
            "visibility": null,
            "width": null
          }
        },
        "c4f8098c956a4c4cbb950e52f6865eb7": {
          "model_module": "@jupyter-widgets/controls",
          "model_name": "ProgressStyleModel",
          "model_module_version": "1.5.0",
          "state": {
            "_model_module": "@jupyter-widgets/controls",
            "_model_module_version": "1.5.0",
            "_model_name": "ProgressStyleModel",
            "_view_count": null,
            "_view_module": "@jupyter-widgets/base",
            "_view_module_version": "1.2.0",
            "_view_name": "StyleView",
            "bar_color": null,
            "description_width": ""
          }
        },
        "25bd55788e814e76920ec41a1d6e815d": {
          "model_module": "@jupyter-widgets/base",
          "model_name": "LayoutModel",
          "model_module_version": "1.2.0",
          "state": {
            "_model_module": "@jupyter-widgets/base",
            "_model_module_version": "1.2.0",
            "_model_name": "LayoutModel",
            "_view_count": null,
            "_view_module": "@jupyter-widgets/base",
            "_view_module_version": "1.2.0",
            "_view_name": "LayoutView",
            "align_content": null,
            "align_items": null,
            "align_self": null,
            "border": null,
            "bottom": null,
            "display": null,
            "flex": null,
            "flex_flow": null,
            "grid_area": null,
            "grid_auto_columns": null,
            "grid_auto_flow": null,
            "grid_auto_rows": null,
            "grid_column": null,
            "grid_gap": null,
            "grid_row": null,
            "grid_template_areas": null,
            "grid_template_columns": null,
            "grid_template_rows": null,
            "height": null,
            "justify_content": null,
            "justify_items": null,
            "left": null,
            "margin": null,
            "max_height": null,
            "max_width": null,
            "min_height": null,
            "min_width": null,
            "object_fit": null,
            "object_position": null,
            "order": null,
            "overflow": null,
            "overflow_x": null,
            "overflow_y": null,
            "padding": null,
            "right": null,
            "top": null,
            "visibility": null,
            "width": null
          }
        },
        "767241c3875542f694dd32bf83b3aac0": {
          "model_module": "@jupyter-widgets/controls",
          "model_name": "DescriptionStyleModel",
          "model_module_version": "1.5.0",
          "state": {
            "_model_module": "@jupyter-widgets/controls",
            "_model_module_version": "1.5.0",
            "_model_name": "DescriptionStyleModel",
            "_view_count": null,
            "_view_module": "@jupyter-widgets/base",
            "_view_module_version": "1.2.0",
            "_view_name": "StyleView",
            "description_width": ""
          }
        },
        "c9f77660b09b458e9160db7cd1332795": {
          "model_module": "@jupyter-widgets/controls",
          "model_name": "HBoxModel",
          "model_module_version": "1.5.0",
          "state": {
            "_dom_classes": [],
            "_model_module": "@jupyter-widgets/controls",
            "_model_module_version": "1.5.0",
            "_model_name": "HBoxModel",
            "_view_count": null,
            "_view_module": "@jupyter-widgets/controls",
            "_view_module_version": "1.5.0",
            "_view_name": "HBoxView",
            "box_style": "",
            "children": [
              "IPY_MODEL_cc8303990bcf414997334c49cfde5a6f",
              "IPY_MODEL_f5872639296c4ce2a930a5d42a47ed02",
              "IPY_MODEL_20c95ae242c2446a944d3721cbc4e205"
            ],
            "layout": "IPY_MODEL_24407f6dc506432eb1810dd6d412fdbb"
          }
        },
        "cc8303990bcf414997334c49cfde5a6f": {
          "model_module": "@jupyter-widgets/controls",
          "model_name": "HTMLModel",
          "model_module_version": "1.5.0",
          "state": {
            "_dom_classes": [],
            "_model_module": "@jupyter-widgets/controls",
            "_model_module_version": "1.5.0",
            "_model_name": "HTMLModel",
            "_view_count": null,
            "_view_module": "@jupyter-widgets/controls",
            "_view_module_version": "1.5.0",
            "_view_name": "HTMLView",
            "description": "",
            "description_tooltip": null,
            "layout": "IPY_MODEL_df69138379be46df9e74cad786e7cf34",
            "placeholder": "​",
            "style": "IPY_MODEL_77af4214a5f64903a0473094b1992b98",
            "value": "100%"
          }
        },
        "f5872639296c4ce2a930a5d42a47ed02": {
          "model_module": "@jupyter-widgets/controls",
          "model_name": "FloatProgressModel",
          "model_module_version": "1.5.0",
          "state": {
            "_dom_classes": [],
            "_model_module": "@jupyter-widgets/controls",
            "_model_module_version": "1.5.0",
            "_model_name": "FloatProgressModel",
            "_view_count": null,
            "_view_module": "@jupyter-widgets/controls",
            "_view_module_version": "1.5.0",
            "_view_name": "ProgressView",
            "bar_style": "success",
            "description": "",
            "description_tooltip": null,
            "layout": "IPY_MODEL_0225a4ae84f84e498afd40534518b6a2",
            "max": 3,
            "min": 0,
            "orientation": "horizontal",
            "style": "IPY_MODEL_e50cffb48a2741599761772b3bd7d7b6",
            "value": 3
          }
        },
        "20c95ae242c2446a944d3721cbc4e205": {
          "model_module": "@jupyter-widgets/controls",
          "model_name": "HTMLModel",
          "model_module_version": "1.5.0",
          "state": {
            "_dom_classes": [],
            "_model_module": "@jupyter-widgets/controls",
            "_model_module_version": "1.5.0",
            "_model_name": "HTMLModel",
            "_view_count": null,
            "_view_module": "@jupyter-widgets/controls",
            "_view_module_version": "1.5.0",
            "_view_name": "HTMLView",
            "description": "",
            "description_tooltip": null,
            "layout": "IPY_MODEL_f1b3e77daee24d6aada7490ae80ffde7",
            "placeholder": "​",
            "style": "IPY_MODEL_54333286b55844ffa0798243c3b13ab8",
            "value": " 3/3 [00:34&lt;00:00, 11.33s/it]"
          }
        },
        "24407f6dc506432eb1810dd6d412fdbb": {
          "model_module": "@jupyter-widgets/base",
          "model_name": "LayoutModel",
          "model_module_version": "1.2.0",
          "state": {
            "_model_module": "@jupyter-widgets/base",
            "_model_module_version": "1.2.0",
            "_model_name": "LayoutModel",
            "_view_count": null,
            "_view_module": "@jupyter-widgets/base",
            "_view_module_version": "1.2.0",
            "_view_name": "LayoutView",
            "align_content": null,
            "align_items": null,
            "align_self": null,
            "border": null,
            "bottom": null,
            "display": null,
            "flex": null,
            "flex_flow": null,
            "grid_area": null,
            "grid_auto_columns": null,
            "grid_auto_flow": null,
            "grid_auto_rows": null,
            "grid_column": null,
            "grid_gap": null,
            "grid_row": null,
            "grid_template_areas": null,
            "grid_template_columns": null,
            "grid_template_rows": null,
            "height": null,
            "justify_content": null,
            "justify_items": null,
            "left": null,
            "margin": null,
            "max_height": null,
            "max_width": null,
            "min_height": null,
            "min_width": null,
            "object_fit": null,
            "object_position": null,
            "order": null,
            "overflow": null,
            "overflow_x": null,
            "overflow_y": null,
            "padding": null,
            "right": null,
            "top": null,
            "visibility": null,
            "width": null
          }
        },
        "df69138379be46df9e74cad786e7cf34": {
          "model_module": "@jupyter-widgets/base",
          "model_name": "LayoutModel",
          "model_module_version": "1.2.0",
          "state": {
            "_model_module": "@jupyter-widgets/base",
            "_model_module_version": "1.2.0",
            "_model_name": "LayoutModel",
            "_view_count": null,
            "_view_module": "@jupyter-widgets/base",
            "_view_module_version": "1.2.0",
            "_view_name": "LayoutView",
            "align_content": null,
            "align_items": null,
            "align_self": null,
            "border": null,
            "bottom": null,
            "display": null,
            "flex": null,
            "flex_flow": null,
            "grid_area": null,
            "grid_auto_columns": null,
            "grid_auto_flow": null,
            "grid_auto_rows": null,
            "grid_column": null,
            "grid_gap": null,
            "grid_row": null,
            "grid_template_areas": null,
            "grid_template_columns": null,
            "grid_template_rows": null,
            "height": null,
            "justify_content": null,
            "justify_items": null,
            "left": null,
            "margin": null,
            "max_height": null,
            "max_width": null,
            "min_height": null,
            "min_width": null,
            "object_fit": null,
            "object_position": null,
            "order": null,
            "overflow": null,
            "overflow_x": null,
            "overflow_y": null,
            "padding": null,
            "right": null,
            "top": null,
            "visibility": null,
            "width": null
          }
        },
        "77af4214a5f64903a0473094b1992b98": {
          "model_module": "@jupyter-widgets/controls",
          "model_name": "DescriptionStyleModel",
          "model_module_version": "1.5.0",
          "state": {
            "_model_module": "@jupyter-widgets/controls",
            "_model_module_version": "1.5.0",
            "_model_name": "DescriptionStyleModel",
            "_view_count": null,
            "_view_module": "@jupyter-widgets/base",
            "_view_module_version": "1.2.0",
            "_view_name": "StyleView",
            "description_width": ""
          }
        },
        "0225a4ae84f84e498afd40534518b6a2": {
          "model_module": "@jupyter-widgets/base",
          "model_name": "LayoutModel",
          "model_module_version": "1.2.0",
          "state": {
            "_model_module": "@jupyter-widgets/base",
            "_model_module_version": "1.2.0",
            "_model_name": "LayoutModel",
            "_view_count": null,
            "_view_module": "@jupyter-widgets/base",
            "_view_module_version": "1.2.0",
            "_view_name": "LayoutView",
            "align_content": null,
            "align_items": null,
            "align_self": null,
            "border": null,
            "bottom": null,
            "display": null,
            "flex": null,
            "flex_flow": null,
            "grid_area": null,
            "grid_auto_columns": null,
            "grid_auto_flow": null,
            "grid_auto_rows": null,
            "grid_column": null,
            "grid_gap": null,
            "grid_row": null,
            "grid_template_areas": null,
            "grid_template_columns": null,
            "grid_template_rows": null,
            "height": null,
            "justify_content": null,
            "justify_items": null,
            "left": null,
            "margin": null,
            "max_height": null,
            "max_width": null,
            "min_height": null,
            "min_width": null,
            "object_fit": null,
            "object_position": null,
            "order": null,
            "overflow": null,
            "overflow_x": null,
            "overflow_y": null,
            "padding": null,
            "right": null,
            "top": null,
            "visibility": null,
            "width": null
          }
        },
        "e50cffb48a2741599761772b3bd7d7b6": {
          "model_module": "@jupyter-widgets/controls",
          "model_name": "ProgressStyleModel",
          "model_module_version": "1.5.0",
          "state": {
            "_model_module": "@jupyter-widgets/controls",
            "_model_module_version": "1.5.0",
            "_model_name": "ProgressStyleModel",
            "_view_count": null,
            "_view_module": "@jupyter-widgets/base",
            "_view_module_version": "1.2.0",
            "_view_name": "StyleView",
            "bar_color": null,
            "description_width": ""
          }
        },
        "f1b3e77daee24d6aada7490ae80ffde7": {
          "model_module": "@jupyter-widgets/base",
          "model_name": "LayoutModel",
          "model_module_version": "1.2.0",
          "state": {
            "_model_module": "@jupyter-widgets/base",
            "_model_module_version": "1.2.0",
            "_model_name": "LayoutModel",
            "_view_count": null,
            "_view_module": "@jupyter-widgets/base",
            "_view_module_version": "1.2.0",
            "_view_name": "LayoutView",
            "align_content": null,
            "align_items": null,
            "align_self": null,
            "border": null,
            "bottom": null,
            "display": null,
            "flex": null,
            "flex_flow": null,
            "grid_area": null,
            "grid_auto_columns": null,
            "grid_auto_flow": null,
            "grid_auto_rows": null,
            "grid_column": null,
            "grid_gap": null,
            "grid_row": null,
            "grid_template_areas": null,
            "grid_template_columns": null,
            "grid_template_rows": null,
            "height": null,
            "justify_content": null,
            "justify_items": null,
            "left": null,
            "margin": null,
            "max_height": null,
            "max_width": null,
            "min_height": null,
            "min_width": null,
            "object_fit": null,
            "object_position": null,
            "order": null,
            "overflow": null,
            "overflow_x": null,
            "overflow_y": null,
            "padding": null,
            "right": null,
            "top": null,
            "visibility": null,
            "width": null
          }
        },
        "54333286b55844ffa0798243c3b13ab8": {
          "model_module": "@jupyter-widgets/controls",
          "model_name": "DescriptionStyleModel",
          "model_module_version": "1.5.0",
          "state": {
            "_model_module": "@jupyter-widgets/controls",
            "_model_module_version": "1.5.0",
            "_model_name": "DescriptionStyleModel",
            "_view_count": null,
            "_view_module": "@jupyter-widgets/base",
            "_view_module_version": "1.2.0",
            "_view_name": "StyleView",
            "description_width": ""
          }
        },
        "5333fff046244c16b77a8b35e61e6ac6": {
          "model_module": "@jupyter-widgets/controls",
          "model_name": "HBoxModel",
          "model_module_version": "1.5.0",
          "state": {
            "_dom_classes": [],
            "_model_module": "@jupyter-widgets/controls",
            "_model_module_version": "1.5.0",
            "_model_name": "HBoxModel",
            "_view_count": null,
            "_view_module": "@jupyter-widgets/controls",
            "_view_module_version": "1.5.0",
            "_view_name": "HBoxView",
            "box_style": "",
            "children": [
              "IPY_MODEL_ccbb4625ee9748f48fcfa10b8530c0e7",
              "IPY_MODEL_59ec78d5e1114717a9fc019a79a874bc",
              "IPY_MODEL_5f5ec21759f34866a42391a4457de151"
            ],
            "layout": "IPY_MODEL_e764aca039b3464d8885f44bcec247ea"
          }
        },
        "ccbb4625ee9748f48fcfa10b8530c0e7": {
          "model_module": "@jupyter-widgets/controls",
          "model_name": "HTMLModel",
          "model_module_version": "1.5.0",
          "state": {
            "_dom_classes": [],
            "_model_module": "@jupyter-widgets/controls",
            "_model_module_version": "1.5.0",
            "_model_name": "HTMLModel",
            "_view_count": null,
            "_view_module": "@jupyter-widgets/controls",
            "_view_module_version": "1.5.0",
            "_view_name": "HTMLView",
            "description": "",
            "description_tooltip": null,
            "layout": "IPY_MODEL_8df8ab65b7594cd2946e371d642e434d",
            "placeholder": "​",
            "style": "IPY_MODEL_139f517542194970ba263f1debca5260",
            "value": "100%"
          }
        },
        "59ec78d5e1114717a9fc019a79a874bc": {
          "model_module": "@jupyter-widgets/controls",
          "model_name": "FloatProgressModel",
          "model_module_version": "1.5.0",
          "state": {
            "_dom_classes": [],
            "_model_module": "@jupyter-widgets/controls",
            "_model_module_version": "1.5.0",
            "_model_name": "FloatProgressModel",
            "_view_count": null,
            "_view_module": "@jupyter-widgets/controls",
            "_view_module_version": "1.5.0",
            "_view_name": "ProgressView",
            "bar_style": "success",
            "description": "",
            "description_tooltip": null,
            "layout": "IPY_MODEL_5fc4206947824b37845c1ea6cecc1231",
            "max": 313,
            "min": 0,
            "orientation": "horizontal",
            "style": "IPY_MODEL_e526225c978a4f77879aa7de1cc3bd39",
            "value": 313
          }
        },
        "5f5ec21759f34866a42391a4457de151": {
          "model_module": "@jupyter-widgets/controls",
          "model_name": "HTMLModel",
          "model_module_version": "1.5.0",
          "state": {
            "_dom_classes": [],
            "_model_module": "@jupyter-widgets/controls",
            "_model_module_version": "1.5.0",
            "_model_name": "HTMLModel",
            "_view_count": null,
            "_view_module": "@jupyter-widgets/controls",
            "_view_module_version": "1.5.0",
            "_view_name": "HTMLView",
            "description": "",
            "description_tooltip": null,
            "layout": "IPY_MODEL_a0b888e77e1e4b26b0c1f029b846fdfb",
            "placeholder": "​",
            "style": "IPY_MODEL_ba52832b7bad4326ab8a5f448bbc197a",
            "value": " 313/313 [00:01&lt;00:00, 268.70it/s]"
          }
        },
        "e764aca039b3464d8885f44bcec247ea": {
          "model_module": "@jupyter-widgets/base",
          "model_name": "LayoutModel",
          "model_module_version": "1.2.0",
          "state": {
            "_model_module": "@jupyter-widgets/base",
            "_model_module_version": "1.2.0",
            "_model_name": "LayoutModel",
            "_view_count": null,
            "_view_module": "@jupyter-widgets/base",
            "_view_module_version": "1.2.0",
            "_view_name": "LayoutView",
            "align_content": null,
            "align_items": null,
            "align_self": null,
            "border": null,
            "bottom": null,
            "display": null,
            "flex": null,
            "flex_flow": null,
            "grid_area": null,
            "grid_auto_columns": null,
            "grid_auto_flow": null,
            "grid_auto_rows": null,
            "grid_column": null,
            "grid_gap": null,
            "grid_row": null,
            "grid_template_areas": null,
            "grid_template_columns": null,
            "grid_template_rows": null,
            "height": null,
            "justify_content": null,
            "justify_items": null,
            "left": null,
            "margin": null,
            "max_height": null,
            "max_width": null,
            "min_height": null,
            "min_width": null,
            "object_fit": null,
            "object_position": null,
            "order": null,
            "overflow": null,
            "overflow_x": null,
            "overflow_y": null,
            "padding": null,
            "right": null,
            "top": null,
            "visibility": null,
            "width": null
          }
        },
        "8df8ab65b7594cd2946e371d642e434d": {
          "model_module": "@jupyter-widgets/base",
          "model_name": "LayoutModel",
          "model_module_version": "1.2.0",
          "state": {
            "_model_module": "@jupyter-widgets/base",
            "_model_module_version": "1.2.0",
            "_model_name": "LayoutModel",
            "_view_count": null,
            "_view_module": "@jupyter-widgets/base",
            "_view_module_version": "1.2.0",
            "_view_name": "LayoutView",
            "align_content": null,
            "align_items": null,
            "align_self": null,
            "border": null,
            "bottom": null,
            "display": null,
            "flex": null,
            "flex_flow": null,
            "grid_area": null,
            "grid_auto_columns": null,
            "grid_auto_flow": null,
            "grid_auto_rows": null,
            "grid_column": null,
            "grid_gap": null,
            "grid_row": null,
            "grid_template_areas": null,
            "grid_template_columns": null,
            "grid_template_rows": null,
            "height": null,
            "justify_content": null,
            "justify_items": null,
            "left": null,
            "margin": null,
            "max_height": null,
            "max_width": null,
            "min_height": null,
            "min_width": null,
            "object_fit": null,
            "object_position": null,
            "order": null,
            "overflow": null,
            "overflow_x": null,
            "overflow_y": null,
            "padding": null,
            "right": null,
            "top": null,
            "visibility": null,
            "width": null
          }
        },
        "139f517542194970ba263f1debca5260": {
          "model_module": "@jupyter-widgets/controls",
          "model_name": "DescriptionStyleModel",
          "model_module_version": "1.5.0",
          "state": {
            "_model_module": "@jupyter-widgets/controls",
            "_model_module_version": "1.5.0",
            "_model_name": "DescriptionStyleModel",
            "_view_count": null,
            "_view_module": "@jupyter-widgets/base",
            "_view_module_version": "1.2.0",
            "_view_name": "StyleView",
            "description_width": ""
          }
        },
        "5fc4206947824b37845c1ea6cecc1231": {
          "model_module": "@jupyter-widgets/base",
          "model_name": "LayoutModel",
          "model_module_version": "1.2.0",
          "state": {
            "_model_module": "@jupyter-widgets/base",
            "_model_module_version": "1.2.0",
            "_model_name": "LayoutModel",
            "_view_count": null,
            "_view_module": "@jupyter-widgets/base",
            "_view_module_version": "1.2.0",
            "_view_name": "LayoutView",
            "align_content": null,
            "align_items": null,
            "align_self": null,
            "border": null,
            "bottom": null,
            "display": null,
            "flex": null,
            "flex_flow": null,
            "grid_area": null,
            "grid_auto_columns": null,
            "grid_auto_flow": null,
            "grid_auto_rows": null,
            "grid_column": null,
            "grid_gap": null,
            "grid_row": null,
            "grid_template_areas": null,
            "grid_template_columns": null,
            "grid_template_rows": null,
            "height": null,
            "justify_content": null,
            "justify_items": null,
            "left": null,
            "margin": null,
            "max_height": null,
            "max_width": null,
            "min_height": null,
            "min_width": null,
            "object_fit": null,
            "object_position": null,
            "order": null,
            "overflow": null,
            "overflow_x": null,
            "overflow_y": null,
            "padding": null,
            "right": null,
            "top": null,
            "visibility": null,
            "width": null
          }
        },
        "e526225c978a4f77879aa7de1cc3bd39": {
          "model_module": "@jupyter-widgets/controls",
          "model_name": "ProgressStyleModel",
          "model_module_version": "1.5.0",
          "state": {
            "_model_module": "@jupyter-widgets/controls",
            "_model_module_version": "1.5.0",
            "_model_name": "ProgressStyleModel",
            "_view_count": null,
            "_view_module": "@jupyter-widgets/base",
            "_view_module_version": "1.2.0",
            "_view_name": "StyleView",
            "bar_color": null,
            "description_width": ""
          }
        },
        "a0b888e77e1e4b26b0c1f029b846fdfb": {
          "model_module": "@jupyter-widgets/base",
          "model_name": "LayoutModel",
          "model_module_version": "1.2.0",
          "state": {
            "_model_module": "@jupyter-widgets/base",
            "_model_module_version": "1.2.0",
            "_model_name": "LayoutModel",
            "_view_count": null,
            "_view_module": "@jupyter-widgets/base",
            "_view_module_version": "1.2.0",
            "_view_name": "LayoutView",
            "align_content": null,
            "align_items": null,
            "align_self": null,
            "border": null,
            "bottom": null,
            "display": null,
            "flex": null,
            "flex_flow": null,
            "grid_area": null,
            "grid_auto_columns": null,
            "grid_auto_flow": null,
            "grid_auto_rows": null,
            "grid_column": null,
            "grid_gap": null,
            "grid_row": null,
            "grid_template_areas": null,
            "grid_template_columns": null,
            "grid_template_rows": null,
            "height": null,
            "justify_content": null,
            "justify_items": null,
            "left": null,
            "margin": null,
            "max_height": null,
            "max_width": null,
            "min_height": null,
            "min_width": null,
            "object_fit": null,
            "object_position": null,
            "order": null,
            "overflow": null,
            "overflow_x": null,
            "overflow_y": null,
            "padding": null,
            "right": null,
            "top": null,
            "visibility": null,
            "width": null
          }
        },
        "ba52832b7bad4326ab8a5f448bbc197a": {
          "model_module": "@jupyter-widgets/controls",
          "model_name": "DescriptionStyleModel",
          "model_module_version": "1.5.0",
          "state": {
            "_model_module": "@jupyter-widgets/controls",
            "_model_module_version": "1.5.0",
            "_model_name": "DescriptionStyleModel",
            "_view_count": null,
            "_view_module": "@jupyter-widgets/base",
            "_view_module_version": "1.2.0",
            "_view_name": "StyleView",
            "description_width": ""
          }
        }
      }
    },
    "accelerator": "GPU"
  },
  "cells": [
    {
      "cell_type": "code",
      "execution_count": null,
      "metadata": {
        "id": "TDMooyD2wVTj"
      },
      "outputs": [],
      "source": [
        "## computer vision libraries\n",
        "#torchvision (other libraies also exist for their respective needs)\n",
        "#torchvision.datasets\n",
        "#torchvision.models which you can use while transfer learning\n",
        "#torchvision.transforms-functions for manipulating your vision data\n",
        "#torch.utils.data.Dataset- Base dataset class for pytorch\n",
        "#torch.utils.data.DataLoader- Creates a Python iterable over a dataset"
      ]
    },
    {
      "cell_type": "code",
      "source": [
        "## computer vision libraries\n",
        "\n",
        "import torch\n",
        "from torch import nn\n",
        "\n",
        "import torchvision\n",
        "from torchvision import datasets\n",
        "from torchvision.transforms import ToTensor\n",
        "from torchvision import transforms\n",
        "\n",
        "#from torch.utils.data import Dataset\n",
        "#from torch.utils.data import DataLoader\n",
        "\n",
        "import matplotlib.pyplot as plt\n",
        "import numpy as np\n",
        "\n",
        "print(torch.__version__)\n",
        "print(torchvision.__version__)"
      ],
      "metadata": {
        "colab": {
          "base_uri": "https://localhost:8080/"
        },
        "id": "Dw6If16JxfLb",
        "outputId": "6ea679e5-b1aa-4449-fb4a-7d1aee47a8f3"
      },
      "execution_count": null,
      "outputs": [
        {
          "output_type": "stream",
          "name": "stdout",
          "text": [
            "2.5.1+cu124\n",
            "0.20.1+cu124\n"
          ]
        }
      ]
    },
    {
      "cell_type": "code",
      "source": [
        "from torch.utils.data import Dataset\n",
        "from torch.utils.data import DataLoader\n",
        "train_data = datasets.FashionMNIST(\n",
        "    root=\"data\", # where to download data to?\n",
        "    train=True, # do we want the training datasets?\n",
        "    download=True,# do we want to download yes/no\n",
        "    transform=ToTensor(), # do we want to transform the data\n",
        "    target_transform=None # how do we want to transform the label/targets\n",
        ")\n",
        "test_data = datasets.FashionMNIST(\n",
        "    root=\"data\", # where to download data to?\n",
        "    train=False, #\n",
        "    download=True,\n",
        "    transform=ToTensor(),\n",
        "    target_transform=None\n",
        ")"
      ],
      "metadata": {
        "id": "5WIT_ew0zZ0s",
        "colab": {
          "base_uri": "https://localhost:8080/"
        },
        "outputId": "e3d928f2-9f42-4f93-d2ae-415050f41661"
      },
      "execution_count": null,
      "outputs": [
        {
          "output_type": "stream",
          "name": "stdout",
          "text": [
            "Downloading http://fashion-mnist.s3-website.eu-central-1.amazonaws.com/train-images-idx3-ubyte.gz\n",
            "Downloading http://fashion-mnist.s3-website.eu-central-1.amazonaws.com/train-images-idx3-ubyte.gz to data/FashionMNIST/raw/train-images-idx3-ubyte.gz\n"
          ]
        },
        {
          "output_type": "stream",
          "name": "stderr",
          "text": [
            "100%|██████████| 26.4M/26.4M [00:02<00:00, 9.84MB/s]\n"
          ]
        },
        {
          "output_type": "stream",
          "name": "stdout",
          "text": [
            "Extracting data/FashionMNIST/raw/train-images-idx3-ubyte.gz to data/FashionMNIST/raw\n",
            "\n",
            "Downloading http://fashion-mnist.s3-website.eu-central-1.amazonaws.com/train-labels-idx1-ubyte.gz\n",
            "Downloading http://fashion-mnist.s3-website.eu-central-1.amazonaws.com/train-labels-idx1-ubyte.gz to data/FashionMNIST/raw/train-labels-idx1-ubyte.gz\n"
          ]
        },
        {
          "output_type": "stream",
          "name": "stderr",
          "text": [
            "100%|██████████| 29.5k/29.5k [00:00<00:00, 208kB/s]\n"
          ]
        },
        {
          "output_type": "stream",
          "name": "stdout",
          "text": [
            "Extracting data/FashionMNIST/raw/train-labels-idx1-ubyte.gz to data/FashionMNIST/raw\n",
            "\n",
            "Downloading http://fashion-mnist.s3-website.eu-central-1.amazonaws.com/t10k-images-idx3-ubyte.gz\n",
            "Downloading http://fashion-mnist.s3-website.eu-central-1.amazonaws.com/t10k-images-idx3-ubyte.gz to data/FashionMNIST/raw/t10k-images-idx3-ubyte.gz\n"
          ]
        },
        {
          "output_type": "stream",
          "name": "stderr",
          "text": [
            "100%|██████████| 4.42M/4.42M [00:01<00:00, 3.83MB/s]\n"
          ]
        },
        {
          "output_type": "stream",
          "name": "stdout",
          "text": [
            "Extracting data/FashionMNIST/raw/t10k-images-idx3-ubyte.gz to data/FashionMNIST/raw\n",
            "\n",
            "Downloading http://fashion-mnist.s3-website.eu-central-1.amazonaws.com/t10k-labels-idx1-ubyte.gz\n",
            "Downloading http://fashion-mnist.s3-website.eu-central-1.amazonaws.com/t10k-labels-idx1-ubyte.gz to data/FashionMNIST/raw/t10k-labels-idx1-ubyte.gz\n"
          ]
        },
        {
          "output_type": "stream",
          "name": "stderr",
          "text": [
            "100%|██████████| 5.15k/5.15k [00:00<00:00, 7.09MB/s]"
          ]
        },
        {
          "output_type": "stream",
          "name": "stdout",
          "text": [
            "Extracting data/FashionMNIST/raw/t10k-labels-idx1-ubyte.gz to data/FashionMNIST/raw\n",
            "\n"
          ]
        },
        {
          "output_type": "stream",
          "name": "stderr",
          "text": [
            "\n"
          ]
        }
      ]
    },
    {
      "cell_type": "code",
      "source": [
        "# how mnay samples do we have\n",
        "len(train_data),len(test_data)"
      ],
      "metadata": {
        "colab": {
          "base_uri": "https://localhost:8080/"
        },
        "id": "LXZejte40h1b",
        "outputId": "e5140ed3-89a1-420c-c35c-f07152755a12"
      },
      "execution_count": null,
      "outputs": [
        {
          "output_type": "execute_result",
          "data": {
            "text/plain": [
              "(60000, 10000)"
            ]
          },
          "metadata": {},
          "execution_count": 4
        }
      ]
    },
    {
      "cell_type": "code",
      "source": [
        "image, label=train_data[0]\n",
        "image, label"
      ],
      "metadata": {
        "colab": {
          "base_uri": "https://localhost:8080/"
        },
        "id": "-j7PdKQQ0weU",
        "outputId": "b5bda310-2ec0-4435-fd03-a34171d5dcf2"
      },
      "execution_count": null,
      "outputs": [
        {
          "output_type": "execute_result",
          "data": {
            "text/plain": [
              "(tensor([[[0.0000, 0.0000, 0.0000, 0.0000, 0.0000, 0.0000, 0.0000, 0.0000,\n",
              "           0.0000, 0.0000, 0.0000, 0.0000, 0.0000, 0.0000, 0.0000, 0.0000,\n",
              "           0.0000, 0.0000, 0.0000, 0.0000, 0.0000, 0.0000, 0.0000, 0.0000,\n",
              "           0.0000, 0.0000, 0.0000, 0.0000],\n",
              "          [0.0000, 0.0000, 0.0000, 0.0000, 0.0000, 0.0000, 0.0000, 0.0000,\n",
              "           0.0000, 0.0000, 0.0000, 0.0000, 0.0000, 0.0000, 0.0000, 0.0000,\n",
              "           0.0000, 0.0000, 0.0000, 0.0000, 0.0000, 0.0000, 0.0000, 0.0000,\n",
              "           0.0000, 0.0000, 0.0000, 0.0000],\n",
              "          [0.0000, 0.0000, 0.0000, 0.0000, 0.0000, 0.0000, 0.0000, 0.0000,\n",
              "           0.0000, 0.0000, 0.0000, 0.0000, 0.0000, 0.0000, 0.0000, 0.0000,\n",
              "           0.0000, 0.0000, 0.0000, 0.0000, 0.0000, 0.0000, 0.0000, 0.0000,\n",
              "           0.0000, 0.0000, 0.0000, 0.0000],\n",
              "          [0.0000, 0.0000, 0.0000, 0.0000, 0.0000, 0.0000, 0.0000, 0.0000,\n",
              "           0.0000, 0.0000, 0.0000, 0.0000, 0.0039, 0.0000, 0.0000, 0.0510,\n",
              "           0.2863, 0.0000, 0.0000, 0.0039, 0.0157, 0.0000, 0.0000, 0.0000,\n",
              "           0.0000, 0.0039, 0.0039, 0.0000],\n",
              "          [0.0000, 0.0000, 0.0000, 0.0000, 0.0000, 0.0000, 0.0000, 0.0000,\n",
              "           0.0000, 0.0000, 0.0000, 0.0000, 0.0118, 0.0000, 0.1412, 0.5333,\n",
              "           0.4980, 0.2431, 0.2118, 0.0000, 0.0000, 0.0000, 0.0039, 0.0118,\n",
              "           0.0157, 0.0000, 0.0000, 0.0118],\n",
              "          [0.0000, 0.0000, 0.0000, 0.0000, 0.0000, 0.0000, 0.0000, 0.0000,\n",
              "           0.0000, 0.0000, 0.0000, 0.0000, 0.0235, 0.0000, 0.4000, 0.8000,\n",
              "           0.6902, 0.5255, 0.5647, 0.4824, 0.0902, 0.0000, 0.0000, 0.0000,\n",
              "           0.0000, 0.0471, 0.0392, 0.0000],\n",
              "          [0.0000, 0.0000, 0.0000, 0.0000, 0.0000, 0.0000, 0.0000, 0.0000,\n",
              "           0.0000, 0.0000, 0.0000, 0.0000, 0.0000, 0.0000, 0.6078, 0.9255,\n",
              "           0.8118, 0.6980, 0.4196, 0.6118, 0.6314, 0.4275, 0.2510, 0.0902,\n",
              "           0.3020, 0.5098, 0.2824, 0.0588],\n",
              "          [0.0000, 0.0000, 0.0000, 0.0000, 0.0000, 0.0000, 0.0000, 0.0000,\n",
              "           0.0000, 0.0000, 0.0000, 0.0039, 0.0000, 0.2706, 0.8118, 0.8745,\n",
              "           0.8549, 0.8471, 0.8471, 0.6392, 0.4980, 0.4745, 0.4784, 0.5725,\n",
              "           0.5529, 0.3451, 0.6745, 0.2588],\n",
              "          [0.0000, 0.0000, 0.0000, 0.0000, 0.0000, 0.0000, 0.0000, 0.0000,\n",
              "           0.0000, 0.0039, 0.0039, 0.0039, 0.0000, 0.7843, 0.9098, 0.9098,\n",
              "           0.9137, 0.8980, 0.8745, 0.8745, 0.8431, 0.8353, 0.6431, 0.4980,\n",
              "           0.4824, 0.7686, 0.8980, 0.0000],\n",
              "          [0.0000, 0.0000, 0.0000, 0.0000, 0.0000, 0.0000, 0.0000, 0.0000,\n",
              "           0.0000, 0.0000, 0.0000, 0.0000, 0.0000, 0.7176, 0.8824, 0.8471,\n",
              "           0.8745, 0.8941, 0.9216, 0.8902, 0.8784, 0.8706, 0.8784, 0.8667,\n",
              "           0.8745, 0.9608, 0.6784, 0.0000],\n",
              "          [0.0000, 0.0000, 0.0000, 0.0000, 0.0000, 0.0000, 0.0000, 0.0000,\n",
              "           0.0000, 0.0000, 0.0000, 0.0000, 0.0000, 0.7569, 0.8941, 0.8549,\n",
              "           0.8353, 0.7765, 0.7059, 0.8314, 0.8235, 0.8275, 0.8353, 0.8745,\n",
              "           0.8627, 0.9529, 0.7922, 0.0000],\n",
              "          [0.0000, 0.0000, 0.0000, 0.0000, 0.0000, 0.0000, 0.0000, 0.0000,\n",
              "           0.0000, 0.0039, 0.0118, 0.0000, 0.0471, 0.8588, 0.8627, 0.8314,\n",
              "           0.8549, 0.7529, 0.6627, 0.8902, 0.8157, 0.8549, 0.8784, 0.8314,\n",
              "           0.8863, 0.7725, 0.8196, 0.2039],\n",
              "          [0.0000, 0.0000, 0.0000, 0.0000, 0.0000, 0.0000, 0.0000, 0.0000,\n",
              "           0.0000, 0.0000, 0.0235, 0.0000, 0.3882, 0.9569, 0.8706, 0.8627,\n",
              "           0.8549, 0.7961, 0.7765, 0.8667, 0.8431, 0.8353, 0.8706, 0.8627,\n",
              "           0.9608, 0.4667, 0.6549, 0.2196],\n",
              "          [0.0000, 0.0000, 0.0000, 0.0000, 0.0000, 0.0000, 0.0000, 0.0000,\n",
              "           0.0000, 0.0157, 0.0000, 0.0000, 0.2157, 0.9255, 0.8941, 0.9020,\n",
              "           0.8941, 0.9412, 0.9098, 0.8353, 0.8549, 0.8745, 0.9176, 0.8510,\n",
              "           0.8510, 0.8196, 0.3608, 0.0000],\n",
              "          [0.0000, 0.0000, 0.0039, 0.0157, 0.0235, 0.0275, 0.0078, 0.0000,\n",
              "           0.0000, 0.0000, 0.0000, 0.0000, 0.9294, 0.8863, 0.8510, 0.8745,\n",
              "           0.8706, 0.8588, 0.8706, 0.8667, 0.8471, 0.8745, 0.8980, 0.8431,\n",
              "           0.8549, 1.0000, 0.3020, 0.0000],\n",
              "          [0.0000, 0.0118, 0.0000, 0.0000, 0.0000, 0.0000, 0.0000, 0.0000,\n",
              "           0.0000, 0.2431, 0.5686, 0.8000, 0.8941, 0.8118, 0.8353, 0.8667,\n",
              "           0.8549, 0.8157, 0.8275, 0.8549, 0.8784, 0.8745, 0.8588, 0.8431,\n",
              "           0.8784, 0.9569, 0.6235, 0.0000],\n",
              "          [0.0000, 0.0000, 0.0000, 0.0000, 0.0706, 0.1725, 0.3216, 0.4196,\n",
              "           0.7412, 0.8941, 0.8627, 0.8706, 0.8510, 0.8863, 0.7843, 0.8039,\n",
              "           0.8275, 0.9020, 0.8784, 0.9176, 0.6902, 0.7373, 0.9804, 0.9725,\n",
              "           0.9137, 0.9333, 0.8431, 0.0000],\n",
              "          [0.0000, 0.2235, 0.7333, 0.8157, 0.8784, 0.8667, 0.8784, 0.8157,\n",
              "           0.8000, 0.8392, 0.8157, 0.8196, 0.7843, 0.6235, 0.9608, 0.7569,\n",
              "           0.8078, 0.8745, 1.0000, 1.0000, 0.8667, 0.9176, 0.8667, 0.8275,\n",
              "           0.8627, 0.9098, 0.9647, 0.0000],\n",
              "          [0.0118, 0.7922, 0.8941, 0.8784, 0.8667, 0.8275, 0.8275, 0.8392,\n",
              "           0.8039, 0.8039, 0.8039, 0.8627, 0.9412, 0.3137, 0.5882, 1.0000,\n",
              "           0.8980, 0.8667, 0.7373, 0.6039, 0.7490, 0.8235, 0.8000, 0.8196,\n",
              "           0.8706, 0.8941, 0.8824, 0.0000],\n",
              "          [0.3843, 0.9137, 0.7765, 0.8235, 0.8706, 0.8980, 0.8980, 0.9176,\n",
              "           0.9765, 0.8627, 0.7608, 0.8431, 0.8510, 0.9451, 0.2549, 0.2863,\n",
              "           0.4157, 0.4588, 0.6588, 0.8588, 0.8667, 0.8431, 0.8510, 0.8745,\n",
              "           0.8745, 0.8784, 0.8980, 0.1137],\n",
              "          [0.2941, 0.8000, 0.8314, 0.8000, 0.7569, 0.8039, 0.8275, 0.8824,\n",
              "           0.8471, 0.7255, 0.7725, 0.8078, 0.7765, 0.8353, 0.9412, 0.7647,\n",
              "           0.8902, 0.9608, 0.9373, 0.8745, 0.8549, 0.8314, 0.8196, 0.8706,\n",
              "           0.8627, 0.8667, 0.9020, 0.2627],\n",
              "          [0.1882, 0.7961, 0.7176, 0.7608, 0.8353, 0.7725, 0.7255, 0.7451,\n",
              "           0.7608, 0.7529, 0.7922, 0.8392, 0.8588, 0.8667, 0.8627, 0.9255,\n",
              "           0.8824, 0.8471, 0.7804, 0.8078, 0.7294, 0.7098, 0.6941, 0.6745,\n",
              "           0.7098, 0.8039, 0.8078, 0.4510],\n",
              "          [0.0000, 0.4784, 0.8588, 0.7569, 0.7020, 0.6706, 0.7176, 0.7686,\n",
              "           0.8000, 0.8235, 0.8353, 0.8118, 0.8275, 0.8235, 0.7843, 0.7686,\n",
              "           0.7608, 0.7490, 0.7647, 0.7490, 0.7765, 0.7529, 0.6902, 0.6118,\n",
              "           0.6549, 0.6941, 0.8235, 0.3608],\n",
              "          [0.0000, 0.0000, 0.2902, 0.7412, 0.8314, 0.7490, 0.6863, 0.6745,\n",
              "           0.6863, 0.7098, 0.7255, 0.7373, 0.7412, 0.7373, 0.7569, 0.7765,\n",
              "           0.8000, 0.8196, 0.8235, 0.8235, 0.8275, 0.7373, 0.7373, 0.7608,\n",
              "           0.7529, 0.8471, 0.6667, 0.0000],\n",
              "          [0.0078, 0.0000, 0.0000, 0.0000, 0.2588, 0.7843, 0.8706, 0.9294,\n",
              "           0.9373, 0.9490, 0.9647, 0.9529, 0.9569, 0.8667, 0.8627, 0.7569,\n",
              "           0.7490, 0.7020, 0.7137, 0.7137, 0.7098, 0.6902, 0.6510, 0.6588,\n",
              "           0.3882, 0.2275, 0.0000, 0.0000],\n",
              "          [0.0000, 0.0000, 0.0000, 0.0000, 0.0000, 0.0000, 0.0000, 0.1569,\n",
              "           0.2392, 0.1725, 0.2824, 0.1608, 0.1373, 0.0000, 0.0000, 0.0000,\n",
              "           0.0000, 0.0000, 0.0000, 0.0000, 0.0000, 0.0000, 0.0000, 0.0000,\n",
              "           0.0000, 0.0000, 0.0000, 0.0000],\n",
              "          [0.0000, 0.0000, 0.0000, 0.0000, 0.0000, 0.0000, 0.0000, 0.0000,\n",
              "           0.0000, 0.0000, 0.0000, 0.0000, 0.0000, 0.0000, 0.0000, 0.0000,\n",
              "           0.0000, 0.0000, 0.0000, 0.0000, 0.0000, 0.0000, 0.0000, 0.0000,\n",
              "           0.0000, 0.0000, 0.0000, 0.0000],\n",
              "          [0.0000, 0.0000, 0.0000, 0.0000, 0.0000, 0.0000, 0.0000, 0.0000,\n",
              "           0.0000, 0.0000, 0.0000, 0.0000, 0.0000, 0.0000, 0.0000, 0.0000,\n",
              "           0.0000, 0.0000, 0.0000, 0.0000, 0.0000, 0.0000, 0.0000, 0.0000,\n",
              "           0.0000, 0.0000, 0.0000, 0.0000]]]),\n",
              " 9)"
            ]
          },
          "metadata": {},
          "execution_count": 5
        }
      ]
    },
    {
      "cell_type": "code",
      "source": [
        "class_names = train_data.classes\n",
        "class_names"
      ],
      "metadata": {
        "colab": {
          "base_uri": "https://localhost:8080/"
        },
        "id": "UmC4wWUW1AFF",
        "outputId": "ecc7c03b-4d5d-4ea3-bd9e-1612e3591fdf"
      },
      "execution_count": null,
      "outputs": [
        {
          "output_type": "execute_result",
          "data": {
            "text/plain": [
              "['T-shirt/top',\n",
              " 'Trouser',\n",
              " 'Pullover',\n",
              " 'Dress',\n",
              " 'Coat',\n",
              " 'Sandal',\n",
              " 'Shirt',\n",
              " 'Sneaker',\n",
              " 'Bag',\n",
              " 'Ankle boot']"
            ]
          },
          "metadata": {},
          "execution_count": 6
        }
      ]
    },
    {
      "cell_type": "code",
      "source": [
        "class_to_idx=train_data.class_to_idx\n",
        "class_to_idx"
      ],
      "metadata": {
        "colab": {
          "base_uri": "https://localhost:8080/"
        },
        "id": "l8dHSsea1XEl",
        "outputId": "3ef8be13-98ee-4eda-ecf3-c4d3c6982810"
      },
      "execution_count": null,
      "outputs": [
        {
          "output_type": "execute_result",
          "data": {
            "text/plain": [
              "{'T-shirt/top': 0,\n",
              " 'Trouser': 1,\n",
              " 'Pullover': 2,\n",
              " 'Dress': 3,\n",
              " 'Coat': 4,\n",
              " 'Sandal': 5,\n",
              " 'Shirt': 6,\n",
              " 'Sneaker': 7,\n",
              " 'Bag': 8,\n",
              " 'Ankle boot': 9}"
            ]
          },
          "metadata": {},
          "execution_count": 7
        }
      ]
    },
    {
      "cell_type": "code",
      "source": [
        "train_data.targets"
      ],
      "metadata": {
        "colab": {
          "base_uri": "https://localhost:8080/"
        },
        "id": "wSgwxli11gbp",
        "outputId": "ef45c34f-d196-47c8-d9d7-de14c84cd446"
      },
      "execution_count": null,
      "outputs": [
        {
          "output_type": "execute_result",
          "data": {
            "text/plain": [
              "tensor([9, 0, 0,  ..., 3, 0, 5])"
            ]
          },
          "metadata": {},
          "execution_count": 8
        }
      ]
    },
    {
      "cell_type": "code",
      "source": [
        "#check the shape of our image\n",
        "print(f\"Image shape: {image.shape}->[colour_channels, height, width]\")\n",
        "print(f\"Image labels: {class_names[label]}\")"
      ],
      "metadata": {
        "colab": {
          "base_uri": "https://localhost:8080/"
        },
        "id": "0G8vNgBR1mJj",
        "outputId": "dbf5e003-090c-48d6-fe89-ed97e626be9a"
      },
      "execution_count": null,
      "outputs": [
        {
          "output_type": "stream",
          "name": "stdout",
          "text": [
            "Image shape: torch.Size([1, 28, 28])->[colour_channels, height, width]\n",
            "Image labels: Ankle boot\n"
          ]
        }
      ]
    },
    {
      "cell_type": "code",
      "source": [
        "import matplotlib.pyplot as plt\n",
        "image, label= train_data[0]\n",
        "print(f\"Image shape: {image.shape}\")\n",
        "plt.imshow(image.squeeze())\n",
        "plt.title(label);\n",
        "#image"
      ],
      "metadata": {
        "colab": {
          "base_uri": "https://localhost:8080/",
          "height": 469
        },
        "id": "-sm9abE-2YvS",
        "outputId": "24ac147e-05e5-4bae-8259-238e55bf4e61"
      },
      "execution_count": null,
      "outputs": [
        {
          "output_type": "stream",
          "name": "stdout",
          "text": [
            "Image shape: torch.Size([1, 28, 28])\n"
          ]
        },
        {
          "output_type": "display_data",
          "data": {
            "text/plain": [
              "<Figure size 640x480 with 1 Axes>"
            ],
            "image/png": "[encoded data removed]"
          },
          "metadata": {}
        }
      ]
    },
    {
      "cell_type": "code",
      "source": [
        "plt.imshow(image.squeeze(), cmap=\"gray\")\n",
        "plt.title(class_names[label])\n",
        "plt.axis(False)"
      ],
      "metadata": {
        "colab": {
          "base_uri": "https://localhost:8080/",
          "height": 445
        },
        "id": "OyINahcE5I5J",
        "outputId": "b9864e37-fe87-428d-8b5f-b38590556375"
      },
      "execution_count": null,
      "outputs": [
        {
          "output_type": "execute_result",
          "data": {
            "text/plain": [
              "(-0.5, 27.5, 27.5, -0.5)"
            ]
          },
          "metadata": {},
          "execution_count": 11
        },
        {
          "output_type": "display_data",
          "data": {
            "text/plain": [
              "<Figure size 640x480 with 1 Axes>"
            ],
            "image/png": "[encoded data removed]"
          },
          "metadata": {}
        }
      ]
    },
    {
      "cell_type": "code",
      "source": [
        "torch.manual_seed(42)\n",
        "fig=plt.figure(figsize=(9, 9))\n",
        "rows, cols=4, 4\n",
        "for i in range(1, rows*cols+1):\n",
        "    random_idx=torch.randint(0, len(train_data), size=[1]).item()\n",
        "\n",
        "    img, label = train_data[random_idx]\n",
        "    fig.add_subplot(rows, cols, i)\n",
        "    plt.imshow(img.squeeze(), cmap=\"grey\")\n",
        "    plt.title(class_names[label])\n",
        "    plt.axis(False)\n"
      ],
      "metadata": {
        "colab": {
          "base_uri": "https://localhost:8080/",
          "height": 752
        },
        "id": "ShsJ1fic5ieN",
        "outputId": "01a2d3cb-70c5-4040-f546-189952596785"
      },
      "execution_count": null,
      "outputs": [
        {
          "output_type": "display_data",
          "data": {
            "text/plain": [
              "<Figure size 900x900 with 16 Axes>"
            ],
            "image/png": "[encoded data removed]"
          },
          "metadata": {}
        }
      ]
    },
    {
      "cell_type": "code",
      "source": [
        "train_data, test_data\n"
      ],
      "metadata": {
        "colab": {
          "base_uri": "https://localhost:8080/"
        },
        "id": "Ih6iDzHrEuzJ",
        "outputId": "621bf3a5-f053-417a-9ed6-b90ed4bfae5a"
      },
      "execution_count": null,
      "outputs": [
        {
          "output_type": "execute_result",
          "data": {
            "text/plain": [
              "(Dataset FashionMNIST\n",
              "     Number of datapoints: 60000\n",
              "     Root location: data\n",
              "     Split: Train\n",
              "     StandardTransform\n",
              " Transform: ToTensor(),\n",
              " Dataset FashionMNIST\n",
              "     Number of datapoints: 10000\n",
              "     Root location: data\n",
              "     Split: Test\n",
              "     StandardTransform\n",
              " Transform: ToTensor())"
            ]
          },
          "metadata": {},
          "execution_count": 13
        }
      ]
    },
    {
      "cell_type": "markdown",
      "source": [
        "### Dataloader\n",
        "currently: data is in the form of pytorch datasets\n",
        "\n",
        "next: dataloader turns our dataset into python iterables\n",
        "\n",
        "apparently that means making minibatches out of our dataset:\n",
        "1. makes it computationally efficient for our hardware\n",
        "2. gives our neural network the ability to update the gradient much more often per epoch?"
      ],
      "metadata": {
        "id": "zs-XHXZsCn9I"
      }
    },
    {
      "cell_type": "markdown",
      "source": [
        "### minibatches"
      ],
      "metadata": {
        "id": "1Z7RAh4DCaH1"
      }
    },
    {
      "cell_type": "code",
      "source": [
        "from torch.utils.data import DataLoader\n",
        "\n",
        "#setup the batch size\n",
        "BATCH_SIZE=32\n",
        "\n",
        "#turn dataseets into iterables\n",
        "train_dataloader=DataLoader(\n",
        "    dataset=train_data,\n",
        "    batch_size=BATCH_SIZE,\n",
        "    shuffle=True\n",
        ")\n",
        "test_dataloader=DataLoader(\n",
        "    dataset=test_data,\n",
        "    batch_size=BATCH_SIZE,\n",
        "    shuffle=False  #no need to shuffle our testdata, since the neural network is simply going to categorize on its own, and order isnt going to matter to it while testing it\n",
        ")\n",
        "\n",
        "train_dataloader, test_dataloader"
      ],
      "metadata": {
        "colab": {
          "base_uri": "https://localhost:8080/"
        },
        "id": "sfZOSAacCZfs",
        "outputId": "e058f81a-d3dc-45d2-cb72-5167d1efb8be"
      },
      "execution_count": null,
      "outputs": [
        {
          "output_type": "execute_result",
          "data": {
            "text/plain": [
              "(<torch.utils.data.dataloader.DataLoader at 0x787c434cda50>,\n",
              " <torch.utils.data.dataloader.DataLoader at 0x787d3545f890>)"
            ]
          },
          "metadata": {},
          "execution_count": 14
        }
      ]
    },
    {
      "cell_type": "code",
      "source": [
        "#checking what we've done and created\n",
        "\n",
        "print(f\"DataLoaders:{train_dataloader, test_dataloader}\")\n",
        "print(f\"length of the train_dataloader:{len(train_dataloader)} batches of {BATCH_SIZE}...\")\n",
        "print(f\"length of the test_dataloader:{len(test_dataloader)} batches of {BATCH_SIZE}...\")"
      ],
      "metadata": {
        "colab": {
          "base_uri": "https://localhost:8080/"
        },
        "id": "uH6sMEHtjpHA",
        "outputId": "a8ad3b77-84ce-4f42-f664-0ee5e12ffaf7"
      },
      "execution_count": null,
      "outputs": [
        {
          "output_type": "stream",
          "name": "stdout",
          "text": [
            "DataLoaders:(<torch.utils.data.dataloader.DataLoader object at 0x787c434cda50>, <torch.utils.data.dataloader.DataLoader object at 0x787d3545f890>)\n",
            "length of the train_dataloader:1875 batches of 32...\n",
            "length of the test_dataloader:313 batches of 32...\n"
          ]
        }
      ]
    },
    {
      "cell_type": "code",
      "source": [
        "# check out whats inside the training dataloader\n",
        "train_features_batch, train_labels_batch=next(iter(train_dataloader))#iter turns it into an iterable and we'll get the next batch with next\n",
        "train_features_batch.shape, train_labels_batch.shape\n",
        "\n",
        "# (torch.Size([32, 1, 28, 28]), torch.Size([32]))\n",
        "# different resolution image: (torch.Size([32, 1, x, y ]), torch.Size([32]))\n",
        "# more colour channels: (torch.Size([32, x, 28, 28]), torch.Size([32]))"
      ],
      "metadata": {
        "colab": {
          "base_uri": "https://localhost:8080/"
        },
        "id": "H2Ny4vbZlrte",
        "outputId": "53cbf320-1caa-4559-f674-4b882ff0835c"
      },
      "execution_count": null,
      "outputs": [
        {
          "output_type": "execute_result",
          "data": {
            "text/plain": [
              "(torch.Size([32, 1, 28, 28]), torch.Size([32]))"
            ]
          },
          "metadata": {},
          "execution_count": 16
        }
      ]
    },
    {
      "cell_type": "code",
      "source": [
        "#show a sample\n",
        "torch.manual_seed(42)\n",
        "random_idx=torch.randint(0, len(train_features_batch), size=[1]).item()\n",
        "img, label=train_features_batch[random_idx], train_labels_batch[random_idx]\n",
        "plt.imshow(img.squeeze(), cmap=\"gray\")\n",
        "plt.title(class_names[label])\n",
        "plt.axis(False)\n",
        "print(f\"Image size: {img.shape}\")\n",
        "print(f\"label: {label}, label size: {label.shape}\")"
      ],
      "metadata": {
        "colab": {
          "base_uri": "https://localhost:8080/",
          "height": 463
        },
        "id": "L75zxe4hmQ4O",
        "outputId": "e9fae511-e00a-4ac0-db67-f5434be5287e"
      },
      "execution_count": null,
      "outputs": [
        {
          "output_type": "stream",
          "name": "stdout",
          "text": [
            "Image size: torch.Size([1, 28, 28])\n",
            "label: 6, label size: torch.Size([])\n"
          ]
        },
        {
          "output_type": "display_data",
          "data": {
            "text/plain": [
              "<Figure size 640x480 with 1 Axes>"
            ],
            "image/png": "[encoded data removed]"
          },
          "metadata": {}
        }
      ]
    },
    {
      "cell_type": "markdown",
      "source": [
        "## Our First Baseline model\n",
        "we improve upon this one to get what we want"
      ],
      "metadata": {
        "id": "lUZ_Q93ppTjX"
      }
    },
    {
      "cell_type": "code",
      "source": [
        "#creating a flatten layer\n",
        "flatten_model=nn.Flatten()\n",
        "\n",
        "#get a single sample\n",
        "x=train_features_batch[0]\n",
        "\n",
        "#flatten the sample\n",
        "output=flatten_model(x) # perform forward pass\n",
        "\n",
        "#print out what happened\n",
        "print(f\"Shape before flattening: {x.shape}\")\n",
        "print(f\"Shape after flattening: {output.shape}\")"
      ],
      "metadata": {
        "colab": {
          "base_uri": "https://localhost:8080/"
        },
        "id": "CvOYcj0DpSer",
        "outputId": "056d42a4-c1b3-4c98-e05f-8756fa474652"
      },
      "execution_count": null,
      "outputs": [
        {
          "output_type": "stream",
          "name": "stdout",
          "text": [
            "Shape before flattening: torch.Size([1, 28, 28])\n",
            "Shape after flattening: torch.Size([1, 784])\n"
          ]
        }
      ]
    },
    {
      "cell_type": "code",
      "source": [
        "output"
      ],
      "metadata": {
        "colab": {
          "base_uri": "https://localhost:8080/"
        },
        "id": "AsxHrUi4qYa5",
        "outputId": "29cec399-ac4f-4f10-f12c-476d78aa327d"
      },
      "execution_count": null,
      "outputs": [
        {
          "output_type": "execute_result",
          "data": {
            "text/plain": [
              "tensor([[0.0000, 0.0000, 0.0000, 0.0000, 0.0000, 0.0000, 0.0000, 0.0000, 0.0000,\n",
              "         0.0000, 0.0000, 0.0000, 0.0000, 0.0000, 0.0000, 0.0000, 0.0000, 0.0000,\n",
              "         0.0000, 0.0000, 0.0000, 0.0000, 0.0000, 0.0000, 0.0000, 0.0000, 0.0000,\n",
              "         0.0000, 0.0000, 0.0000, 0.0000, 0.0000, 0.0000, 0.0000, 0.0000, 0.0000,\n",
              "         0.0000, 0.0000, 0.0000, 0.0000, 0.0000, 0.0000, 0.0000, 0.0000, 0.0000,\n",
              "         0.0000, 0.0000, 0.0000, 0.0000, 0.0000, 0.0000, 0.0000, 0.0000, 0.0000,\n",
              "         0.0000, 0.0000, 0.0000, 0.0000, 0.0000, 0.0000, 0.0000, 0.0000, 0.0000,\n",
              "         0.0000, 0.0000, 0.0000, 0.0000, 0.0000, 0.0000, 0.0000, 0.0000, 0.0000,\n",
              "         0.0000, 0.0000, 0.0000, 0.0000, 0.0000, 0.0000, 0.0000, 0.0000, 0.0000,\n",
              "         0.0000, 0.0000, 0.0000, 0.0000, 0.0000, 0.0000, 0.0000, 0.0000, 0.0000,\n",
              "         0.0000, 0.0000, 0.0000, 0.0039, 0.0039, 0.0000, 0.0000, 0.0078, 0.0078,\n",
              "         0.0000, 0.0000, 0.0039, 0.0078, 0.0000, 0.0000, 0.0000, 0.0000, 0.0000,\n",
              "         0.2863, 0.0000, 0.0000, 0.0078, 0.0000, 0.0000, 0.0000, 0.0000, 0.0000,\n",
              "         0.0000, 0.0000, 0.0000, 0.0000, 0.0000, 0.0000, 0.0000, 0.0000, 0.0000,\n",
              "         0.0000, 0.0000, 0.0000, 0.0000, 0.0000, 0.0000, 0.0000, 0.0000, 0.0000,\n",
              "         0.0000, 0.3725, 0.0000, 0.0000, 0.0000, 0.0000, 0.0000, 0.0000, 0.0000,\n",
              "         0.0000, 0.0000, 0.0000, 0.0000, 0.0000, 0.0000, 0.0000, 0.0000, 0.0000,\n",
              "         0.3373, 0.3569, 0.2039, 0.4980, 0.4196, 0.4706, 0.3608, 0.3961, 0.4706,\n",
              "         0.4471, 1.0000, 0.4314, 0.3451, 0.0078, 0.0000, 0.0000, 0.0000, 0.0000,\n",
              "         0.0000, 0.0000, 0.0000, 0.0000, 0.0000, 0.0000, 0.0000, 0.0000, 0.0000,\n",
              "         0.0000, 0.0706, 0.0824, 0.0706, 0.4588, 0.4118, 0.4980, 0.2588, 0.2235,\n",
              "         0.2588, 0.0824, 0.0510, 0.1922, 0.5137, 0.5765, 0.0000, 0.0000, 0.0000,\n",
              "         0.0000, 0.0000, 0.0000, 0.0000, 0.0000, 0.0000, 0.0000, 0.0000, 0.0000,\n",
              "         0.0000, 0.0000, 0.0000, 0.0000, 0.0000, 0.0000, 0.0000, 0.0000, 0.0000,\n",
              "         0.0000, 0.0000, 0.0000, 0.1333, 0.8000, 0.5608, 0.5255, 0.2431, 0.0000,\n",
              "         0.0000, 0.0000, 0.0000, 0.0000, 0.0000, 0.0000, 0.0000, 0.0000, 0.0000,\n",
              "         0.0000, 0.0000, 0.0000, 0.0039, 0.0039, 0.0000, 0.0000, 0.0000, 0.0000,\n",
              "         0.0078, 0.0000, 0.0000, 0.0000, 0.9137, 0.9686, 0.5137, 0.4353, 0.6471,\n",
              "         0.0000, 0.0000, 0.0000, 0.0000, 0.0000, 0.0000, 0.0000, 0.0000, 0.0000,\n",
              "         0.0000, 0.0000, 0.0000, 0.0000, 0.0000, 0.0000, 0.0000, 0.0000, 0.0000,\n",
              "         0.0000, 0.0000, 0.0000, 0.0000, 0.0588, 0.3843, 0.6980, 0.0588, 0.2824,\n",
              "         0.1686, 0.0000, 0.0000, 0.0000, 0.0000, 0.0000, 0.0000, 0.0000, 0.0000,\n",
              "         0.0000, 0.0000, 0.0000, 0.0000, 0.0000, 0.0000, 0.0000, 0.0000, 0.0000,\n",
              "         0.0000, 0.0000, 0.0000, 0.0000, 0.1333, 0.2078, 0.2157, 0.6745, 0.2941,\n",
              "         0.1059, 0.0000, 0.0000, 0.0000, 0.0000, 0.0000, 0.0000, 0.0000, 0.0000,\n",
              "         0.0000, 0.0000, 0.0000, 0.0000, 0.0000, 0.0000, 0.0000, 0.0000, 0.0000,\n",
              "         0.0000, 0.0000, 0.0039, 0.0000, 0.0078, 0.3333, 0.2980, 0.2941, 0.2039,\n",
              "         0.0314, 0.0000, 0.0000, 0.0000, 0.0000, 0.0000, 0.0000, 0.0000, 0.0000,\n",
              "         0.0000, 0.0000, 0.0000, 0.0000, 0.0000, 0.0000, 0.0000, 0.0000, 0.0000,\n",
              "         0.0000, 0.0000, 0.0039, 0.0039, 0.0000, 0.2196, 0.5020, 0.0157, 0.0706,\n",
              "         0.3451, 0.3216, 0.0588, 0.0000, 0.0000, 0.0000, 0.0000, 0.0000, 0.0000,\n",
              "         0.0000, 0.0000, 0.0000, 0.0000, 0.0000, 0.0000, 0.0000, 0.0000, 0.0000,\n",
              "         0.0000, 0.0000, 0.0000, 0.0000, 0.0000, 0.0157, 0.4863, 0.3843, 0.1804,\n",
              "         0.6235, 0.7882, 0.6000, 0.1569, 0.0000, 0.0000, 0.0000, 0.0000, 0.0000,\n",
              "         0.0000, 0.0000, 0.0000, 0.0000, 0.0000, 0.0000, 0.0000, 0.0000, 0.0000,\n",
              "         0.0000, 0.0000, 0.0000, 0.0000, 0.0000, 0.0000, 0.2863, 0.4431, 0.4196,\n",
              "         0.5882, 0.5020, 0.1020, 0.2235, 0.0549, 0.0000, 0.0000, 0.0000, 0.0000,\n",
              "         0.0000, 0.0000, 0.0000, 0.0000, 0.0000, 0.0000, 0.0000, 0.0000, 0.0000,\n",
              "         0.0000, 0.0000, 0.0000, 0.0000, 0.0000, 0.0000, 0.0039, 0.4078, 0.4314,\n",
              "         0.7137, 0.1843, 0.2196, 0.4118, 0.3216, 0.0196, 0.0000, 0.0000, 0.0000,\n",
              "         0.0000, 0.0000, 0.0039, 0.0000, 0.0000, 0.0000, 0.0000, 0.0000, 0.0000,\n",
              "         0.0000, 0.0000, 0.0000, 0.0000, 0.0000, 0.0000, 0.0000, 0.2549, 0.5647,\n",
              "         0.6275, 0.0824, 0.0000, 0.0000, 0.5098, 0.3333, 0.0000, 0.0000, 0.0000,\n",
              "         0.0000, 0.0000, 0.0000, 0.0000, 0.0000, 0.0039, 0.0039, 0.0000, 0.0000,\n",
              "         0.0000, 0.0000, 0.0000, 0.0000, 0.0000, 0.0000, 0.0000, 0.3333, 0.5647,\n",
              "         0.5529, 0.0000, 0.0000, 0.0000, 0.0000, 0.6510, 0.3059, 0.0000, 0.0000,\n",
              "         0.0000, 0.0000, 0.0000, 0.0000, 0.0000, 0.0000, 0.0000, 0.0000, 0.0000,\n",
              "         0.0000, 0.0000, 0.0000, 0.0000, 0.0000, 0.0000, 0.0000, 0.1922, 0.7216,\n",
              "         0.4510, 0.0000, 0.0000, 0.0157, 0.0000, 0.0000, 0.6275, 0.2667, 0.0000,\n",
              "         0.0000, 0.0000, 0.0000, 0.0000, 0.0039, 0.0000, 0.0000, 0.0784, 0.0784,\n",
              "         0.0000, 0.0000, 0.0000, 0.0000, 0.0000, 0.0000, 0.0000, 0.0706, 0.6392,\n",
              "         0.3804, 0.0000, 0.0000, 0.0000, 0.0314, 0.0000, 0.0000, 0.6667, 0.1529,\n",
              "         0.0000, 0.0000, 0.0000, 0.0000, 0.0039, 0.0000, 0.0314, 0.2471, 0.2980,\n",
              "         0.1686, 0.0000, 0.0000, 0.0000, 0.0000, 0.0000, 0.0000, 0.0000, 0.5255,\n",
              "         0.5333, 0.0000, 0.0000, 0.0000, 0.0000, 0.0078, 0.0000, 0.0000, 0.6784,\n",
              "         0.0706, 0.0000, 0.0039, 0.0039, 0.0039, 0.0000, 0.0000, 0.0706, 0.0941,\n",
              "         0.0000, 0.0196, 0.0000, 0.0000, 0.0000, 0.0000, 0.0000, 0.0000, 0.3451,\n",
              "         0.7137, 0.0275, 0.0000, 0.0000, 0.0000, 0.0000, 0.0000, 0.0000, 0.0000,\n",
              "         0.6588, 0.0039, 0.0000, 0.0039, 0.0000, 0.0000, 0.0000, 0.0000, 0.0078,\n",
              "         0.1922, 0.1059, 0.1216, 0.2196, 0.0667, 0.0000, 0.0000, 0.0000, 0.3451,\n",
              "         0.6000, 0.1922, 0.0000, 0.0196, 0.0000, 0.0039, 0.0000, 0.0000, 0.0000,\n",
              "         0.0000, 0.6471, 0.0000, 0.0000, 0.0039, 0.0510, 0.0275, 0.0000, 0.0000,\n",
              "         0.0000, 0.3294, 0.3804, 0.4000, 0.4941, 0.3882, 0.0000, 0.0196, 0.5020,\n",
              "         0.6000, 0.2863, 0.0000, 0.0000, 0.0000, 0.0000, 0.0000, 0.0000, 0.0000,\n",
              "         0.0000, 0.0039, 0.5451, 0.0000, 0.0000, 0.0000, 0.3176, 0.5961, 0.5725,\n",
              "         0.5490, 0.4863, 0.4824, 0.5098, 0.4941, 0.4431, 0.4431, 0.4471, 0.7216,\n",
              "         0.6235, 0.1647, 0.0000, 0.0000, 0.0000, 0.0078, 0.0000, 0.0000, 0.0000,\n",
              "         0.0000, 0.0000, 0.0000, 0.7294, 0.0000, 0.0000, 0.0039, 0.0000, 0.0000,\n",
              "         0.0000, 0.0941, 0.1647, 0.1804, 0.2235, 0.2549, 0.2706, 0.2549, 0.2471,\n",
              "         0.1569, 0.0000, 0.0000, 0.0000, 0.0000, 0.0000, 0.0000, 0.0000, 0.0000,\n",
              "         0.0000, 0.0000, 0.0000, 0.0000, 0.7137, 0.0157, 0.0000, 0.0039, 0.0000,\n",
              "         0.0000, 0.0000, 0.0000, 0.0000, 0.0000, 0.0000, 0.0000, 0.0000, 0.0000,\n",
              "         0.0000, 0.0000, 0.0000, 0.0000, 0.0000, 0.0000, 0.0000, 0.0000, 0.0000,\n",
              "         0.0000, 0.0000, 0.0000, 0.0000, 0.0000, 0.0000, 0.0000, 0.0000, 0.0000,\n",
              "         0.0000, 0.0000, 0.0000, 0.0000, 0.0000, 0.0000, 0.0000, 0.0000, 0.0000,\n",
              "         0.0000, 0.0000, 0.0000, 0.0000, 0.0000, 0.0000, 0.0000, 0.0000, 0.0000,\n",
              "         0.0000, 0.0000, 0.0000, 0.0000, 0.0000, 0.0000, 0.0000, 0.0000, 0.0000,\n",
              "         0.0000]])"
            ]
          },
          "metadata": {},
          "execution_count": 19
        }
      ]
    },
    {
      "cell_type": "code",
      "source": [
        "output.squeeze()"
      ],
      "metadata": {
        "colab": {
          "base_uri": "https://localhost:8080/"
        },
        "id": "CNAW4V8DqbYX",
        "outputId": "bacfb461-65ca-4a8b-91ea-c0efcb8037d2"
      },
      "execution_count": null,
      "outputs": [
        {
          "output_type": "execute_result",
          "data": {
            "text/plain": [
              "tensor([0.0000, 0.0000, 0.0000, 0.0000, 0.0000, 0.0000, 0.0000, 0.0000, 0.0000,\n",
              "        0.0000, 0.0000, 0.0000, 0.0000, 0.0000, 0.0000, 0.0000, 0.0000, 0.0000,\n",
              "        0.0000, 0.0000, 0.0000, 0.0000, 0.0000, 0.0000, 0.0000, 0.0000, 0.0000,\n",
              "        0.0000, 0.0000, 0.0000, 0.0000, 0.0000, 0.0000, 0.0000, 0.0000, 0.0000,\n",
              "        0.0000, 0.0000, 0.0000, 0.0000, 0.0000, 0.0000, 0.0000, 0.0000, 0.0000,\n",
              "        0.0000, 0.0000, 0.0000, 0.0000, 0.0000, 0.0000, 0.0000, 0.0000, 0.0000,\n",
              "        0.0000, 0.0000, 0.0000, 0.0000, 0.0000, 0.0000, 0.0000, 0.0000, 0.0000,\n",
              "        0.0000, 0.0000, 0.0000, 0.0000, 0.0000, 0.0000, 0.0000, 0.0000, 0.0000,\n",
              "        0.0000, 0.0000, 0.0000, 0.0000, 0.0000, 0.0000, 0.0000, 0.0000, 0.0000,\n",
              "        0.0000, 0.0000, 0.0000, 0.0000, 0.0000, 0.0000, 0.0000, 0.0000, 0.0000,\n",
              "        0.0000, 0.0000, 0.0000, 0.0039, 0.0039, 0.0000, 0.0000, 0.0078, 0.0078,\n",
              "        0.0000, 0.0000, 0.0039, 0.0078, 0.0000, 0.0000, 0.0000, 0.0000, 0.0000,\n",
              "        0.2863, 0.0000, 0.0000, 0.0078, 0.0000, 0.0000, 0.0000, 0.0000, 0.0000,\n",
              "        0.0000, 0.0000, 0.0000, 0.0000, 0.0000, 0.0000, 0.0000, 0.0000, 0.0000,\n",
              "        0.0000, 0.0000, 0.0000, 0.0000, 0.0000, 0.0000, 0.0000, 0.0000, 0.0000,\n",
              "        0.0000, 0.3725, 0.0000, 0.0000, 0.0000, 0.0000, 0.0000, 0.0000, 0.0000,\n",
              "        0.0000, 0.0000, 0.0000, 0.0000, 0.0000, 0.0000, 0.0000, 0.0000, 0.0000,\n",
              "        0.3373, 0.3569, 0.2039, 0.4980, 0.4196, 0.4706, 0.3608, 0.3961, 0.4706,\n",
              "        0.4471, 1.0000, 0.4314, 0.3451, 0.0078, 0.0000, 0.0000, 0.0000, 0.0000,\n",
              "        0.0000, 0.0000, 0.0000, 0.0000, 0.0000, 0.0000, 0.0000, 0.0000, 0.0000,\n",
              "        0.0000, 0.0706, 0.0824, 0.0706, 0.4588, 0.4118, 0.4980, 0.2588, 0.2235,\n",
              "        0.2588, 0.0824, 0.0510, 0.1922, 0.5137, 0.5765, 0.0000, 0.0000, 0.0000,\n",
              "        0.0000, 0.0000, 0.0000, 0.0000, 0.0000, 0.0000, 0.0000, 0.0000, 0.0000,\n",
              "        0.0000, 0.0000, 0.0000, 0.0000, 0.0000, 0.0000, 0.0000, 0.0000, 0.0000,\n",
              "        0.0000, 0.0000, 0.0000, 0.1333, 0.8000, 0.5608, 0.5255, 0.2431, 0.0000,\n",
              "        0.0000, 0.0000, 0.0000, 0.0000, 0.0000, 0.0000, 0.0000, 0.0000, 0.0000,\n",
              "        0.0000, 0.0000, 0.0000, 0.0039, 0.0039, 0.0000, 0.0000, 0.0000, 0.0000,\n",
              "        0.0078, 0.0000, 0.0000, 0.0000, 0.9137, 0.9686, 0.5137, 0.4353, 0.6471,\n",
              "        0.0000, 0.0000, 0.0000, 0.0000, 0.0000, 0.0000, 0.0000, 0.0000, 0.0000,\n",
              "        0.0000, 0.0000, 0.0000, 0.0000, 0.0000, 0.0000, 0.0000, 0.0000, 0.0000,\n",
              "        0.0000, 0.0000, 0.0000, 0.0000, 0.0588, 0.3843, 0.6980, 0.0588, 0.2824,\n",
              "        0.1686, 0.0000, 0.0000, 0.0000, 0.0000, 0.0000, 0.0000, 0.0000, 0.0000,\n",
              "        0.0000, 0.0000, 0.0000, 0.0000, 0.0000, 0.0000, 0.0000, 0.0000, 0.0000,\n",
              "        0.0000, 0.0000, 0.0000, 0.0000, 0.1333, 0.2078, 0.2157, 0.6745, 0.2941,\n",
              "        0.1059, 0.0000, 0.0000, 0.0000, 0.0000, 0.0000, 0.0000, 0.0000, 0.0000,\n",
              "        0.0000, 0.0000, 0.0000, 0.0000, 0.0000, 0.0000, 0.0000, 0.0000, 0.0000,\n",
              "        0.0000, 0.0000, 0.0039, 0.0000, 0.0078, 0.3333, 0.2980, 0.2941, 0.2039,\n",
              "        0.0314, 0.0000, 0.0000, 0.0000, 0.0000, 0.0000, 0.0000, 0.0000, 0.0000,\n",
              "        0.0000, 0.0000, 0.0000, 0.0000, 0.0000, 0.0000, 0.0000, 0.0000, 0.0000,\n",
              "        0.0000, 0.0000, 0.0039, 0.0039, 0.0000, 0.2196, 0.5020, 0.0157, 0.0706,\n",
              "        0.3451, 0.3216, 0.0588, 0.0000, 0.0000, 0.0000, 0.0000, 0.0000, 0.0000,\n",
              "        0.0000, 0.0000, 0.0000, 0.0000, 0.0000, 0.0000, 0.0000, 0.0000, 0.0000,\n",
              "        0.0000, 0.0000, 0.0000, 0.0000, 0.0000, 0.0157, 0.4863, 0.3843, 0.1804,\n",
              "        0.6235, 0.7882, 0.6000, 0.1569, 0.0000, 0.0000, 0.0000, 0.0000, 0.0000,\n",
              "        0.0000, 0.0000, 0.0000, 0.0000, 0.0000, 0.0000, 0.0000, 0.0000, 0.0000,\n",
              "        0.0000, 0.0000, 0.0000, 0.0000, 0.0000, 0.0000, 0.2863, 0.4431, 0.4196,\n",
              "        0.5882, 0.5020, 0.1020, 0.2235, 0.0549, 0.0000, 0.0000, 0.0000, 0.0000,\n",
              "        0.0000, 0.0000, 0.0000, 0.0000, 0.0000, 0.0000, 0.0000, 0.0000, 0.0000,\n",
              "        0.0000, 0.0000, 0.0000, 0.0000, 0.0000, 0.0000, 0.0039, 0.4078, 0.4314,\n",
              "        0.7137, 0.1843, 0.2196, 0.4118, 0.3216, 0.0196, 0.0000, 0.0000, 0.0000,\n",
              "        0.0000, 0.0000, 0.0039, 0.0000, 0.0000, 0.0000, 0.0000, 0.0000, 0.0000,\n",
              "        0.0000, 0.0000, 0.0000, 0.0000, 0.0000, 0.0000, 0.0000, 0.2549, 0.5647,\n",
              "        0.6275, 0.0824, 0.0000, 0.0000, 0.5098, 0.3333, 0.0000, 0.0000, 0.0000,\n",
              "        0.0000, 0.0000, 0.0000, 0.0000, 0.0000, 0.0039, 0.0039, 0.0000, 0.0000,\n",
              "        0.0000, 0.0000, 0.0000, 0.0000, 0.0000, 0.0000, 0.0000, 0.3333, 0.5647,\n",
              "        0.5529, 0.0000, 0.0000, 0.0000, 0.0000, 0.6510, 0.3059, 0.0000, 0.0000,\n",
              "        0.0000, 0.0000, 0.0000, 0.0000, 0.0000, 0.0000, 0.0000, 0.0000, 0.0000,\n",
              "        0.0000, 0.0000, 0.0000, 0.0000, 0.0000, 0.0000, 0.0000, 0.1922, 0.7216,\n",
              "        0.4510, 0.0000, 0.0000, 0.0157, 0.0000, 0.0000, 0.6275, 0.2667, 0.0000,\n",
              "        0.0000, 0.0000, 0.0000, 0.0000, 0.0039, 0.0000, 0.0000, 0.0784, 0.0784,\n",
              "        0.0000, 0.0000, 0.0000, 0.0000, 0.0000, 0.0000, 0.0000, 0.0706, 0.6392,\n",
              "        0.3804, 0.0000, 0.0000, 0.0000, 0.0314, 0.0000, 0.0000, 0.6667, 0.1529,\n",
              "        0.0000, 0.0000, 0.0000, 0.0000, 0.0039, 0.0000, 0.0314, 0.2471, 0.2980,\n",
              "        0.1686, 0.0000, 0.0000, 0.0000, 0.0000, 0.0000, 0.0000, 0.0000, 0.5255,\n",
              "        0.5333, 0.0000, 0.0000, 0.0000, 0.0000, 0.0078, 0.0000, 0.0000, 0.6784,\n",
              "        0.0706, 0.0000, 0.0039, 0.0039, 0.0039, 0.0000, 0.0000, 0.0706, 0.0941,\n",
              "        0.0000, 0.0196, 0.0000, 0.0000, 0.0000, 0.0000, 0.0000, 0.0000, 0.3451,\n",
              "        0.7137, 0.0275, 0.0000, 0.0000, 0.0000, 0.0000, 0.0000, 0.0000, 0.0000,\n",
              "        0.6588, 0.0039, 0.0000, 0.0039, 0.0000, 0.0000, 0.0000, 0.0000, 0.0078,\n",
              "        0.1922, 0.1059, 0.1216, 0.2196, 0.0667, 0.0000, 0.0000, 0.0000, 0.3451,\n",
              "        0.6000, 0.1922, 0.0000, 0.0196, 0.0000, 0.0039, 0.0000, 0.0000, 0.0000,\n",
              "        0.0000, 0.6471, 0.0000, 0.0000, 0.0039, 0.0510, 0.0275, 0.0000, 0.0000,\n",
              "        0.0000, 0.3294, 0.3804, 0.4000, 0.4941, 0.3882, 0.0000, 0.0196, 0.5020,\n",
              "        0.6000, 0.2863, 0.0000, 0.0000, 0.0000, 0.0000, 0.0000, 0.0000, 0.0000,\n",
              "        0.0000, 0.0039, 0.5451, 0.0000, 0.0000, 0.0000, 0.3176, 0.5961, 0.5725,\n",
              "        0.5490, 0.4863, 0.4824, 0.5098, 0.4941, 0.4431, 0.4431, 0.4471, 0.7216,\n",
              "        0.6235, 0.1647, 0.0000, 0.0000, 0.0000, 0.0078, 0.0000, 0.0000, 0.0000,\n",
              "        0.0000, 0.0000, 0.0000, 0.7294, 0.0000, 0.0000, 0.0039, 0.0000, 0.0000,\n",
              "        0.0000, 0.0941, 0.1647, 0.1804, 0.2235, 0.2549, 0.2706, 0.2549, 0.2471,\n",
              "        0.1569, 0.0000, 0.0000, 0.0000, 0.0000, 0.0000, 0.0000, 0.0000, 0.0000,\n",
              "        0.0000, 0.0000, 0.0000, 0.0000, 0.7137, 0.0157, 0.0000, 0.0039, 0.0000,\n",
              "        0.0000, 0.0000, 0.0000, 0.0000, 0.0000, 0.0000, 0.0000, 0.0000, 0.0000,\n",
              "        0.0000, 0.0000, 0.0000, 0.0000, 0.0000, 0.0000, 0.0000, 0.0000, 0.0000,\n",
              "        0.0000, 0.0000, 0.0000, 0.0000, 0.0000, 0.0000, 0.0000, 0.0000, 0.0000,\n",
              "        0.0000, 0.0000, 0.0000, 0.0000, 0.0000, 0.0000, 0.0000, 0.0000, 0.0000,\n",
              "        0.0000, 0.0000, 0.0000, 0.0000, 0.0000, 0.0000, 0.0000, 0.0000, 0.0000,\n",
              "        0.0000, 0.0000, 0.0000, 0.0000, 0.0000, 0.0000, 0.0000, 0.0000, 0.0000,\n",
              "        0.0000])"
            ]
          },
          "metadata": {},
          "execution_count": 20
        }
      ]
    },
    {
      "cell_type": "code",
      "source": [
        "from torch import nn\n",
        "class FashionMNISTModelV0(nn.Module):\n",
        "  def __init__(self,\n",
        "               input_shape:int,\n",
        "               hidden_units:int,\n",
        "               output_shape:int):\n",
        "   super().__init__()\n",
        "   self.layer_stack = nn.Sequential(\n",
        "      nn.Flatten(),\n",
        "      nn.Linear(in_features=input_shape,\n",
        "                out_features=hidden_units),\n",
        "      nn.Linear(in_features=hidden_units,\n",
        "                out_features=output_shape)\n",
        "\n",
        "  )\n",
        "\n",
        "  def forward(self, x):\n",
        "    return self.layer_stack(x)"
      ],
      "metadata": {
        "id": "3RZNASQTqsN4"
      },
      "execution_count": null,
      "outputs": []
    },
    {
      "cell_type": "code",
      "source": [
        "torch.manual_seed(42)\n",
        "\n",
        "#setup model with input parameters\n",
        "model_0 = FashionMNISTModelV0(\n",
        "    input_shape=784, #this is 28*28\n",
        "    hidden_units=10, #how many units in the hidden layer\n",
        "    output_shape=len(class_names) #one for every class\n",
        ").to(\"cpu\")\n",
        "\n",
        "model_0"
      ],
      "metadata": {
        "colab": {
          "base_uri": "https://localhost:8080/"
        },
        "id": "G-XIofjIu4Js",
        "outputId": "cf00e75f-2510-445a-d5c9-f76c29413f14"
      },
      "execution_count": null,
      "outputs": [
        {
          "output_type": "execute_result",
          "data": {
            "text/plain": [
              "FashionMNISTModelV0(\n",
              "  (layer_stack): Sequential(\n",
              "    (0): Flatten(start_dim=1, end_dim=-1)\n",
              "    (1): Linear(in_features=784, out_features=10, bias=True)\n",
              "    (2): Linear(in_features=10, out_features=10, bias=True)\n",
              "  )\n",
              ")"
            ]
          },
          "metadata": {},
          "execution_count": 22
        }
      ]
    },
    {
      "cell_type": "code",
      "source": [
        "dummy_x=torch.rand([1, 1, 28, 28])\n",
        "model_0(dummy_x)"
      ],
      "metadata": {
        "colab": {
          "base_uri": "https://localhost:8080/"
        },
        "id": "D4LBKJKNvqWP",
        "outputId": "aec5c0cb-0812-4658-d4c4-cc338b2ab5fa"
      },
      "execution_count": null,
      "outputs": [
        {
          "output_type": "execute_result",
          "data": {
            "text/plain": [
              "tensor([[-0.0315,  0.3171,  0.0531, -0.2525,  0.5959,  0.2112,  0.3233,  0.2694,\n",
              "         -0.1004,  0.0157]], grad_fn=<AddmmBackward0>)"
            ]
          },
          "metadata": {},
          "execution_count": 23
        }
      ]
    },
    {
      "cell_type": "markdown",
      "source": [
        "### Loss Functions and optimizers\n",
        "#### Loss function: since we're dealing with multi-class data, our loss function will be 'nn.CrossEntropyLoss()'\n",
        "#### Optimizer- our optimizer 'torch.optim.SGD'(stochastic gradient descent)\n",
        "\n",
        "-------\n",
        "\n",
        "### Loss: Cross Entropy Loss\n",
        "### Optimizer : SGD(stochastic gradient descent)\n",
        "------\n"
      ],
      "metadata": {
        "id": "0PXgmMdDkDzQ"
      }
    },
    {
      "cell_type": "code",
      "source": [
        "import requests\n",
        "from pathlib import Path\n",
        "\n",
        "#download helper functions form learnpytorch repo\n",
        "if Path(\"helper_functions.py\").is_file():\n",
        "  print(\"helper_functions.py already exists, skipping the download...\")\n",
        "else:\n",
        "  print(\"downloading the helper_functions.py\")\n",
        "  request=requests.get(\"https://raw.githubusercontent.com/mrdbourke/pytorch-deep-learning/main/helper_functions.py\")\n",
        "  with open(\"helper_functions.py\", \"wb\") as f:\n",
        "    f.write(request.content)"
      ],
      "metadata": {
        "colab": {
          "base_uri": "https://localhost:8080/"
        },
        "id": "GsbA_NKCmVZh",
        "outputId": "b70d569b-809f-45da-f0ec-9c204fcf87b8"
      },
      "execution_count": null,
      "outputs": [
        {
          "output_type": "stream",
          "name": "stdout",
          "text": [
            "downloading the helper_functions.py\n"
          ]
        }
      ]
    },
    {
      "cell_type": "markdown",
      "source": [],
      "metadata": {
        "id": "r3CwNf9nsb2A"
      }
    },
    {
      "cell_type": "code",
      "source": [
        "#importing accuracy function\n",
        "from helper_functions import accuracy_fn\n",
        "\n",
        "#setup loss function and optimizer\n",
        "loss_fn=nn.CrossEntropyLoss()\n",
        "optimizer=torch.optim.SGD(params=model_0.parameters(), lr=0.1)"
      ],
      "metadata": {
        "id": "D0B6P2n3vNBA"
      },
      "execution_count": null,
      "outputs": []
    },
    {
      "cell_type": "code",
      "source": [
        "accuracy_fn"
      ],
      "metadata": {
        "colab": {
          "base_uri": "https://localhost:8080/",
          "height": 186
        },
        "id": "zZd4lse-wKkc",
        "outputId": "a0e9b80d-9d48-48b4-eb60-2730754b1741"
      },
      "execution_count": null,
      "outputs": [
        {
          "output_type": "execute_result",
          "data": {
            "text/plain": [
              "<function helper_functions.accuracy_fn(y_true, y_pred)>"
            ],
            "text/html": [
              "<div style=\"max-width:800px; border: 1px solid var(--colab-border-color);\"><style>\n",
              "      pre.function-repr-contents {\n",
              "        overflow-x: auto;\n",
              "        padding: 8px 12px;\n",
              "        max-height: 500px;\n",
              "      }\n",
              "\n",
              "      pre.function-repr-contents.function-repr-contents-collapsed {\n",
              "        cursor: pointer;\n",
              "        max-height: 100px;\n",
              "      }\n",
              "    </style>\n",
              "    <pre style=\"white-space: initial; background:\n",
              "         var(--colab-secondary-surface-color); padding: 8px 12px;\n",
              "         border-bottom: 1px solid var(--colab-border-color);\"><b>helper_functions.accuracy_fn</b><br/>def accuracy_fn(y_true, y_pred)</pre><pre class=\"function-repr-contents function-repr-contents-collapsed\" style=\"\"><a class=\"filepath\" style=\"display:none\" href=\"#\">/content/helper_functions.py</a>Calculates accuracy between truth labels and predictions.\n",
              "\n",
              "Args:\n",
              "    y_true (torch.Tensor): Truth labels for predictions.\n",
              "    y_pred (torch.Tensor): Predictions to be compared to predictions.\n",
              "\n",
              "Returns:\n",
              "    [torch.float]: Accuracy value between y_true and y_pred, e.g. 78.45</pre>\n",
              "      <script>\n",
              "      if (google.colab.kernel.accessAllowed && google.colab.files && google.colab.files.view) {\n",
              "        for (const element of document.querySelectorAll('.filepath')) {\n",
              "          element.style.display = 'block'\n",
              "          element.onclick = (event) => {\n",
              "            event.preventDefault();\n",
              "            event.stopPropagation();\n",
              "            google.colab.files.view(element.textContent, 98);\n",
              "          };\n",
              "        }\n",
              "      }\n",
              "      for (const element of document.querySelectorAll('.function-repr-contents')) {\n",
              "        element.onclick = (event) => {\n",
              "          event.preventDefault();\n",
              "          event.stopPropagation();\n",
              "          element.classList.toggle('function-repr-contents-collapsed');\n",
              "        };\n",
              "      }\n",
              "      </script>\n",
              "      </div>"
            ]
          },
          "metadata": {},
          "execution_count": 26
        }
      ]
    },
    {
      "cell_type": "markdown",
      "source": [
        "### creating a function to time our experiments"
      ],
      "metadata": {
        "id": "Yee91WkxweTX"
      }
    },
    {
      "cell_type": "code",
      "source": [
        "from timeit import default_timer as timer\n",
        "def print_train_time(\n",
        "\n",
        "    start: float,\n",
        "    end: float,\n",
        "    device: torch.device = None):\n",
        " \"\"\"Prints difference between start and end time\"\"\"\n",
        " total_time= end-start\n",
        " print(f\"Train time on{device}: {total_time:.3f} seconds\")\n",
        " return total_time"
      ],
      "metadata": {
        "id": "4-wkG8E2wdmT"
      },
      "execution_count": null,
      "outputs": []
    },
    {
      "cell_type": "code",
      "source": [
        "start_time=timer()\n",
        "\n",
        "#code\n",
        "\n",
        "end_time=timer()\n",
        "print_train_time(start=start_time, end=end_time, device=\"cpu\")"
      ],
      "metadata": {
        "colab": {
          "base_uri": "https://localhost:8080/"
        },
        "id": "ruiLUryZyDNO",
        "outputId": "235e0408-8ffe-4610-f802-e086421b86d8"
      },
      "execution_count": null,
      "outputs": [
        {
          "output_type": "stream",
          "name": "stdout",
          "text": [
            "Train time oncpu: 0.000 seconds\n"
          ]
        },
        {
          "output_type": "execute_result",
          "data": {
            "text/plain": [
              "4.54700000034336e-05"
            ]
          },
          "metadata": {},
          "execution_count": 28
        }
      ]
    },
    {
      "cell_type": "markdown",
      "source": [
        "## Creating a training loop and training a model on batches of data\n",
        "\n",
        "1. loop through epochs\n",
        "2. loop through training batches, perform training steps, calculate the train loss per batch\n",
        "3. loop through testing batches, perform testing steps, calculate the test loss per batch\n",
        "4. Print out what's happening\n",
        "5. Time it all(for fun).\n"
      ],
      "metadata": {
        "id": "TJnmm-9e6qXG"
      }
    },
    {
      "cell_type": "code",
      "source": [
        "#import tqdm for progress bar\n",
        "from tqdm.auto import tqdm\n",
        "\n",
        "#set the seed and start the timer\n",
        "torch.manual_seed(42)\n",
        "train_time_start_on_cpu=timer()\n",
        "\n",
        "#set the number of epochs(setting it small for now for quicker training time)\n",
        "epochs=3\n",
        "\n",
        "#create training and test loop\n",
        "for epoch in tqdm(range(epochs)):\n",
        "  print(f\"Epoch: {epoch}\\n------\")\n",
        "  ### training\n",
        "  train_loss=0\n",
        "  #add a loop to loop through the training batches\n",
        "  for batch, (X, y) in enumerate(train_dataloader):\n",
        "    model_0.train()\n",
        "    #forward pass?\n",
        "    y_pred=model_0(X)\n",
        "\n",
        "    #calculate the loss (per batch):\n",
        "    loss=loss_fn(y_pred, y)\n",
        "    train_loss= train_loss+loss\n",
        "\n",
        "    #optimizer zero grad\n",
        "    optimizer.zero_grad()\n",
        "\n",
        "    #loss backward\n",
        "    loss.backward()\n",
        "\n",
        "    #optimizer step\n",
        "    optimizer.step() #present in batch loop rather than the epoch loop, thus works per batch rather than each epoch\n",
        "\n",
        "    #print out what's happening\n",
        "    if batch % 400==0:\n",
        "        print(f\"looked at {batch * len(X)}/{len(train_dataloader.dataset)} samples.\")\n",
        "\n",
        "  #divide total train loss by length of dataloader\n",
        "  train_loss/=len(train_dataloader)\n",
        "\n",
        "  #testing\n",
        "  test_loss, test_acc=0, 0\n",
        "  model_0.eval()\n",
        "  with torch.inference_mode():\n",
        "    for X_test, y_test in test_dataloader:\n",
        "      #1. forward pass\n",
        "      test_pred=model_0(X_test)\n",
        "      #2.calculate the loss(accumulatively)\n",
        "      test_loss+=loss_fn(test_pred, y_test)\n",
        "      #calculate the accuracy\n",
        "      test_acc+=accuracy_fn(y_true=y_test, y_pred=test_pred.argmax(dim=1))\n",
        "    #adjust metrics to get average loss and accuracy per batch\n",
        "    test_loss/=len(test_dataloader)\n",
        "    #calculate the test acc average per batch\n",
        "    test_acc/=len(test_dataloader)\n",
        "    #print out what's happening\n",
        "    print(f\"nTrain loss: {train_loss:.4f} | test loss: {test_loss:.4f} | test acc: {test_acc:.4f}\")\n",
        "\n",
        "  #calculate the training time\n",
        "  train_time_end_on_cpu=timer()\n",
        "  total_train_time_model_0=print_train_time(start=train_time_start_on_cpu,\n",
        "                                            end=train_time_end_on_cpu,\n",
        "                                            device=str(next(model_0.parameters()).device))"
      ],
      "metadata": {
        "colab": {
          "base_uri": "https://localhost:8080/",
          "height": 517,
          "referenced_widgets": [
            "95027d3e13654cfb962855a044959c28",
            "a8fe58eb227440d7b47ce41f42306eb4",
            "f54a2fb8c3394c63b98a93bba8b717e8",
            "4e2ce6fb83564a46897cd729f98a6592",
            "7068d03be7a640b2b508f743e9fdc3e8",
            "6e189a6381e1440fa2478a2d9eb06b3d",
            "430c3c65401a41e69360847d39ace023",
            "d162579b1fe04217a451ff3313924555",
            "e8c8c3d1d6204be5ada8075e615fa237",
            "5ea78663b2164925981ba55e088faf7e",
            "06c2bd6ff2ea4529809f2c71538e9ff8"
          ]
        },
        "id": "-WJsFtmJ5yXE",
        "outputId": "1ead7e32-2cd7-4ba7-e788-0a753dba79ca"
      },
      "execution_count": null,
      "outputs": [
        {
          "output_type": "display_data",
          "data": {
            "text/plain": [
              "  0%|          | 0/3 [00:00<?, ?it/s]"
            ],
            "application/vnd.jupyter.widget-view+json": {
              "version_major": 2,
              "version_minor": 0,
              "model_id": "95027d3e13654cfb962855a044959c28"
            }
          },
          "metadata": {}
        },
        {
          "output_type": "stream",
          "name": "stdout",
          "text": [
            "Epoch: 0\n",
            "------\n",
            "looked at 0/60000 samples.\n",
            "looked at 12800/60000 samples.\n",
            "looked at 25600/60000 samples.\n",
            "looked at 38400/60000 samples.\n",
            "looked at 51200/60000 samples.\n",
            "nTrain loss: 0.5904 | test loss: 0.5095 | test acc: 82.0387\n",
            "Train time oncpu: 12.503 seconds\n",
            "Epoch: 1\n",
            "------\n",
            "looked at 0/60000 samples.\n",
            "looked at 12800/60000 samples.\n",
            "looked at 25600/60000 samples.\n",
            "looked at 38400/60000 samples.\n",
            "looked at 51200/60000 samples.\n",
            "nTrain loss: 0.4763 | test loss: 0.4799 | test acc: 83.1969\n",
            "Train time oncpu: 21.782 seconds\n",
            "Epoch: 2\n",
            "------\n",
            "looked at 0/60000 samples.\n",
            "looked at 12800/60000 samples.\n",
            "looked at 25600/60000 samples.\n",
            "looked at 38400/60000 samples.\n",
            "looked at 51200/60000 samples.\n",
            "nTrain loss: 0.4550 | test loss: 0.4766 | test acc: 83.4265\n",
            "Train time oncpu: 30.038 seconds\n"
          ]
        }
      ]
    },
    {
      "cell_type": "markdown",
      "source": [
        "##Make predictions and get model 0 results\n",
        "\n"
      ],
      "metadata": {
        "id": "Zr-6lSTOIvg0"
      }
    },
    {
      "cell_type": "code",
      "source": [
        "torch.manual_seed(42)\n",
        "def eval_model(model:torch.nn.Module,\n",
        "               data_loader: torch.utils.data.DataLoader,\n",
        "               loss_fn: torch.nn.Module,\n",
        "               accuracy_fn):\n",
        "  \"\"\"Returns a dictionary containing the results of model predicting on dataloader\"\"\"\n",
        "  loss, acc=0, 0\n",
        "  model.eval()\n",
        "  with torch.inference_mode():\n",
        "    for X, y in tqdm(data_loader):\n",
        "      #make our data device agnostic\n",
        "      #X, y = X.to(device), y.to(device)\n",
        "\n",
        "      #make predictions\n",
        "      y_pred= model(X)\n",
        "\n",
        "      #accumulate the loss and acc values per batch\n",
        "      loss+=loss_fn(y_pred, y)\n",
        "      acc += accuracy_fn(y_true=y,\n",
        "                         y_pred=y_pred.argmax(dim=1))\n",
        "\n",
        "    #scale the loss and acc to find the averagw loss/acc pre batch\n",
        "    loss/=len(data_loader)\n",
        "    acc/=len(data_loader)\n",
        "\n",
        "  return {\"model_name\":model.__class__.__name__,\n",
        "          \"model_loss\":loss.item(),\n",
        "          \"model_acc\": acc}\n",
        "\n",
        "#calculate the model0 results on the test dataset\n",
        "model_0_results=eval_model(model=model_0,\n",
        "                          data_loader=test_dataloader,\n",
        "                          loss_fn=loss_fn,\n",
        "                          accuracy_fn=accuracy_fn)\n",
        "model_0_results\n",
        "\n",
        "\n",
        "\n"
      ],
      "metadata": {
        "colab": {
          "base_uri": "https://localhost:8080/",
          "height": 101,
          "referenced_widgets": [
            "fc6f151908da419ab18f4f6741a2ad56",
            "9b0b8ad0e75347e2b0dd93cb79a89853",
            "458f2ef13e7d4d798d19424a45d8f214",
            "244c5734aacc470ba9eddd22bbb441da",
            "8c786c05ba19458f830c63799a104c4a",
            "4737da8aac2e46a4bd2bd39b8dc37f88",
            "c600bd631e3a4e02b0e9a8e005599e2f",
            "87ee5731b5394757a67a19bbea6ddaf3",
            "302e67d1d87442fcbb9f3072caf430e0",
            "3eb6b32a12124131af33d73bfe28c4ff",
            "ccd36eb080414d58a0716a9e8db00350"
          ]
        },
        "id": "UZO0KKR7Imje",
        "outputId": "f8acddfb-0795-44af-878d-881136c76621"
      },
      "execution_count": null,
      "outputs": [
        {
          "output_type": "display_data",
          "data": {
            "text/plain": [
              "  0%|          | 0/313 [00:00<?, ?it/s]"
            ],
            "application/vnd.jupyter.widget-view+json": {
              "version_major": 2,
              "version_minor": 0,
              "model_id": "fc6f151908da419ab18f4f6741a2ad56"
            }
          },
          "metadata": {}
        },
        {
          "output_type": "execute_result",
          "data": {
            "text/plain": [
              "{'model_name': 'FashionMNISTModelV0',\n",
              " 'model_loss': 0.47663894295692444,\n",
              " 'model_acc': 83.42651757188499}"
            ]
          },
          "metadata": {},
          "execution_count": 48
        }
      ]
    },
    {
      "cell_type": "markdown",
      "source": [
        "## Setup Device agnostic-code(for a gpu if there is one)"
      ],
      "metadata": {
        "id": "gLOn9v8QI3em"
      }
    },
    {
      "cell_type": "code",
      "source": [
        "!nvidia-smi\n",
        "torch.cuda.is_available()"
      ],
      "metadata": {
        "colab": {
          "base_uri": "https://localhost:8080/"
        },
        "id": "sFD486fkI43X",
        "outputId": "00ec455c-afab-437b-da31-4af621552c28"
      },
      "execution_count": null,
      "outputs": [
        {
          "output_type": "stream",
          "name": "stdout",
          "text": [
            "Tue Feb 11 15:17:33 2025       \n",
            "+-----------------------------------------------------------------------------------------+\n",
            "| NVIDIA-SMI 550.54.15              Driver Version: 550.54.15      CUDA Version: 12.4     |\n",
            "|-----------------------------------------+------------------------+----------------------+\n",
            "| GPU  Name                 Persistence-M | Bus-Id          Disp.A | Volatile Uncorr. ECC |\n",
            "| Fan  Temp   Perf          Pwr:Usage/Cap |           Memory-Usage | GPU-Util  Compute M. |\n",
            "|                                         |                        |               MIG M. |\n",
            "|=========================================+========================+======================|\n",
            "|   0  Tesla T4                       Off |   00000000:00:04.0 Off |                    0 |\n",
            "| N/A   43C    P8              9W /   70W |       2MiB /  15360MiB |      0%      Default |\n",
            "|                                         |                        |                  N/A |\n",
            "+-----------------------------------------+------------------------+----------------------+\n",
            "                                                                                         \n",
            "+-----------------------------------------------------------------------------------------+\n",
            "| Processes:                                                                              |\n",
            "|  GPU   GI   CI        PID   Type   Process name                              GPU Memory |\n",
            "|        ID   ID                                                               Usage      |\n",
            "|=========================================================================================|\n",
            "|  No running processes found                                                             |\n",
            "+-----------------------------------------------------------------------------------------+\n"
          ]
        },
        {
          "output_type": "execute_result",
          "data": {
            "text/plain": [
              "True"
            ]
          },
          "metadata": {},
          "execution_count": 31
        }
      ]
    },
    {
      "cell_type": "code",
      "source": [
        "#setup device-agnostic code\n",
        "import torch\n",
        "device=\"cuda\" if torch.cuda.is_available() else \"cpu\"\n",
        "device"
      ],
      "metadata": {
        "colab": {
          "base_uri": "https://localhost:8080/",
          "height": 36
        },
        "id": "cWp3dqdSM_MS",
        "outputId": "b5da1618-aec8-4975-b1da-70949890f59a"
      },
      "execution_count": null,
      "outputs": [
        {
          "output_type": "execute_result",
          "data": {
            "text/plain": [
              "'cuda'"
            ],
            "application/vnd.google.colaboratory.intrinsic+json": {
              "type": "string"
            }
          },
          "metadata": {},
          "execution_count": 32
        }
      ]
    },
    {
      "cell_type": "markdown",
      "source": [
        "## Model 1"
      ],
      "metadata": {
        "id": "kTrm0ICKen-a"
      }
    },
    {
      "cell_type": "markdown",
      "source": [
        "has non-linear and linear components"
      ],
      "metadata": {
        "id": "D8g3fLCGfCt_"
      }
    },
    {
      "cell_type": "code",
      "source": [
        "from torch import nn\n",
        "class FashionMNISTModelV1(nn.Module):\n",
        "  def __init__(self,\n",
        "               input_shape:int,\n",
        "               hidden_units:int,\n",
        "               output_shape:int):\n",
        "   super().__init__()\n",
        "   self.layer_stack = nn.Sequential(\n",
        "      nn.Flatten(),\n",
        "      nn.Linear(in_features=input_shape,\n",
        "                out_features=hidden_units),\n",
        "      nn.ReLU(),\n",
        "      nn.Linear(in_features=hidden_units,\n",
        "                out_features=output_shape),\n",
        "      nn.ReLU()\n",
        "\n",
        "  )\n",
        "\n",
        "  def forward(self, x: torch.Tensor):\n",
        "    return self.layer_stack(x)"
      ],
      "metadata": {
        "id": "-0MZDrv8NF6L"
      },
      "execution_count": null,
      "outputs": []
    },
    {
      "cell_type": "code",
      "source": [
        "next(model_0.parameters()).device"
      ],
      "metadata": {
        "colab": {
          "base_uri": "https://localhost:8080/"
        },
        "id": "ZVkLw55EfwiR",
        "outputId": "c4bd8cd9-62c0-43cb-e07a-993c184c4ce1"
      },
      "execution_count": null,
      "outputs": [
        {
          "output_type": "execute_result",
          "data": {
            "text/plain": [
              "device(type='cpu')"
            ]
          },
          "metadata": {},
          "execution_count": 34
        }
      ]
    },
    {
      "cell_type": "code",
      "source": [
        "device"
      ],
      "metadata": {
        "colab": {
          "base_uri": "https://localhost:8080/",
          "height": 36
        },
        "id": "kgQ4dIoFf2JT",
        "outputId": "47e9e5cb-d837-4a88-c377-c40d5dc2375d"
      },
      "execution_count": null,
      "outputs": [
        {
          "output_type": "execute_result",
          "data": {
            "text/plain": [
              "'cuda'"
            ],
            "application/vnd.google.colaboratory.intrinsic+json": {
              "type": "string"
            }
          },
          "metadata": {},
          "execution_count": 35
        }
      ]
    },
    {
      "cell_type": "code",
      "source": [
        "#creating an instance of the model(its been set as a class)\n",
        "torch.manual_seed(42)\n",
        "model_1= FashionMNISTModelV1(input_shape=784,\n",
        "                             hidden_units=10,\n",
        "                             output_shape=len(class_names)).to(device)\n",
        "next(model_1.parameters()).device"
      ],
      "metadata": {
        "colab": {
          "base_uri": "https://localhost:8080/"
        },
        "id": "-alRar5uf-UW",
        "outputId": "40c93825-31ea-452a-dff7-a5840086d11a"
      },
      "execution_count": null,
      "outputs": [
        {
          "output_type": "execute_result",
          "data": {
            "text/plain": [
              "device(type='cuda', index=0)"
            ]
          },
          "metadata": {},
          "execution_count": 36
        }
      ]
    },
    {
      "cell_type": "markdown",
      "source": [
        "### Loss Function and optimizer"
      ],
      "metadata": {
        "id": "6San0uiBhpFQ"
      }
    },
    {
      "cell_type": "code",
      "source": [
        "#importing accuracy function\n",
        "from helper_functions import accuracy_fn\n",
        "\n",
        "#setup loss function and optimizer\n",
        "loss_fn=nn.CrossEntropyLoss() # meaures how wrong we are\n",
        "optimizer=torch.optim.SGD(params=model_1.parameters(), lr=0.1) # \"corrects\" our \"wrongness\""
      ],
      "metadata": {
        "id": "1XYX5EFHhr4q"
      },
      "execution_count": null,
      "outputs": []
    },
    {
      "cell_type": "markdown",
      "source": [
        "### \"Functionizing\" training and evaluation/testing loop\n",
        "1. create a training loop, gonna call it train_step()\n",
        "2. create a testing loop would like to call it test_step()\n"
      ],
      "metadata": {
        "id": "5ErldnouiUJT"
      }
    },
    {
      "cell_type": "code",
      "source": [
        "def train_step(model: torch.nn.Module,\n",
        "               data_loader: torch.utils.data.DataLoader,\n",
        "               loss_fn: torch.nn.Module,\n",
        "               optimizer: torch.optim.Optimizer,\n",
        "               accuracy_fn,\n",
        "               device: torch.device=device):\n",
        "  \"\"\"Performs a training with model trying to learn on data_loader.\"\"\"\n",
        "  train_loss, train_acc=0, 0\n",
        "  # putting model in training mode\n",
        "  model.train()\n",
        "#import tqdm for progress bar\n",
        "####from tqdm.auto import tqdm\n",
        "\n",
        "\n",
        "\n",
        "# putting model in training mode\n",
        "\n",
        "#set the seed and start the timer\n",
        "####torch.manual_seed(42)\n",
        "####train_time_start_on_cpu=timer()\n",
        "\n",
        "#set the number of epochs(setting it small for now for quicker training time)\n",
        "####epochs=3\n",
        "\n",
        "#create training and test loop\n",
        "#####for epoch in tqdm(range(epochs)):\n",
        "  #####print(f\"Epoch: {epoch}\\n------\")\n",
        "  ###---------- ---------------------training------------------------------------\n",
        "  ####train_loss=0\n",
        "  #add a loop to loop through the training batches\n",
        "  for batch, (X, y) in enumerate(data_loader):\n",
        "    ####model_1.train()\n",
        "\n",
        "    #put data on target device\n",
        "    X, y=X.to(device), y.to(device)\n",
        "\n",
        "    #forward pass?\n",
        "    y_pred=model(X)\n",
        "\n",
        "    #calculate the loss (per batch):\n",
        "    loss=loss_fn(y_pred, y)\n",
        "    train_loss+=loss\n",
        "    train_acc += accuracy_fn(y_true=y,\n",
        "                             y_pred=y_pred.argmax(dim=1))# go from logits to prediction labels\n",
        "\n",
        "    #optimizer zero grad\n",
        "    optimizer.zero_grad()\n",
        "\n",
        "    #loss backward\n",
        "    loss.backward()\n",
        "\n",
        "    #optimizer step\n",
        "    optimizer.step() #present in batch loop rather than the epoch loop, thus works per batch rather than each epoch\n",
        "\n",
        "    #print out what's happening\n",
        "    if batch % 400==0:\n",
        "        print(f\"looked at {batch * len(X)}/{len(train_dataloader.dataset)} samples.\")\n",
        "\n",
        "  #divide total train loss and acc by length of dataloader\n",
        "  train_loss/=len(data_loader)\n",
        "  train_acc/=len(data_loader)\n",
        "  print(f\"nTrain loss: {train_loss:.5f} | train acc: {train_acc:.2f}%\")\n",
        "\n",
        "  #testing\n",
        "  ###test_loss, test_acc=0, 0\n",
        "  ##model_0.eval()\n",
        "  ##with torch.inference_mode():\n",
        "  ##  for X_test, y_test in test_dataloader:\n",
        "  ##    #1. forward pass\n",
        "  ##    test_pred=model_0(X_test)\n",
        "  ##    #2.calculate the loss(accumulatively)\n",
        "  ##    test_loss+=loss_fn(test_pred, y_test)\n",
        "  ##    #calculate the accuracy\n",
        "  ##    test_acc+=accuracy_fn(y_true=y_test, y_pred=test_pred.argmax(dim=1))\n",
        "  ##  #adjust metrics to get average loss and accuracy per batch\n",
        "  ##  test_loss/=len(test_dataloader)\n",
        "  ##  #calculate the test acc average per batch\n",
        "  ##  test_acc/=len(test_dataloader)\n",
        "  ##  #print out what's happening\n",
        "  ##  print(f\"nTrain loss: {train_loss:.4f} | test loss: {test_loss:.4f} | test acc: {test_acc:.4f}\")\n",
        "\n",
        "  #calculate the training time\n",
        "###  train_time_end_on_cpu=timer()\n",
        "###  total_train_time_model_0=print_train_time(start=train_time_start_on_cpu,\n",
        "###                                            end=train_time_end_on_cpu,\n",
        "###                                            device=str(next(model_0.parameters()).device))"
      ],
      "metadata": {
        "id": "6cbtD_XHiqbD"
      },
      "execution_count": null,
      "outputs": []
    },
    {
      "cell_type": "code",
      "source": [
        "def test_step(model: torch.nn.Module,\n",
        "               data_loader: torch.utils.data.DataLoader,\n",
        "               loss_fn: torch.nn.Module,\n",
        "               accuracy_fn,\n",
        "               device: torch.device=device):\n",
        "  \"\"\"Performs a testing with model trying to test on data_loader.\"\"\"\n",
        "  test_loss, test_acc=0, 0\n",
        "  # putting model in training mode\n",
        "  model.eval()\n",
        "\n",
        "\n",
        "#testing\n",
        " # test_loss, test_acc=0, 0\n",
        " # model_1.eval()\n",
        "  with torch.inference_mode():\n",
        "    for X, y in data_loader:\n",
        "      #send the data to the target device:\n",
        "      X, y=X.to(device), y.to(device)\n",
        "\n",
        "      #1. forward pass\n",
        "      test_pred=model(X)\n",
        "      #2.calculate the loss(accumulatively)\n",
        "      test_loss+=loss_fn(test_pred, y)\n",
        "      #calculate the accuracy\n",
        "      test_acc+=accuracy_fn(y_true=y\n",
        "                            , y_pred=test_pred.argmax(dim=1))\n",
        "    #adjust metrics to get average loss and accuracy per batch\n",
        "    test_loss/=len(data_loader)\n",
        "    #calculate the test acc average per batch\n",
        "    test_acc/=len(data_loader)\n",
        "    #print out what's happening\n",
        "    print(f\"test loss: {test_loss:.2f} | test acc: {test_acc:.4f}%\\n\")\n"
      ],
      "metadata": {
        "id": "2cqflAwbnAJI"
      },
      "execution_count": null,
      "outputs": []
    },
    {
      "cell_type": "code",
      "source": [
        "torch.manual_seed(42)\n",
        "\n",
        "from timeit import default_timer as timer\n",
        "train_time_start_on_gpu=timer()\n",
        "\n",
        "\n",
        "epochs=3\n",
        "\n",
        "\n",
        "for epoch in tqdm(range(epochs)):\n",
        "  print(f\"Epoch: {epoch}\\n------\")\n",
        "  train_step(model=model_1,\n",
        "             data_loader=train_dataloader,\n",
        "             loss_fn=loss_fn,\n",
        "             optimizer=optimizer,\n",
        "             accuracy_fn=accuracy_fn,\n",
        "             device=device\n",
        "             )\n",
        "  test_step(model=model_1,\n",
        "             data_loader=train_dataloader,\n",
        "             loss_fn=loss_fn,\n",
        "             accuracy_fn=accuracy_fn,\n",
        "             device=device)\n",
        "\n",
        "train_time_end_on_gpu=timer()\n",
        "total_train_time_model_1=print_train_time(start=train_time_start_on_gpu,\n",
        "                                            end=train_time_end_on_gpu,\n",
        "                                            device=str(next(model_1.parameters()).device))\n"
      ],
      "metadata": {
        "colab": {
          "base_uri": "https://localhost:8080/",
          "height": 587,
          "referenced_widgets": [
            "62fc1e7078b54968b274e8119822f197",
            "667b54ea0f7d4b5995c467675ef80623",
            "5790906c5dc24f6ca1ef92521f0b7799",
            "cb7b737bb7564bce9a5548324ee71d7c",
            "933acff3140f4edc90ad6a98ebe6ecc3",
            "2fd6e392a207486a946d73f3791803f7",
            "46d0809b551f4f52acb224bcee83ce92",
            "d752e8566c34417ba288bc534db62c9e",
            "ccea97154fe34871a8e552f26b9c919a",
            "c28351915caf46bda9bcf762529bd16f",
            "9adf8604a8c4477f868f6b137a621b4c"
          ]
        },
        "id": "qyqZnnmnrU5p",
        "outputId": "d9ba3f7c-d195-40c1-f63c-daf2e4838193"
      },
      "execution_count": null,
      "outputs": [
        {
          "output_type": "display_data",
          "data": {
            "text/plain": [
              "  0%|          | 0/3 [00:00<?, ?it/s]"
            ],
            "application/vnd.jupyter.widget-view+json": {
              "version_major": 2,
              "version_minor": 0,
              "model_id": "62fc1e7078b54968b274e8119822f197"
            }
          },
          "metadata": {}
        },
        {
          "output_type": "stream",
          "name": "stdout",
          "text": [
            "Epoch: 0\n",
            "------\n",
            "looked at 0/60000 samples.\n",
            "looked at 12800/60000 samples.\n",
            "looked at 25600/60000 samples.\n",
            "looked at 38400/60000 samples.\n",
            "looked at 51200/60000 samples.\n",
            "nTrain loss: 0.59385 | train acc: 78.25%\n",
            "test loss: 0.59 | test acc: 78.2467%\n",
            "\n",
            "Epoch: 1\n",
            "------\n",
            "looked at 0/60000 samples.\n",
            "looked at 12800/60000 samples.\n",
            "looked at 25600/60000 samples.\n",
            "looked at 38400/60000 samples.\n",
            "looked at 51200/60000 samples.\n",
            "nTrain loss: 0.59385 | train acc: 78.25%\n",
            "test loss: 0.59 | test acc: 78.2467%\n",
            "\n",
            "Epoch: 2\n",
            "------\n",
            "looked at 0/60000 samples.\n",
            "looked at 12800/60000 samples.\n",
            "looked at 25600/60000 samples.\n",
            "looked at 38400/60000 samples.\n",
            "looked at 51200/60000 samples.\n",
            "nTrain loss: 0.59385 | train acc: 78.25%\n",
            "test loss: 0.59 | test acc: 78.2467%\n",
            "\n",
            "Train time oncuda:0: 42.485 seconds\n"
          ]
        }
      ]
    },
    {
      "cell_type": "code",
      "source": [
        "!nvidia-smi"
      ],
      "metadata": {
        "colab": {
          "base_uri": "https://localhost:8080/"
        },
        "id": "s2qD3blYwKwQ",
        "outputId": "1d4412b3-8d45-4f98-e633-12f00d5c77a6"
      },
      "execution_count": null,
      "outputs": [
        {
          "output_type": "stream",
          "name": "stdout",
          "text": [
            "Tue Feb 11 16:21:22 2025       \n",
            "+-----------------------------------------------------------------------------------------+\n",
            "| NVIDIA-SMI 550.54.15              Driver Version: 550.54.15      CUDA Version: 12.4     |\n",
            "|-----------------------------------------+------------------------+----------------------+\n",
            "| GPU  Name                 Persistence-M | Bus-Id          Disp.A | Volatile Uncorr. ECC |\n",
            "| Fan  Temp   Perf          Pwr:Usage/Cap |           Memory-Usage | GPU-Util  Compute M. |\n",
            "|                                         |                        |               MIG M. |\n",
            "|=========================================+========================+======================|\n",
            "|   0  Tesla T4                       Off |   00000000:00:04.0 Off |                    0 |\n",
            "| N/A   61C    P0             28W /   70W |     162MiB /  15360MiB |      2%      Default |\n",
            "|                                         |                        |                  N/A |\n",
            "+-----------------------------------------+------------------------+----------------------+\n",
            "                                                                                         \n",
            "+-----------------------------------------------------------------------------------------+\n",
            "| Processes:                                                                              |\n",
            "|  GPU   GI   CI        PID   Type   Process name                              GPU Memory |\n",
            "|        ID   ID                                                               Usage      |\n",
            "|=========================================================================================|\n",
            "+-----------------------------------------------------------------------------------------+\n"
          ]
        }
      ]
    },
    {
      "cell_type": "markdown",
      "source": [
        "Sometimes cpu might be faster than your gpu\n",
        "1. your gpu copying and compute to and fro from the cpu might negate the increased computing from the gpu.\n",
        "2. your cpu hardware is simply better than your gpu hardware."
      ],
      "metadata": {
        "id": "FVG--byFwf7-"
      }
    },
    {
      "cell_type": "code",
      "source": [
        "# gert model_1 results dictionary\n",
        "model_1_results=eval_model(model=model_1,\n",
        "                          data_loader=test_dataloader,\n",
        "                          loss_fn=loss_fn,\n",
        "                          accuracy_fn=accuracy_fn)\n",
        "model_1_results"
      ],
      "metadata": {
        "colab": {
          "base_uri": "https://localhost:8080/",
          "height": 101,
          "referenced_widgets": [
            "3e5c48b50bf349a9bdd32e984b8329ef",
            "763e78e3a0e348518dec3cf40c3d4113",
            "457ec2711bc7414c8bc6b6919239281f",
            "3dc0a2cfda4f40da9fad6f9b04c1cea9",
            "b6dc4b32d2034edfb16a37567bd1bec4",
            "6ae59055324a40669e02751e0818c584",
            "76901c9d77de4ed9a57b990a9a1a23f2",
            "b210751388b5474299219dc4a6967f6b",
            "96d1f9953c6b4364ae6b0ad1cd5bb8b8",
            "b9ce9b8405a34b6599c6fb154173866f",
            "b87b27665e2040ae9d18ca9089d24b0e"
          ]
        },
        "id": "281xKOqNxHfE",
        "outputId": "96b24771-fa93-4ff3-e7a3-b1403c99a334"
      },
      "execution_count": null,
      "outputs": [
        {
          "output_type": "display_data",
          "data": {
            "text/plain": [
              "  0%|          | 0/313 [00:00<?, ?it/s]"
            ],
            "application/vnd.jupyter.widget-view+json": {
              "version_major": 2,
              "version_minor": 0,
              "model_id": "3e5c48b50bf349a9bdd32e984b8329ef"
            }
          },
          "metadata": {}
        },
        {
          "output_type": "execute_result",
          "data": {
            "text/plain": [
              "{'model_name': 'FashionMNISTModelV1',\n",
              " 'model_loss': 0.6481072902679443,\n",
              " 'model_acc': 76.8270766773163}"
            ]
          },
          "metadata": {},
          "execution_count": 76
        }
      ]
    },
    {
      "cell_type": "code",
      "source": [
        "torch.manual_seed(42)\n",
        "def eval_model(model:torch.nn.Module,\n",
        "               data_loader: torch.utils.data.DataLoader,\n",
        "               loss_fn: torch.nn.Module,\n",
        "               accuracy_fn,\n",
        "               device=device):\n",
        "  \"\"\"Returns a dictionary containing the results of model predicting on dataloader\"\"\"\n",
        "  loss, acc=0, 0\n",
        "  model.eval()\n",
        "  with torch.inference_mode():\n",
        "    for X, y in tqdm(data_loader):\n",
        "      #make our data device agnostic\n",
        "      X, y = X.to(device), y.to(device)\n",
        "\n",
        "      #make predictions\n",
        "      y_pred= model(X)\n",
        "\n",
        "      #accumulate the loss and acc values per batch\n",
        "      loss+=loss_fn(y_pred, y)\n",
        "      acc += accuracy_fn(y_true=y,\n",
        "                         y_pred=y_pred.argmax(dim=1))\n",
        "\n",
        "    #scale the loss and acc to find the averagw loss/acc pre batch\n",
        "    loss/=len(data_loader)\n",
        "    acc/=len(data_loader)\n",
        "\n",
        "  return {\"model_name\":model.__class__.__name__,\n",
        "          \"model_loss\":loss.item(),\n",
        "          \"model_acc\": acc}\n",
        "\n",
        "#calculate the model0 results on the test dataset\n",
        "model_1_results=eval_model(model=model_1,\n",
        "                          data_loader=test_dataloader,\n",
        "                          loss_fn=loss_fn,\n",
        "                          accuracy_fn=accuracy_fn)\n",
        "model_1_results\n",
        "\n"
      ],
      "metadata": {
        "colab": {
          "base_uri": "https://localhost:8080/",
          "height": 101,
          "referenced_widgets": [
            "85b62696244c4c0fb828a8e60b9b4791",
            "a83b9c7c44364b08b1a831950e17d112",
            "a47536baf9a3425e91dba9c0738eaef5",
            "250fe44a447e49a29590b7c1129b2082",
            "4ffb3c76ce8148e9a76c31234ac0a284",
            "691a437b1cc8467bbb35d1d527adf768",
            "5525f1fb5192438ca714c4dbf7bb195a",
            "9e7c80a7217a4798862d5b762b715bb2",
            "c4f8098c956a4c4cbb950e52f6865eb7",
            "25bd55788e814e76920ec41a1d6e815d",
            "767241c3875542f694dd32bf83b3aac0"
          ]
        },
        "id": "Uhf0xdlhpDme",
        "outputId": "69427e79-f9e5-41ef-d6c7-a625af5e6db1"
      },
      "execution_count": null,
      "outputs": [
        {
          "output_type": "display_data",
          "data": {
            "text/plain": [
              "  0%|          | 0/313 [00:00<?, ?it/s]"
            ],
            "application/vnd.jupyter.widget-view+json": {
              "version_major": 2,
              "version_minor": 0,
              "model_id": "85b62696244c4c0fb828a8e60b9b4791"
            }
          },
          "metadata": {}
        },
        {
          "output_type": "execute_result",
          "data": {
            "text/plain": [
              "{'model_name': 'FashionMNISTModelV1',\n",
              " 'model_loss': 0.6481072902679443,\n",
              " 'model_acc': 76.8270766773163}"
            ]
          },
          "metadata": {},
          "execution_count": 77
        }
      ]
    },
    {
      "cell_type": "code",
      "source": [
        "model_0_results"
      ],
      "metadata": {
        "colab": {
          "base_uri": "https://localhost:8080/"
        },
        "id": "Vbly5g9Bp8BH",
        "outputId": "645e3814-8117-4b75-c0de-9a394f3181fc"
      },
      "execution_count": null,
      "outputs": [
        {
          "output_type": "execute_result",
          "data": {
            "text/plain": [
              "{'model_name': 'FashionMNISTModelV0',\n",
              " 'model_loss': 0.47663894295692444,\n",
              " 'model_acc': 83.42651757188499}"
            ]
          },
          "metadata": {},
          "execution_count": 78
        }
      ]
    },
    {
      "cell_type": "markdown",
      "source": [
        "# CNN (Convolutional Neural Network)"
      ],
      "metadata": {
        "id": "TjnG2PvYp_Af"
      }
    },
    {
      "cell_type": "code",
      "source": [
        "#create a cnn\n",
        "class FashionMNISTModelV2(nn.Module):\n",
        " \"\"\"TinyVGG replicated/mimic model, model from CNN explainer website\"\"\"\n",
        " def __init__(self,\n",
        "              input_shape: int,\n",
        "              hidden_units: int,\n",
        "              output_shape: int):\n",
        "   super().__init__()\n",
        "   self.conv_block_1=nn.Sequential(\n",
        "       nn.Conv2d(in_channels=input_shape,\n",
        "                 out_channels=hidden_units,\n",
        "                 kernel_size=3,\n",
        "                 stride=1,\n",
        "                 padding=1),# the above are the hyperparameters of the cnn\n",
        "       nn.ReLU(),\n",
        "       nn.Conv2d(in_channels=hidden_units,\n",
        "                 out_channels=hidden_units,\n",
        "                 kernel_size=3,\n",
        "                 stride=1,\n",
        "                 padding=1),\n",
        "       nn.ReLU(),\n",
        "       nn.MaxPool2d(kernel_size=2)\n",
        "   )\n",
        "   self.conv_block_2=nn.Sequential(\n",
        "       nn.Conv2d(hidden_units, hidden_units, kernel_size=3, stride=1, padding=1),\n",
        "       nn.ReLU(),\n",
        "       nn.Conv2d(hidden_units, hidden_units, kernel_size=3, stride=1, padding=1),\n",
        "       nn.ReLU(),\n",
        "       nn.MaxPool2d(kernel_size=2)\n",
        "\n",
        "   )\n",
        "   self.classifier=nn.Sequential(\n",
        "       nn.Flatten(),\n",
        "       nn.Linear(in_features=hidden_units*7*7,\n",
        "                 out_features=output_shape)\n",
        "   )\n",
        "\n",
        " def forward(self, x: torch.Tensor):\n",
        "  x=self.conv_block_1(x)\n",
        "  #print(x.shape)\n",
        "  x=self.conv_block_2(x)\n",
        "  #print(x.shape)\n",
        "  x=self.classifier(x)\n",
        "  return x"
      ],
      "metadata": {
        "id": "jkkbxc9KqVoN"
      },
      "execution_count": null,
      "outputs": []
    },
    {
      "cell_type": "code",
      "source": [
        "torch.manual_seed(42)\n",
        "model_2= FashionMNISTModelV2(\n",
        "    input_shape=1,\n",
        "    hidden_units=10,\n",
        "    output_shape=len(class_names)\n",
        ").to(device)"
      ],
      "metadata": {
        "id": "cQ2Qo-9XuIvL"
      },
      "execution_count": null,
      "outputs": []
    },
    {
      "cell_type": "markdown",
      "source": [
        "### Loss Function and Optimizer"
      ],
      "metadata": {
        "id": "sjOncaTRwiIP"
      }
    },
    {
      "cell_type": "code",
      "source": [
        "#setup loss functions/eval metrics/optimizer\n",
        "from helper_functions import accuracy_fn\n",
        "loss_fn=nn.CrossEntropyLoss()\n",
        "optimizer=torch.optim.SGD(params=model_2.parameters(), lr=0.1)"
      ],
      "metadata": {
        "id": "ne6zF0ymwZmW"
      },
      "execution_count": null,
      "outputs": []
    },
    {
      "cell_type": "markdown",
      "source": [
        "## Training and Testing\n",
        "(using our trainnig and test functions we made during model_1)"
      ],
      "metadata": {
        "id": "SxJTjNjFxDgG"
      }
    },
    {
      "cell_type": "code",
      "source": [
        "torch.manual_seed(42)\n",
        "torch.cuda.manual_seed(42)\n",
        "from timeit import default_timer as timer\n",
        "train_time_start_model_2=timer()\n",
        "\n",
        "#train and test model\n",
        "epochs=3\n",
        "for epoch in tqdm(range(epochs)):\n",
        "  print(f\"Epoch: {epoch}\\n------\")\n",
        "  train_step(model=model_2,\n",
        "             data_loader=train_dataloader,\n",
        "             loss_fn=loss_fn,\n",
        "             optimizer=optimizer,\n",
        "             accuracy_fn=accuracy_fn,\n",
        "             device=device)\n",
        "  test_step(model=model_2,\n",
        "            data_loader=test_dataloader,\n",
        "            loss_fn=loss_fn,\n",
        "            accuracy_fn=accuracy_fn,\n",
        "            device=device)\n",
        "train_time_end_model_2=timer()\n",
        "total_train_time_model_2=print_train_time(start=train_time_start_model_2,\n",
        "                                          end=train_time_end_model_2,\n",
        "                                          device=device)"
      ],
      "metadata": {
        "colab": {
          "base_uri": "https://localhost:8080/",
          "height": 587,
          "referenced_widgets": [
            "c9f77660b09b458e9160db7cd1332795",
            "cc8303990bcf414997334c49cfde5a6f",
            "f5872639296c4ce2a930a5d42a47ed02",
            "20c95ae242c2446a944d3721cbc4e205",
            "24407f6dc506432eb1810dd6d412fdbb",
            "df69138379be46df9e74cad786e7cf34",
            "77af4214a5f64903a0473094b1992b98",
            "0225a4ae84f84e498afd40534518b6a2",
            "e50cffb48a2741599761772b3bd7d7b6",
            "f1b3e77daee24d6aada7490ae80ffde7",
            "54333286b55844ffa0798243c3b13ab8"
          ]
        },
        "id": "56Nx1JAmw-Ru",
        "outputId": "4a7b0278-b8bd-4f54-a42b-aea038952541"
      },
      "execution_count": null,
      "outputs": [
        {
          "output_type": "display_data",
          "data": {
            "text/plain": [
              "  0%|          | 0/3 [00:00<?, ?it/s]"
            ],
            "application/vnd.jupyter.widget-view+json": {
              "version_major": 2,
              "version_minor": 0,
              "model_id": "c9f77660b09b458e9160db7cd1332795"
            }
          },
          "metadata": {}
        },
        {
          "output_type": "stream",
          "name": "stdout",
          "text": [
            "Epoch: 0\n",
            "------\n",
            "looked at 0/60000 samples.\n",
            "looked at 12800/60000 samples.\n",
            "looked at 25600/60000 samples.\n",
            "looked at 38400/60000 samples.\n",
            "looked at 51200/60000 samples.\n",
            "nTrain loss: 0.23285 | train acc: 91.49%\n",
            "test loss: 0.28 | test acc: 90.1957%\n",
            "\n",
            "Epoch: 1\n",
            "------\n",
            "looked at 0/60000 samples.\n",
            "looked at 12800/60000 samples.\n",
            "looked at 25600/60000 samples.\n",
            "looked at 38400/60000 samples.\n",
            "looked at 51200/60000 samples.\n",
            "nTrain loss: 0.23080 | train acc: 91.69%\n",
            "test loss: 0.27 | test acc: 90.0160%\n",
            "\n",
            "Epoch: 2\n",
            "------\n",
            "looked at 0/60000 samples.\n",
            "looked at 12800/60000 samples.\n",
            "looked at 25600/60000 samples.\n",
            "looked at 38400/60000 samples.\n",
            "looked at 51200/60000 samples.\n",
            "nTrain loss: 0.22740 | train acc: 91.71%\n",
            "test loss: 0.27 | test acc: 90.6250%\n",
            "\n",
            "Train time oncuda: 34.037 seconds\n"
          ]
        }
      ]
    },
    {
      "cell_type": "code",
      "source": [
        "model_2_results=eval_model(model=model_2,\n",
        "                          data_loader=test_dataloader,\n",
        "                          loss_fn=loss_fn,\n",
        "                          accuracy_fn=accuracy_fn)\n",
        "model_2_results"
      ],
      "metadata": {
        "colab": {
          "base_uri": "https://localhost:8080/",
          "height": 101,
          "referenced_widgets": [
            "5333fff046244c16b77a8b35e61e6ac6",
            "ccbb4625ee9748f48fcfa10b8530c0e7",
            "59ec78d5e1114717a9fc019a79a874bc",
            "5f5ec21759f34866a42391a4457de151",
            "e764aca039b3464d8885f44bcec247ea",
            "8df8ab65b7594cd2946e371d642e434d",
            "139f517542194970ba263f1debca5260",
            "5fc4206947824b37845c1ea6cecc1231",
            "e526225c978a4f77879aa7de1cc3bd39",
            "a0b888e77e1e4b26b0c1f029b846fdfb",
            "ba52832b7bad4326ab8a5f448bbc197a"
          ]
        },
        "id": "yChzAwqo1Gbs",
        "outputId": "ee7c255c-c711-444c-cf83-59ae53c8e151"
      },
      "execution_count": null,
      "outputs": [
        {
          "output_type": "display_data",
          "data": {
            "text/plain": [
              "  0%|          | 0/313 [00:00<?, ?it/s]"
            ],
            "application/vnd.jupyter.widget-view+json": {
              "version_major": 2,
              "version_minor": 0,
              "model_id": "5333fff046244c16b77a8b35e61e6ac6"
            }
          },
          "metadata": {}
        },
        {
          "output_type": "execute_result",
          "data": {
            "text/plain": [
              "{'model_name': 'FashionMNISTModelV2',\n",
              " 'model_loss': 0.3045441210269928,\n",
              " 'model_acc': 89.45686900958466}"
            ]
          },
          "metadata": {},
          "execution_count": 84
        }
      ]
    },
    {
      "cell_type": "code",
      "source": [
        "model_0_results"
      ],
      "metadata": {
        "colab": {
          "base_uri": "https://localhost:8080/"
        },
        "id": "6g_YE-F71LAC",
        "outputId": "db2a954d-4053-497b-e903-85e2ac93b5ed"
      },
      "execution_count": null,
      "outputs": [
        {
          "output_type": "execute_result",
          "data": {
            "text/plain": [
              "{'model_name': 'FashionMNISTModelV0',\n",
              " 'model_loss': 0.47663894295692444,\n",
              " 'model_acc': 83.42651757188499}"
            ]
          },
          "metadata": {},
          "execution_count": 88
        }
      ]
    },
    {
      "cell_type": "code",
      "source": [
        "model_1_results"
      ],
      "metadata": {
        "colab": {
          "base_uri": "https://localhost:8080/"
        },
        "id": "yctF8be51Vi5",
        "outputId": "82cc12c8-2b49-4e49-9dcf-9eeb40c01e46"
      },
      "execution_count": null,
      "outputs": [
        {
          "output_type": "execute_result",
          "data": {
            "text/plain": [
              "{'model_name': 'FashionMNISTModelV1',\n",
              " 'model_loss': 0.6481072902679443,\n",
              " 'model_acc': 76.8270766773163}"
            ]
          },
          "metadata": {},
          "execution_count": 89
        }
      ]
    },
    {
      "cell_type": "code",
      "source": [
        "model_2_results"
      ],
      "metadata": {
        "colab": {
          "base_uri": "https://localhost:8080/"
        },
        "id": "6XoS77bf1XUt",
        "outputId": "6ba825cd-9963-46c1-94af-0938cca4282f"
      },
      "execution_count": null,
      "outputs": [
        {
          "output_type": "execute_result",
          "data": {
            "text/plain": [
              "{'model_name': 'FashionMNISTModelV2',\n",
              " 'model_loss': 0.3045441210269928,\n",
              " 'model_acc': 89.45686900958466}"
            ]
          },
          "metadata": {},
          "execution_count": 90
        }
      ]
    },
    {
      "cell_type": "markdown",
      "source": [
        "### compare model results and training time"
      ],
      "metadata": {
        "id": "icN2u9GW1q2Y"
      }
    },
    {
      "cell_type": "code",
      "source": [
        "import pandas as pd\n",
        "compare_results=pd.DataFrame([model_0_results[\"model_name\"],\n",
        "                              model_1_results[\"model_name\"],\n",
        "                              model_2_results[\"model_name\"]])\n",
        "                              #[model_0_results[\"model_loss\"],\n",
        "                               #model_1_results[\"model_loss\"],\n",
        "                               #model_2_results[\"model_loss\"]])\n",
        "compare_results"
      ],
      "metadata": {
        "colab": {
          "base_uri": "https://localhost:8080/",
          "height": 360
        },
        "id": "GgU_USj41umq",
        "outputId": "e868decf-1317-46a8-97c8-aafab0d06bd4"
      },
      "execution_count": null,
      "outputs": [
        {
          "output_type": "execute_result",
          "data": {
            "text/plain": [
              "                     0\n",
              "0  FashionMNISTModelV0\n",
              "1  FashionMNISTModelV1\n",
              "2  FashionMNISTModelV2"
            ],
            "text/html": [
              "\n",
              "  <div id=\"df-f097e06d-7495-40f0-bee3-704e7c6360d5\" class=\"colab-df-container\">\n",
              "    <div>\n",
              "<style scoped>\n",
              "    .dataframe tbody tr th:only-of-type {\n",
              "        vertical-align: middle;\n",
              "    }\n",
              "\n",
              "    .dataframe tbody tr th {\n",
              "        vertical-align: top;\n",
              "    }\n",
              "\n",
              "    .dataframe thead th {\n",
              "        text-align: right;\n",
              "    }\n",
              "</style>\n",
              "<table border=\"1\" class=\"dataframe\">\n",
              "  <thead>\n",
              "    <tr style=\"text-align: right;\">\n",
              "      <th></th>\n",
              "      <th>0</th>\n",
              "    </tr>\n",
              "  </thead>\n",
              "  <tbody>\n",
              "    <tr>\n",
              "      <th>0</th>\n",
              "      <td>FashionMNISTModelV0</td>\n",
              "    </tr>\n",
              "    <tr>\n",
              "      <th>1</th>\n",
              "      <td>FashionMNISTModelV1</td>\n",
              "    </tr>\n",
              "    <tr>\n",
              "      <th>2</th>\n",
              "      <td>FashionMNISTModelV2</td>\n",
              "    </tr>\n",
              "  </tbody>\n",
              "</table>\n",
              "</div>\n",
              "    <div class=\"colab-df-buttons\">\n",
              "\n",
              "  <div class=\"colab-df-container\">\n",
              "    <button class=\"colab-df-convert\" onclick=\"convertToInteractive('df-f097e06d-7495-40f0-bee3-704e7c6360d5')\"\n",
              "            title=\"Convert this dataframe to an interactive table.\"\n",
              "            style=\"display:none;\">\n",
              "\n",
              "  <svg xmlns=\"http://www.w3.org/2000/svg\" height=\"24px\" viewBox=\"0 -960 960 960\">\n",
              "    <path d=\"M120-120v-720h720v720H120Zm60-500h600v-160H180v160Zm220 220h160v-160H400v160Zm0 220h160v-160H400v160ZM180-400h160v-160H180v160Zm440 0h160v-160H620v160ZM180-180h160v-160H180v160Zm440 0h160v-160H620v160Z\"/>\n",
              "  </svg>\n",
              "    </button>\n",
              "\n",
              "  <style>\n",
              "    .colab-df-container {\n",
              "      display:flex;\n",
              "      gap: 12px;\n",
              "    }\n",
              "\n",
              "    .colab-df-convert {\n",
              "      background-color: #E8F0FE;\n",
              "      border: none;\n",
              "      border-radius: 50%;\n",
              "      cursor: pointer;\n",
              "      display: none;\n",
              "      fill: #1967D2;\n",
              "      height: 32px;\n",
              "      padding: 0 0 0 0;\n",
              "      width: 32px;\n",
              "    }\n",
              "\n",
              "    .colab-df-convert:hover {\n",
              "      background-color: #E2EBFA;\n",
              "      box-shadow: 0px 1px 2px rgba(60, 64, 67, 0.3), 0px 1px 3px 1px rgba(60, 64, 67, 0.15);\n",
              "      fill: #174EA6;\n",
              "    }\n",
              "\n",
              "    .colab-df-buttons div {\n",
              "      margin-bottom: 4px;\n",
              "    }\n",
              "\n",
              "    [theme=dark] .colab-df-convert {\n",
              "      background-color: #3B4455;\n",
              "      fill: #D2E3FC;\n",
              "    }\n",
              "\n",
              "    [theme=dark] .colab-df-convert:hover {\n",
              "      background-color: #434B5C;\n",
              "      box-shadow: 0px 1px 3px 1px rgba(0, 0, 0, 0.15);\n",
              "      filter: drop-shadow(0px 1px 2px rgba(0, 0, 0, 0.3));\n",
              "      fill: #FFFFFF;\n",
              "    }\n",
              "  </style>\n",
              "\n",
              "    <script>\n",
              "      const buttonEl =\n",
              "        document.querySelector('#df-f097e06d-7495-40f0-bee3-704e7c6360d5 button.colab-df-convert');\n",
              "      buttonEl.style.display =\n",
              "        google.colab.kernel.accessAllowed ? 'block' : 'none';\n",
              "\n",
              "      async function convertToInteractive(key) {\n",
              "        const element = document.querySelector('#df-f097e06d-7495-40f0-bee3-704e7c6360d5');\n",
              "        const dataTable =\n",
              "          await google.colab.kernel.invokeFunction('convertToInteractive',\n",
              "                                                    [key], {});\n",
              "        if (!dataTable) return;\n",
              "\n",
              "        const docLinkHtml = 'Like what you see? Visit the ' +\n",
              "          '<a target=\"_blank\" href=https://colab.research.google.com/notebooks/data_table.ipynb>data table notebook</a>'\n",
              "          + ' to learn more about interactive tables.';\n",
              "        element.innerHTML = '';\n",
              "        dataTable['output_type'] = 'display_data';\n",
              "        await google.colab.output.renderOutput(dataTable, element);\n",
              "        const docLink = document.createElement('div');\n",
              "        docLink.innerHTML = docLinkHtml;\n",
              "        element.appendChild(docLink);\n",
              "      }\n",
              "    </script>\n",
              "  </div>\n",
              "\n",
              "\n",
              "<div id=\"df-8dcefc77-258a-4a66-b68b-45509e763adc\">\n",
              "  <button class=\"colab-df-quickchart\" onclick=\"quickchart('df-8dcefc77-258a-4a66-b68b-45509e763adc')\"\n",
              "            title=\"Suggest charts\"\n",
              "            style=\"display:none;\">\n",
              "\n",
              "<svg xmlns=\"http://www.w3.org/2000/svg\" height=\"24px\"viewBox=\"0 0 24 24\"\n",
              "     width=\"24px\">\n",
              "    <g>\n",
              "        <path d=\"M19 3H5c-1.1 0-2 .9-2 2v14c0 1.1.9 2 2 2h14c1.1 0 2-.9 2-2V5c0-1.1-.9-2-2-2zM9 17H7v-7h2v7zm4 0h-2V7h2v10zm4 0h-2v-4h2v4z\"/>\n",
              "    </g>\n",
              "</svg>\n",
              "  </button>\n",
              "\n",
              "<style>\n",
              "  .colab-df-quickchart {\n",
              "      --bg-color: #E8F0FE;\n",
              "      --fill-color: #1967D2;\n",
              "      --hover-bg-color: #E2EBFA;\n",
              "      --hover-fill-color: #174EA6;\n",
              "      --disabled-fill-color: #AAA;\n",
              "      --disabled-bg-color: #DDD;\n",
              "  }\n",
              "\n",
              "  [theme=dark] .colab-df-quickchart {\n",
              "      --bg-color: #3B4455;\n",
              "      --fill-color: #D2E3FC;\n",
              "      --hover-bg-color: #434B5C;\n",
              "      --hover-fill-color: #FFFFFF;\n",
              "      --disabled-bg-color: #3B4455;\n",
              "      --disabled-fill-color: #666;\n",
              "  }\n",
              "\n",
              "  .colab-df-quickchart {\n",
              "    background-color: var(--bg-color);\n",
              "    border: none;\n",
              "    border-radius: 50%;\n",
              "    cursor: pointer;\n",
              "    display: none;\n",
              "    fill: var(--fill-color);\n",
              "    height: 32px;\n",
              "    padding: 0;\n",
              "    width: 32px;\n",
              "  }\n",
              "\n",
              "  .colab-df-quickchart:hover {\n",
              "    background-color: var(--hover-bg-color);\n",
              "    box-shadow: 0 1px 2px rgba(60, 64, 67, 0.3), 0 1px 3px 1px rgba(60, 64, 67, 0.15);\n",
              "    fill: var(--button-hover-fill-color);\n",
              "  }\n",
              "\n",
              "  .colab-df-quickchart-complete:disabled,\n",
              "  .colab-df-quickchart-complete:disabled:hover {\n",
              "    background-color: var(--disabled-bg-color);\n",
              "    fill: var(--disabled-fill-color);\n",
              "    box-shadow: none;\n",
              "  }\n",
              "\n",
              "  .colab-df-spinner {\n",
              "    border: 2px solid var(--fill-color);\n",
              "    border-color: transparent;\n",
              "    border-bottom-color: var(--fill-color);\n",
              "    animation:\n",
              "      spin 1s steps(1) infinite;\n",
              "  }\n",
              "\n",
              "  @keyframes spin {\n",
              "    0% {\n",
              "      border-color: transparent;\n",
              "      border-bottom-color: var(--fill-color);\n",
              "      border-left-color: var(--fill-color);\n",
              "    }\n",
              "    20% {\n",
              "      border-color: transparent;\n",
              "      border-left-color: var(--fill-color);\n",
              "      border-top-color: var(--fill-color);\n",
              "    }\n",
              "    30% {\n",
              "      border-color: transparent;\n",
              "      border-left-color: var(--fill-color);\n",
              "      border-top-color: var(--fill-color);\n",
              "      border-right-color: var(--fill-color);\n",
              "    }\n",
              "    40% {\n",
              "      border-color: transparent;\n",
              "      border-right-color: var(--fill-color);\n",
              "      border-top-color: var(--fill-color);\n",
              "    }\n",
              "    60% {\n",
              "      border-color: transparent;\n",
              "      border-right-color: var(--fill-color);\n",
              "    }\n",
              "    80% {\n",
              "      border-color: transparent;\n",
              "      border-right-color: var(--fill-color);\n",
              "      border-bottom-color: var(--fill-color);\n",
              "    }\n",
              "    90% {\n",
              "      border-color: transparent;\n",
              "      border-bottom-color: var(--fill-color);\n",
              "    }\n",
              "  }\n",
              "</style>\n",
              "\n",
              "  <script>\n",
              "    async function quickchart(key) {\n",
              "      const quickchartButtonEl =\n",
              "        document.querySelector('#' + key + ' button');\n",
              "      quickchartButtonEl.disabled = true;  // To prevent multiple clicks.\n",
              "      quickchartButtonEl.classList.add('colab-df-spinner');\n",
              "      try {\n",
              "        const charts = await google.colab.kernel.invokeFunction(\n",
              "            'suggestCharts', [key], {});\n",
              "      } catch (error) {\n",
              "        console.error('Error during call to suggestCharts:', error);\n",
              "      }\n",
              "      quickchartButtonEl.classList.remove('colab-df-spinner');\n",
              "      quickchartButtonEl.classList.add('colab-df-quickchart-complete');\n",
              "    }\n",
              "    (() => {\n",
              "      let quickchartButtonEl =\n",
              "        document.querySelector('#df-8dcefc77-258a-4a66-b68b-45509e763adc button');\n",
              "      quickchartButtonEl.style.display =\n",
              "        google.colab.kernel.accessAllowed ? 'block' : 'none';\n",
              "    })();\n",
              "  </script>\n",
              "</div>\n",
              "\n",
              "  <div id=\"id_b8f9a458-3733-4745-9863-ac1b6643577f\">\n",
              "    <style>\n",
              "      .colab-df-generate {\n",
              "        background-color: #E8F0FE;\n",
              "        border: none;\n",
              "        border-radius: 50%;\n",
              "        cursor: pointer;\n",
              "        display: none;\n",
              "        fill: #1967D2;\n",
              "        height: 32px;\n",
              "        padding: 0 0 0 0;\n",
              "        width: 32px;\n",
              "      }\n",
              "\n",
              "      .colab-df-generate:hover {\n",
              "        background-color: #E2EBFA;\n",
              "        box-shadow: 0px 1px 2px rgba(60, 64, 67, 0.3), 0px 1px 3px 1px rgba(60, 64, 67, 0.15);\n",
              "        fill: #174EA6;\n",
              "      }\n",
              "\n",
              "      [theme=dark] .colab-df-generate {\n",
              "        background-color: #3B4455;\n",
              "        fill: #D2E3FC;\n",
              "      }\n",
              "\n",
              "      [theme=dark] .colab-df-generate:hover {\n",
              "        background-color: #434B5C;\n",
              "        box-shadow: 0px 1px 3px 1px rgba(0, 0, 0, 0.15);\n",
              "        filter: drop-shadow(0px 1px 2px rgba(0, 0, 0, 0.3));\n",
              "        fill: #FFFFFF;\n",
              "      }\n",
              "    </style>\n",
              "    <button class=\"colab-df-generate\" onclick=\"generateWithVariable('compare_results')\"\n",
              "            title=\"Generate code using this dataframe.\"\n",
              "            style=\"display:none;\">\n",
              "\n",
              "  <svg xmlns=\"http://www.w3.org/2000/svg\" height=\"24px\"viewBox=\"0 0 24 24\"\n",
              "       width=\"24px\">\n",
              "    <path d=\"M7,19H8.4L18.45,9,17,7.55,7,17.6ZM5,21V16.75L18.45,3.32a2,2,0,0,1,2.83,0l1.4,1.43a1.91,1.91,0,0,1,.58,1.4,1.91,1.91,0,0,1-.58,1.4L9.25,21ZM18.45,9,17,7.55Zm-12,3A5.31,5.31,0,0,0,4.9,8.1,5.31,5.31,0,0,0,1,6.5,5.31,5.31,0,0,0,4.9,4.9,5.31,5.31,0,0,0,6.5,1,5.31,5.31,0,0,0,8.1,4.9,5.31,5.31,0,0,0,12,6.5,5.46,5.46,0,0,0,6.5,12Z\"/>\n",
              "  </svg>\n",
              "    </button>\n",
              "    <script>\n",
              "      (() => {\n",
              "      const buttonEl =\n",
              "        document.querySelector('#id_b8f9a458-3733-4745-9863-ac1b6643577f button.colab-df-generate');\n",
              "      buttonEl.style.display =\n",
              "        google.colab.kernel.accessAllowed ? 'block' : 'none';\n",
              "\n",
              "      buttonEl.onclick = () => {\n",
              "        google.colab.notebook.generateWithVariable('compare_results');\n",
              "      }\n",
              "      })();\n",
              "    </script>\n",
              "  </div>\n",
              "\n",
              "    </div>\n",
              "  </div>\n"
            ],
            "application/vnd.google.colaboratory.intrinsic+json": {
              "type": "dataframe",
              "variable_name": "compare_results",
              "summary": "{\n  \"name\": \"compare_results\",\n  \"rows\": 3,\n  \"fields\": [\n    {\n      \"column\": 0,\n      \"properties\": {\n        \"dtype\": \"string\",\n        \"num_unique_values\": 3,\n        \"samples\": [\n          \"FashionMNISTModelV0\",\n          \"FashionMNISTModelV1\",\n          \"FashionMNISTModelV2\"\n        ],\n        \"semantic_type\": \"\",\n        \"description\": \"\"\n      }\n    }\n  ]\n}"
            }
          },
          "metadata": {},
          "execution_count": 94
        },
        {
          "output_type": "display_data",
          "data": {
            "text/plain": [
              "<google.colab._quickchart_helpers.SectionTitle at 0x787bdaf49190>"
            ],
            "text/html": [
              "<h4 class=\"colab-quickchart-section-title\">Categorical distributions</h4>\n",
              "<style>\n",
              "  .colab-quickchart-section-title {\n",
              "      clear: both;\n",
              "  }\n",
              "</style>"
            ]
          },
          "metadata": {}
        },
        {
          "output_type": "display_data",
          "data": {
            "text/plain": [
              "from matplotlib import pyplot as plt\n",
              "import seaborn as sns\n",
              "compare_results.groupby(0).size().plot(kind='barh', color=sns.palettes.mpl_palette('Dark2'))\n",
              "plt.gca().spines[['top', 'right',]].set_visible(False)"
            ],
            "text/html": [
              "      <div class=\"colab-quickchart-chart-with-code\" id=\"chart-d290059f-8369-4f98-a44c-86fddb8c1993\">\n",
              "        <img style=\"width: 180px;\" src=\"data:image/png;base64,iVBORw0KGgoAAAANSUhEUgAAApYAAAGZCAYAAAAzTHFCAAAAOnRFWHRTb2Z0d2FyZQBNYXRwbG90\n",
              "bGliIHZlcnNpb24zLjEwLjAsIGh0dHBzOi8vbWF0cGxvdGxpYi5vcmcvlHJYcgAAAAlwSFlzAAAP\n",
              "YQAAD2EBqD+naQAAJplJREFUeJzt3XtUlXWi//HPFgQybzDOWItSvJBhgjsl8KR4FDQxi4jR8UIT\n",
              "6oYZ8qw8Ti5jsVatWedkl+NlWparvCSo0IWcMyOFUa2UvLXQKdjY1skZjyKWF6YFgpfkIs/vD1f7\n",
              "1w7BTX1lF75fa+0/2M+zv8/3+daKd89+HrVZlmUJAAAA+JG6+XoCAAAA6BoISwAAABhBWAIAAMAI\n",
              "whIAAABGEJYAAAAwgrAEAACAEYQlAAAAjCAsAQAAYARhCQAAACMIS3S6VatW+XoKAADgOiAs0emO\n",
              "Hz/u6ykAAIDrgLAEAACAEYQlAAAAjCAsAQAAYARhCQAAACMISwAAABhBWAIAAMAIwhIAAABGEJYA\n",
              "AAAwgrAEAACAEYQlAAAAjCAsAQAAYARhCQAAACMISwAAABhBWAIAAMAIwhIAAABGEJYAAAAwgrAE\n",
              "AACAEYQlAAAAjCAsAQAAYARhCQAAACMISwAAABhBWAIAAMAIwhIAAABGEJYAAAAwgrAEAACAEYQl\n",
              "AAAAjCAsAQAAYARhCQAAACNslmVZvp4EbizRo5IV/+/pvp4GAABdyrIXH/D1FLhiCQAAADMISwAA\n",
              "ABhBWAIAAMAIwhIAAABGEJYAAAAwgrAEAACAEYQlAAAAjCAsAQAAYARhCQAAACMISwAAABhBWAIA\n",
              "AMAIwhIAAABGEJYAAAAwgrAEAACAEYQlAAAAjCAsAQAAYARhCQAAACMISwAAABhBWAIAAMAIwhIA\n",
              "AABGEJYAAAAwgrAEAACAEYQlAAAAjCAsAQAAYARhCQAAACMISwAAABhBWAIAAMCI6xqWYWFhGjZs\n",
              "mOx2u+x2u9LT0zs8hs1m09mzZ6+67f7779fhw4d/1BwnTJiggIAAVVdXu987evSounXrpuTkZElS\n",
              "ZWWlbDabHA6He5/z58/LZrN5jLN161ZJ0okTJ5SUlKTIyEhFRkbKbrdrx44dWrNmjXstQkJCFBoa\n",
              "6v65pKREc+fOlc1mU3l5uXvcc+fOqWfPnrLb7R0+t6KiIk2YMOGa+23cuFHJycm6dOmSQkJC5HK5\n",
              "PLZXV1fr5ptv1pkzZ/TSSy9pxIgRioyMVFRUlPLz8zs8LwAA0DX5X+8DFBQU/KAo8sZ7771nZJyo\n",
              "qCjl5eVp8eLFkqScnByNHj3aY58ePXqouLhYhw4d0vDhw9sd77HHHlNCQoLeeecdSdLXX3+tixcv\n",
              "Kj4+XpmZmZKkuXPnym63a9GiRe7Pbdq0SaNHj1ZOTo5efvllSVfWLyIiQk1NTUbOtT1BQUFKTU1V\n",
              "bm6uVq5c6X5/8+bNuu+++9S/f3/ddddd2rt3r/r06aMTJ07o7rvv1r/9279pyJAh131+AADgp61T\n",
              "vwp/4403FBsbq7vvvlsjR47Uu+++6962dOlSRUREuK/gHT9+3L3tlVdeUUxMjAYNGqTc3Fz3+2Fh\n",
              "YXI6nZKkI0eOaNKkSYqKipLdbndfPZSuXPV87rnnrjqGJKWlpWnTpk2SpJaWFhUUFGjOnDke+3Tv\n",
              "3l3Z2dnKzs6+5nl++eWXCg0Ndf/cr18/DRgw4NoLJCklJUVFRUVqaGiQJOXm5mr+/Pke++Tl5Skq\n",
              "KkpRUVGaNm2avvrqK0lSU1OTFixYoPDwcMXExKikpKTV52JjYzVq1CiNHz9eFRUVrY7vcDiUn5/v\n",
              "EbK5ubnuq7UJCQnq06ePJOn222/XLbfcohMnTrR5Pg0NDaqvr/d4WS0tXq0FAAD4ebnuYTlz5kx3\n",
              "LAYGBqq0tFTl5eUqLCxURkaGGhoaVFtbqxUrVqisrExOp1OffPKJ+vfv7x4jMDBQ+/fvV3FxsRYu\n",
              "XKjm5uZWx0lNTdWMGTN04MABbdmyRQ6HwyNO2xvj20Dat2+fPvzwQ0VHRys4OLjVMTIzM+VyubR3\n",
              "7952zzkrK0sOh0Njx47V4sWLtWvXLq/Xq0ePHpo8ebK2bt2qL774QpZlKSIiwr3d5XJpyZIlKi4u\n",
              "1oEDB3Tvvfe6bzFYt26dDh8+rIMHD2rPnj0qKytzf27v3r168803tWvXLpWVlenZZ59tFc+SZLfb\n",
              "ddttt2nbtm2SpNLSUp09e1ZTp05tte9HH32k2tpa3XPPPW2ez/PPP68+ffp4vE6d+YfX6wEAAH4+\n",
              "rntYFhQUyOl0yul0auDAgZo6dapGjBih5ORk1dTU6NixY+rdu7fCw8P1yCOPaO3ataqpqVFQUJB7\n",
              "jNTUVEnSnXfeKX9/f50+fdrjGOfOnVNZWZn7qlp4eLjGjRun3bt3ez3G/PnztWHDBm3YsKHVFcJv\n",
              "de/eXc8884yysrLaPefZs2erqqrK/dX6Qw89pOXLl3uzXK3mMm/ePI9tJSUlSkxMdF8RXbBggXbs\n",
              "2KHLly9r+/btevTRRxUQEKCAgACP8ygsLFRFRYViY2Nlt9v1+OOPq6amRt98802r4zscDuXk5Ei6\n",
              "cltAWlqa/Pz8PPb5/PPPNW/ePBUUFOjmm29u81yys7NVV1fn8bq1/x1erwUAAPj56NSvwmfNmqX0\n",
              "9HS5XC45nU717NlTly5dkp+fn0pLS7Vo0SJVV1drzJgxHlH43cj08/O76hXL7/vugzXejJGcnKwP\n",
              "PvhAFRUVSkhIaHPc2bNn68KFCyosLGz3+MHBwUpJSdHKlSv16quvKi8v75pz/taYMWN08uRJvfXW\n",
              "W5o1a1a7+37/PNvaZlmW0tLS3JHvdDp16tQp3XTTTa0+N2fOHH388cc6evSo3n777VahfejQIT3w\n",
              "wAPKycnRuHHj2p1fYGCgevfu7fGydeMPIwAAoCvq1N/wtbW1GjRokCQpPz9ftbW1kq5ccTxz5ozi\n",
              "4uL09NNPa9y4cR5PRl9Lr169NGrUKPe9k0eOHNGePXs0fvx4r8cICgrSiy++qJdeeknd2gkfm82m\n",
              "F154QU899VSb+xQVFenixYuSrgRdeXl5hx9uWbVqlVasWKFevXp5vD9x4kS9//77OnnypCRpzZo1\n",
              "SkhIkJ+fnyZNmuS+P7KxsdHjXtKkpCTl5+erqqpK0pV7ST/99NOrHrtv375KSkpy38YwdOhQ97a/\n",
              "//3vuv/++7Vu3TpNnjy5Q+cEAAC6tuv+VPh3rVq1StOnT1ffvn0VHx/vfqClrq5O06dP14ULF2Sz\n",
              "2RQeHq60tLQOjf36668rMzNTq1evls1m02uvveb1AzPfSklJ8Wq/KVOmaPDgwaqsrLzq9p07d2rJ\n",
              "kiXy9/eXZVkaNmyYVq9e3aG5tHXVdMSIEVq+fLkSExMlXbk/dP369ZKkjIwMuVwuDR8+XMHBwYqL\n",
              "i9Nnn30mSYqLi9OyZcv08MMPq7m5WY2NjZo2bZqio6OvehyHw6H4+Hht3rzZ4/2FCxeqrq5OWVlZ\n",
              "7lsC/ud//kdTpkzp0PkBAICux2ZZluXrSeDGEj0qWfH/3vE/0xQAALRt2YsP+HoK/M07AAAAMIOw\n",
              "BAAAgBGEJQAAAIwgLAEAAGAEYQkAAAAjCEsAAAAYQVgCAADACMISAAAARhCWAAAAMIKwBAAAgBGE\n",
              "JQAAAIwgLAEAAGAEYQkAAAAjCEsAAAAYQVgCAADACMISAAAARhCWAAAAMIKwBAAAgBGEJQAAAIwg\n",
              "LAEAAGAEYQkAAAAjCEsAAAAYQVgCAADACMISAAAARhCWAAAAMMLf1xPAjWf8hMFa9qcHfD0NAABg\n",
              "GFcsAQAAYARhCQAAACMISwAAABhBWAIAAMAIwhIAAABGEJYAAAAwgrAEAACAEYQlAAAAjCAsAQAA\n",
              "YARhCQAAACMISwAAABhBWAIAAMAIwhIAAABGEJYAAAAwgrAEAACAEYQlAAAAjCAsAQAAYARhCQAA\n",
              "ACMISwAAABhBWAIAAMAIwhIAAABGEJYAAAAwgrAEAACAEYQlAAAAjCAsAQAAYARhCQAAACMISwAA\n",
              "ABhBWAIAAMAIwhIAAABGEJYAAAAwgrAEAACAEYQlAAAAjCAsAQAAYARhCQAAACMISwAAABhBWAIA\n",
              "AMAIwhIAAABGEJYAAAAwgrAEAACAEYQlAAAAjCAsAQAAYARhCQAAACMISwAAABhBWAIAAMAIwhIA\n",
              "AABGEJYAAAAwgrAEAACAEYQlAAAAjCAsAQAAYARhCQAAACMISwAAABhBWAIAAMAIwhIAAABGEJYA\n",
              "AAAwgrAEAACAEYQlAAAAjCAsAQAAYARhCQAAACMISwAAABhBWAIAAMAIwhIAAABG2CzLsnw9CdxY\n",
              "5t1lU/Y9/D8NAAAm3bHxsq+nwBVLAAAAmEFYAgAAwAjCEgAAAEYQlgAAADCCsAQAAIARhCUAAACM\n",
              "ICwBAABgBGEJAAAAIwhLAAAAGEFYAgAAwAjCEgAAAEYQlgAAADCCsAQAAIARhCUAAACMICwBAABg\n",
              "BGEJAAAAIwhLAAAAGEFYAgAAwAjCEgAAAEYQlgAAADCCsAQAAIARhCUAAACMICwBAABgBGEJAAAA\n",
              "IwhLAAAAGEFYAgAAwIjrGpZhYWEaNmyY7Ha77Ha70tPTOzyGzWbT2bNnr7rt/vvv1+HDh3/UHCdM\n",
              "mKCAgABVV1e73zt69Ki6deum5ORkSVJlZaVsNpscDod7n/Pnz8tms3mMs3XrVknSiRMnlJSUpMjI\n",
              "SEVGRsput2vHjh1as2aNey1CQkIUGhrq/rmkpERz586VzWZTeXm5e9xz586pZ8+estvtHT63oqIi\n",
              "TZgw4Zr7bdy4UcnJybp06ZJCQkLkcrk8tldXV+vmm2/WmTNntG3bNo0ePVqBgYFatGhRh+cEAAC6\n",
              "Lv+OfuDo0aOqqqqSJA0YMECDBw9ud/+CgoIfFEXeeO+994yMExUVpby8PC1evFiSlJOTo9GjR3vs\n",
              "06NHDxUXF+vQoUMaPnx4u+M99thjSkhI0DvvvCNJ+vrrr3Xx4kXFx8crMzNTkjR37lzZ7XaPONu0\n",
              "aZNGjx6tnJwcvfzyy5KurF9ERISampqMnGt7goKClJqaqtzcXK1cudL9/ubNm3Xfffepf//+Cg8P\n",
              "V05OjrZs2aLz589f9zkBAICfD6+vWP79739XTEyMxo4dq6ysLGVlZWns2LGKiYnRwYMHvRrjjTfe\n",
              "UGxsrO6++26NHDlS7777rnvb0qVLFRER4b6Cd/z4cfe2V155RTExMRo0aJByc3Pd74eFhcnpdEqS\n",
              "jhw5okmTJikqKkp2u9199VC6ctXzueeeu+oYkpSWlqZNmzZJklpaWlRQUKA5c+Z47NO9e3dlZ2cr\n",
              "Ozv7muf55ZdfKjQ01P1zv379NGDAgGsvkKSUlBQVFRWpoaFBkpSbm6v58+d77JOXl6eoqChFRUVp\n",
              "2rRp+uqrryRJTU1NWrBggcLDwxUTE6OSkpJWn4uNjdWoUaM0fvx4VVRUtDq+w+FQfn6+R8jm5ua6\n",
              "r9becccdGjlypPz9vft/koaGBtXX13u8Lrd49VEAAPAz43VYzp07V1lZWTp16pT27dunffv26dSp\n",
              "U3ryySc1b968Nj83c+ZMdywGBgaqtLRU5eXlKiwsVEZGhhoaGlRbW6sVK1aorKxMTqdTn3zyifr3\n",
              "7+8eIzAwUPv371dxcbEWLlyo5ubmVsdJTU3VjBkzdODAAW3ZskUOh8MjTtsb4/bbb9ctt9yiffv2\n",
              "6cMPP1R0dLSCg4NbHSMzM1Mul0t79+5td62ysrLkcDg0duxYLV68WLt27Wp3/+/q0aOHJk+erK1b\n",
              "t+qLL76QZVmKiIhwb3e5XFqyZImKi4t14MAB3Xvvve5bDNatW6fDhw/r4MGD2rNnj8rKytyf27t3\n",
              "r958803t2rVLZWVlevbZZ1vFsyTZ7Xbddttt2rZtmySptLRUZ8+e1dSpU70+h+96/vnn1adPH4/X\n",
              "ga9/0FAAAOAnzuuwPHv2rH7961+3en/69Omqq6tr83MFBQVyOp1yOp0aOHCgpk6dqhEjRig5OVk1\n",
              "NTU6duyYevfurfDwcD3yyCNau3atampqFBQU5B4jNTVVknTnnXfK399fp0+f9jjGuXPnVFZW5r6q\n",
              "Fh4ernHjxmn37t1ejzF//nxt2LBBGzZsaHWF8Fvdu3fXM888o6ysrPaWSrNnz1ZVVZX7q/WHHnpI\n",
              "y5cvb/czbc3l+9FeUlKixMRE9xXRBQsWaMeOHbp8+bK2b9+uRx99VAEBAQoICPA4j8LCQlVUVCg2\n",
              "NlZ2u12PP/64ampq9M0337Q6vsPhUE5OjqQrtwWkpaXJz8/P6/l/V3Z2turq6jxeUf1+0FAAAOAn\n",
              "zuuw7Nevn/Ly8tTS8v+/x2xpadGmTZv0i1/8wqsxZs2apfT0dLlcLjmdTvXs2VOXLl2Sn5+fSktL\n",
              "tWjRIlVXV2vMmDEeUfjdyPTz87vqFcvv++6DNd6MkZycrA8++EAVFRVKSEhoc9zZs2frwoULKiws\n",
              "bPf4wcHBSklJ0cqVK/Xqq68qLy/vmnP+1pgxY3Ty5Em99dZbmjVrVrv7fv8829pmWZbS0tLcke90\n",
              "OnXq1CnddNNNrT43Z84cffzxxzp69KjefvvtNkPbG4GBgerdu7fHy48/iwAAgC7J61/xmzZt0saN\n",
              "GxUSEqKIiAhFREQoJCTE/b43amtrNWjQIElSfn6+amtrJV254njmzBnFxcXp6aef1rhx4zyejL6W\n",
              "Xr16adSoUe57J48cOaI9e/Zo/PjxXo8RFBSkF198US+99JK6dWt7WWw2m1544QU99dRTbe5TVFSk\n",
              "ixcvSroSdOXl5RoyZIjXc5GkVatWacWKFerVq5fH+xMnTtT777+vkydPSpLWrFmjhIQE+fn5adKk\n",
              "Se77IxsbGz3uJU1KSlJ+fr77wauWlhZ9+umnVz123759lZSU5L6NYejQoR2aOwAAuDF5/VT40KFD\n",
              "tX37dv3rX//SiRMnJF25N/GXv/yl1wdbtWqVpk+frr59+yo+Pt79QEtdXZ2mT5+uCxcuyGazKTw8\n",
              "XGlpaR06kddff12ZmZlavXq1bDabXnvtNa8fmPlWSkqKV/tNmTJFgwcPVmVl5VW379y5U0uWLJG/\n",
              "v78sy9KwYcO0evXqDs2lraumI0aM0PLly5WYmCjpyj+D9evXS5IyMjLkcrk0fPhwBQcHKy4uTp99\n",
              "9pkkKS4uTsuWLdPDDz+s5uZmNTY2atq0aYqOjr7qcRwOh+Lj47V582aP97dv3660tDTV19fLsiz9\n",
              "+c9/1iuvvKKkpKQOnR8AAOh6bJZlWb6eBG4s8+6yKfsevg8HAMCkOzZe9vUU+Jt3AAAAYAZhCQAA\n",
              "ACMISwAAABhBWAIAAMAIwhIAAABGEJYAAAAwgrAEAACAEYQlAAAAjCAsAQAAYARhCQAAACMISwAA\n",
              "ABhBWAIAAMAIwhIAAABGEJYAAAAwgrAEAACAEYQlAAAAjCAsAQAAYARhCQAAACMISwAAABhBWAIA\n",
              "AMAIwhIAAABGEJYAAAAwgrAEAACAEYQlAAAAjCAsAQAAYIS/ryeAG0/wlD/ojj/9ydfTAAAAhnHF\n",
              "EgAAAEYQlgAAADCCsAQAAIARhCUAAACMICwBAABgBGEJAAAAIwhLAAAAGEFYAgAAwAjCEgAAAEYQ\n",
              "lgAAADCCsAQAAIARhCUAAACMICwBAABgBGEJAAAAIwhLAAAAGEFYAgAAwAjCEgAAAEYQlgAAADCC\n",
              "sAQAAIARhCUAAACMICwBAABgBGEJAAAAIwhLAAAAGEFYAgAAwAjCEgAAAEYQlgAAADCCsAQAAIAR\n",
              "hCUAAACMICwBAABgBGEJAAAAIwhLAAAAGEFYAgAAwAjCEgAAAEYQlgAAADCCsAQAAIARhCUAAACM\n",
              "ICwBAABgBGEJAAAAIwhLAAAAGEFYAgAAwAjCEgAAAEYQlgAAADCCsAQAAIARhCUAAACMICwBAABg\n",
              "BGEJAAAAIwhLAAAAGEFYAgAAwAjCEgAAAEYQlgAAADCCsAQAAIARhCUAAACMICwBAABgBGEJAAAA\n",
              "IwhLAAAAGEFYAgAAwAjCEgAAAEYQlgAAADCCsAQAAIARhCUAAACMICwBAABghM2yLMvXk8CNpeeU\n",
              "e9R3VoKvpwEAQJfy5bwXfD0FrlgCAADADMISAAAARhCWAAAAMIKwBAAAgBGEJQAAAIwgLAEAAGAE\n",
              "YQkAAAAjCEsAAAAYQVgCAADACMISAAAARhCWAAAAMIKwBAAAgBGEJQAAAIwgLAEAAGAEYQkAAAAj\n",
              "CEsAAAAYQVgCAADACMISAAAARhCWAAAAMIKwBAAAgBGEJQAAAIwgLAEAAGAEYQkAAAAjCEsAAAAY\n",
              "QVgCAADACMISAAAARlzXsAwLC9OwYcNkt9tlt9uVnp7e4TFsNpvOnj171W3333+/Dh8+/KPmOGHC\n",
              "BAUEBKi6utr93tGjR9WtWzclJydLkiorK2Wz2eRwONz7nD9/XjabzWOcrVu3SpJOnDihpKQkRUZG\n",
              "KjIyUna7XTt27NCaNWvcaxESEqLQ0FD3zyUlJZo7d65sNpvKy8vd4547d049e/aU3W7v8LkVFRVp\n",
              "woQJ19xv48aNSk5O1qVLlxQSEiKXy+Wxvbq6WjfffLPOnDmjlpYWPf744xoyZIiGDh2q1atXd3he\n",
              "AACga7ruVywLCgrkdDrldDr12muvGR37vffe07Bhw370OFFRUcrLy3P/nJOTo9GjR3vs06NHDxUX\n",
              "F+vQoUPXHO+xxx7TxIkT9fnnn+vzzz/XRx99pKFDhyozM9O9FklJSVqyZIn754kTJ0qSRo8erZyc\n",
              "HPdYBQUFioiI+NHn6I2goCClpqYqNzfX4/3NmzfrvvvuU//+/ZWfn69Dhw7pH//4h/bv36/ly5fr\n",
              "4MGDnTI/AADw09apX4W/8cYbio2N1d13362RI0fq3XffdW9bunSpIiIi3Ffwjh8/7t72yiuvKCYm\n",
              "RoMGDfKInrCwMDmdTknSkSNHNGnSJEVFRclut7uvHkpXrno+99xzVx1DktLS0rRp0yZJUktLiwoK\n",
              "CjRnzhyPfbp3767s7GxlZ2df8zy//PJLhYaGun/u16+fBgwYcO0FkpSSkqKioiI1NDRIknJzczV/\n",
              "/nyPffLy8hQVFaWoqChNmzZNX331lSSpqalJCxYsUHh4uGJiYlRSUtLqc7GxsRo1apTGjx+vioqK\n",
              "Vsd3OBzKz89XU1OT+73c3Fz31dqCggJlZGTIz89PISEhmjlzpt58802vzg0AAHRt1z0sZ86c6Y7F\n",
              "wMBAlZaWqry8XIWFhcrIyFBDQ4Nqa2u1YsUKlZWVyel06pNPPlH//v3dYwQGBmr//v0qLi7WwoUL\n",
              "1dzc3Oo4qampmjFjhg4cOKAtW7bI4XB4xGl7Y9x+++265ZZbtG/fPn344YeKjo5WcHBwq2NkZmbK\n",
              "5XJp79697Z5zVlaWHA6Hxo4dq8WLF2vXrl1er1ePHj00efJkbd26VV988YUsy/K4YulyubRkyRIV\n",
              "FxfrwIEDuvfee923GKxbt06HDx/WwYMHtWfPHpWVlbk/t3fvXr355pvatWuXysrK9Oyzz7aKZ0my\n",
              "2+267bbbtG3bNklSaWmpzp49q6lTp0qSqqqqNHDgQPf+YWFhqqqqavN8GhoaVF9f7/HSZcvr9QAA\n",
              "AD8fnfpV+MCBAzV16lSNGDFCycnJqqmp0bFjx9S7d2+Fh4frkUce0dq1a1VTU6OgoCD3GKmpqZKk\n",
              "O++8U/7+/jp9+rTHMc6dO6eysjL3VbXw8HCNGzdOu3fv9nqM+fPna8OGDdqwYUOrK4Tf6t69u555\n",
              "5hllZWW1e86zZ89WVVWVFi9eLEl66KGHtHz5cm+Wq9Vc5s2b57GtpKREiYmJ7iuiCxYs0I4dO3T5\n",
              "8mVt375djz76qAICAhQQEOBxHoWFhaqoqFBsbKzsdrsef/xx1dTU6Jtvvml1fIfD4f46PicnR2lp\n",
              "afLz8/N6/t/1/PPPq0+fPh6vxmOnftBYAADgp61TvwqfNWuW0tPT5XK55HQ61bNnT126dEl+fn4q\n",
              "LS3VokWLVF1drTFjxnhE4Xcj08/P76pXLL/vuw/WeDNGcnKyPvjgA1VUVCghIaHNcWfPnq0LFy6o\n",
              "sLCw3eMHBwcrJSVFK1eu1KuvvupxD+e1jBkzRidPntRbb72lWbNmtbvv98+zrW2WZSktLc0d+U6n\n",
              "U6dOndJNN93U6nNz5szRxx9/rKNHj+rtt9/2CNQBAwZ4XAmurKxs92v+7Oxs1dXVebwCBt3a7jkB\n",
              "AICfp04Ny9raWg0aNEiSlJ+fr9raWklXrjieOXNGcXFxevrppzVu3DiPJ6OvpVevXho1apT73skj\n",
              "R45oz549Gj9+vNdjBAUF6cUXX9RLL72kbt3aXhabzaYXXnhBTz31VJv7FBUV6eLFi5KuBF15ebmG\n",
              "DBni9VwkadWqVVqxYoV69erl8f7EiRP1/vvv6+TJk5KkNWvWKCEhQX5+fpo0aZL7/sjGxkaPe0mT\n",
              "kpKUn5/v/tq6paVFn3766VWP3bdvXyUlJblvYxg6dKh724wZM7R+/XpdvnxZNTU1Kigo0MyZM9s8\n",
              "j8DAQPXu3dvjJb+2YxgAAPx8+XfmwVatWqXp06erb9++io+Pd1/pqqur0/Tp03XhwgXZbDaFh4cr\n",
              "LS2tQ2O//vrryszM1OrVq2Wz2fTaa695/cDMt1JSUrzab8qUKRo8eLAqKyuvun3nzp1asmSJ/P39\n",
              "ZVmWhg0b1uE/lqetq6YjRozQ8uXLlZiYKOnK/aHr16+XJGVkZMjlcmn48OEKDg5WXFycPvvsM0lS\n",
              "XFycli1bpocffljNzc1qbGzUtGnTFB0dfdXjOBwOxcfHa/PmzR7v//a3v9Xf/vY3hYeHy2az6Ykn\n",
              "nlBkZGSHzg0AAHRNNsuyeJICnarnlHvUd1bbtxsAAICO+3LeC76eAn/zDgAAAMwgLAEAAGAEYQkA\n",
              "AAAjCEsAAAAYQVgCAADACMISAAAARhCWAAAAMIKwBAAAgBGEJQAAAIwgLAEAAGAEYQkAAAAjCEsA\n",
              "AAAYQVgCAADACMISAAAARhCWAAAAMIKwBAAAgBGEJQAAAIwgLAEAAGAEYQkAAAAjCEsAAAAYQVgC\n",
              "AADACMISAAAARhCWAAAAMIKwBAAAgBGEJQAAAIzw9/UEcOP53V1x+tO8F3w9DQAAYBhXLAEAAGAE\n",
              "YQkAAAAjCEsAAAAYQVgCAADACMISAAAARhCWAAAAMIKwBAAAgBGEJQAAAIwgLAEAAGAEYQkAAAAj\n",
              "CEsAAAAYQVgCAADACMISAAAARhCWAAAAMIKwBAAAgBGEJQAAAIwgLAEAAGAEYQkAAAAjCEsAAAAY\n",
              "QVgCAADACMISAAAARhCWAAAAMIKwBAAAgBGEJQAAAIwgLAEAAGAEYQkAAAAjCEsAAAAYQVgCAADA\n",
              "CMISAAAARhCWAAAAMMLf1xPAjaWhoUHFxcW6fPmy/Pz8fD2dG8bly5e1f/9+xcTEsO6djLX3Ddbd\n",
              "d1h73+iMdR84cKD+8z//s919bJZlWdfl6MBV1NfXq0+fPqqrq1Pv3r19PZ0bBuvuO6y9b7DuvsPa\n",
              "+8ZPZd35KhwAAABGEJYAAAAwgrAEAACAEYQlOlVgYKD++Mc/KjAw0NdTuaGw7r7D2vsG6+47rL1v\n",
              "/FTWnYd3AAAAYARXLAEAAGAEYQkAAAAjCEsAAAAYQVjiuvjnP/+pe++9V3fccYfuueceHTx48Kr7\n",
              "bdiwQeHh4RoyZIgyMjLU1NTUyTPtWrxZ9x07digmJkbDhw/XXXfdpSeffFItLS0+mG3X4e2/75Jk\n",
              "WZbi4+PVt2/fzptgF+bt2n/++eeaMGGCIiIiFBERob/85S+dPNOuxZt1b2lp0RNPPKHhw4crKipK\n",
              "EydO1JEjR3ww265j4cKFCgsLk81mk9PpbHM/n/5utYDrYOLEiVZubq5lWZa1ZcsWKzo6utU+R48e\n",
              "tW699Vbr1KlTVktLi/Xggw9aq1ev7uSZdi3erHtZWZn1f//3f5ZlWdY333xjjR071v0Z/DDerPu3\n",
              "Vq5caaWnp1t9+vTpnMl1cd6s/YULF6xBgwZZu3fvtizLspqbm63q6urOnGaX4826//Wvf7ViYmKs\n",
              "xsZGy7Is65lnnrFmzJjRmdPscnbu3GmdOHHCGjhwoFVeXn7VfXz9u5WwhHFnzpyxevXqZTU1NVmW\n",
              "ZVktLS1W//79rX/+858e+y1btsz6/e9/7/5527Zt1tixYzt1rl2Jt+v+ff/xH/9h/fGPf+yEGXZN\n",
              "HVl3l8tlxcXFWUeOHCEsDfB27devX2/Nnj3bF1Pskrxd961bt1ojR4606uvrrZaWFmvJkiXWH/7w\n",
              "B19MuctpLyx9/buVr8Jh3IkTJ3TrrbfK399fkmSz2TRgwABVVVV57FdVVaWBAwe6fw4LC2u1D7zn\n",
              "7bp/1+nTp/XnP/9ZDzzwQGdNs8vxdt2bmpqUkZGhtWvXys/PzxdT7XK8XftDhw4pMDBQDzzwgOx2\n",
              "ux599FH961//8sWUuwRv1/3BBx/UhAkTdMstt+jWW2/V9u3b9d///d++mPINxde/WwlL4AZVX1+v\n",
              "Bx98UE8++aSio6N9PZ0u77/+67+UkpKiiIgIX0/lhtPc3KyPPvpIa9euVXl5uUJDQ/XYY4/5elpd\n",
              "3qeffiqXy6WvvvpKJ0+eVEJCgjIzM309LVxnhCWMu/3223Xq1Ck1NzdLuvKwQlVVlQYMGOCx34AB\n",
              "A3T8+HH3z5WVla32gfe8XXdJOnfunBITE/XQQw/piSee6OypdinervvOnTv18ssvKywsTOPGjVN9\n",
              "fb3CwsK4cvYjdOS/NRMnTlRoaKhsNpseeeQRlZaW+mLKXYK3675582b3g2rdunVTWlqaSkpKfDHl\n",
              "G4qvf7cSljDuV7/6lUaNGqX8/HxJ0v/+7//qtttu09ChQz32+/Wvf6133nlHp0+flmVZWrNmjWbN\n",
              "muWLKXcJ3q77+fPnlZiYqMTERD311FO+mGqX4u267969W8ePH1dlZaX27Nmj3r17q7KyUr/85S99\n",
              "Me0uwdu1/81vfqO//e1vqq+vlyS99957GjlyZKfPt6vwdt0HDx6sHTt2qLGxUZJUVFSkESNGdPp8\n",
              "bzQ+/93aaXdz4obyxRdfWGPGjLHCw8Ot0aNHWwcOHLAsy7IcDodVWFjo3m/dunXW4MGDrcGDB1vz\n",
              "5893Pz2IH8abdV+6dKnl7+9vjRw50v1aunSpL6f9s+ftv+/fOnbsGA/vGOLt2m/evNm66667rMjI\n",
              "SCsxMdGqqqry1ZS7BG/W/dKlS1Z6erp15513WpGRkdbkyZPdfyIFfpjf/e53VmhoqOXn52f96le/\n",
              "soYMGWJZ1k/rdyt/VzgAAACM4KtwAAAAGEFYAgAAwAjCEgAAAEYQlgAAADCCsAQAAIARhCUAAACM\n",
              "ICwBAABgBGEJAAAAIwhLAAAAGEFYAgAAwAjCEgAAAEb8PziTkBPKe+XeAAAAAElFTkSuQmCC\n",
              "\">\n",
              "      </div>\n",
              "      <script type=\"text/javascript\">\n",
              "        (() => {\n",
              "          const chartElement = document.getElementById(\"chart-d290059f-8369-4f98-a44c-86fddb8c1993\");\n",
              "          async function getCodeForChartHandler(event) {\n",
              "            const chartCodeResponse =  await google.colab.kernel.invokeFunction(\n",
              "                'getCodeForChart', [\"chart-d290059f-8369-4f98-a44c-86fddb8c1993\"], {});\n",
              "            const responseJson = chartCodeResponse.data['application/json'];\n",
              "            await google.colab.notebook.addCell(responseJson.code, 'code');\n",
              "          }\n",
              "          chartElement.onclick = getCodeForChartHandler;\n",
              "        })();\n",
              "      </script>\n",
              "      <style>\n",
              "        .colab-quickchart-chart-with-code  {\n",
              "            display: block;\n",
              "            float: left;\n",
              "            border: 1px solid transparent;\n",
              "        }\n",
              "\n",
              "        .colab-quickchart-chart-with-code:hover {\n",
              "            cursor: pointer;\n",
              "            border: 1px solid #aaa;\n",
              "        }\n",
              "      </style>"
            ]
          },
          "metadata": {}
        }
      ]
    }
  ]
}